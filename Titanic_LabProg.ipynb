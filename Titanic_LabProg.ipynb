{
  "nbformat": 4,
  "nbformat_minor": 0,
  "metadata": {
    "colab": {
      "provenance": [],
      "collapsed_sections": [
        "hCZKaZKR5kAs"
      ],
      "include_colab_link": true
    },
    "kernelspec": {
      "name": "python3",
      "display_name": "Python 3"
    },
    "language_info": {
      "name": "python"
    }
  },
  "cells": [
    {
      "cell_type": "markdown",
      "metadata": {
        "id": "view-in-github",
        "colab_type": "text"
      },
      "source": [
        "<a href=\"https://colab.research.google.com/github/cledjan/LabProg/blob/main/Titanic_LabProg.ipynb\" target=\"_parent\"><img src=\"https://colab.research.google.com/assets/colab-badge.svg\" alt=\"Open In Colab\"/></a>"
      ]
    },
    {
      "cell_type": "markdown",
      "metadata": {
        "id": "hCZKaZKR5kAs"
      },
      "source": [
        "# Base de Dados: Titanic\n",
        "Base: https://www.kaggle.com/c/titanic"
      ]
    },
    {
      "cell_type": "markdown",
      "source": [
        "**Objetivo:**\n",
        "\n",
        "1.   Análise:\n",
        "   1.1. Análise exploratória dos dados;\n",
        "   1.2. Detecção de dados duplicados;\n",
        "   1.3. Detecção de dados faltantes;\n",
        "   1.4. Detecção de outliers;\n",
        "2.   Pré-Processamento\n",
        "   2.1. Limpeza dos dados;\n",
        "   2.2. Análise do balanceamento das classes; \n",
        "   2.3. Transformação de atributos categóricos; \n",
        "   2.4. Discretização de atributos."
      ],
      "metadata": {
        "id": "A-oO9m5X3DCK"
      }
    },
    {
      "cell_type": "markdown",
      "source": [
        "# Imports"
      ],
      "metadata": {
        "id": "BiMlCagN6DXI"
      }
    },
    {
      "cell_type": "code",
      "source": [
        "import pandas as pd \n",
        "import numpy as np\n",
        "import matplotlib.pyplot as plt\n",
        "import seaborn as sns\n",
        "from sklearn.preprocessing import LabelEncoder"
      ],
      "metadata": {
        "id": "s2hwg-NB2lqY"
      },
      "execution_count": null,
      "outputs": []
    },
    {
      "cell_type": "markdown",
      "source": [
        "# Análise"
      ],
      "metadata": {
        "id": "t5Ng4kp96S3z"
      }
    },
    {
      "cell_type": "markdown",
      "source": [
        "## Importar Dataset"
      ],
      "metadata": {
        "id": "GIyhEwNXADy2"
      }
    },
    {
      "cell_type": "code",
      "source": [
        "# 1. Carregar datasets\n",
        "\n",
        "# Importando dataset de treino\n",
        "input_file_train = \"train.csv\"\n",
        "df_train = pd.read_csv(input_file_train, header = 0)\n",
        "df_train"
      ],
      "metadata": {
        "colab": {
          "base_uri": "https://localhost:8080/",
          "height": 424
        },
        "id": "7QrGBnPg6VZ9",
        "outputId": "fd715ea9-eb62-42a8-ea49-872250e8b37b"
      },
      "execution_count": null,
      "outputs": [
        {
          "output_type": "execute_result",
          "data": {
            "text/plain": [
              "     PassengerId  Survived  Pclass  \\\n",
              "0              1         0       3   \n",
              "1              2         1       1   \n",
              "2              3         1       3   \n",
              "3              4         1       1   \n",
              "4              5         0       3   \n",
              "..           ...       ...     ...   \n",
              "886          887         0       2   \n",
              "887          888         1       1   \n",
              "888          889         0       3   \n",
              "889          890         1       1   \n",
              "890          891         0       3   \n",
              "\n",
              "                                                  Name     Sex   Age  SibSp  \\\n",
              "0                              Braund, Mr. Owen Harris    male  22.0      1   \n",
              "1    Cumings, Mrs. John Bradley (Florence Briggs Th...  female  38.0      1   \n",
              "2                               Heikkinen, Miss. Laina  female  26.0      0   \n",
              "3         Futrelle, Mrs. Jacques Heath (Lily May Peel)  female  35.0      1   \n",
              "4                             Allen, Mr. William Henry    male  35.0      0   \n",
              "..                                                 ...     ...   ...    ...   \n",
              "886                              Montvila, Rev. Juozas    male  27.0      0   \n",
              "887                       Graham, Miss. Margaret Edith  female  19.0      0   \n",
              "888           Johnston, Miss. Catherine Helen \"Carrie\"  female   NaN      1   \n",
              "889                              Behr, Mr. Karl Howell    male  26.0      0   \n",
              "890                                Dooley, Mr. Patrick    male  32.0      0   \n",
              "\n",
              "     Parch            Ticket     Fare Cabin Embarked  \n",
              "0        0         A/5 21171   7.2500   NaN        S  \n",
              "1        0          PC 17599  71.2833   C85        C  \n",
              "2        0  STON/O2. 3101282   7.9250   NaN        S  \n",
              "3        0            113803  53.1000  C123        S  \n",
              "4        0            373450   8.0500   NaN        S  \n",
              "..     ...               ...      ...   ...      ...  \n",
              "886      0            211536  13.0000   NaN        S  \n",
              "887      0            112053  30.0000   B42        S  \n",
              "888      2        W./C. 6607  23.4500   NaN        S  \n",
              "889      0            111369  30.0000  C148        C  \n",
              "890      0            370376   7.7500   NaN        Q  \n",
              "\n",
              "[891 rows x 12 columns]"
            ],
            "text/html": [
              "\n",
              "  <div id=\"df-e50ba86c-8380-4398-9f93-aa81cd26a42c\">\n",
              "    <div class=\"colab-df-container\">\n",
              "      <div>\n",
              "<style scoped>\n",
              "    .dataframe tbody tr th:only-of-type {\n",
              "        vertical-align: middle;\n",
              "    }\n",
              "\n",
              "    .dataframe tbody tr th {\n",
              "        vertical-align: top;\n",
              "    }\n",
              "\n",
              "    .dataframe thead th {\n",
              "        text-align: right;\n",
              "    }\n",
              "</style>\n",
              "<table border=\"1\" class=\"dataframe\">\n",
              "  <thead>\n",
              "    <tr style=\"text-align: right;\">\n",
              "      <th></th>\n",
              "      <th>PassengerId</th>\n",
              "      <th>Survived</th>\n",
              "      <th>Pclass</th>\n",
              "      <th>Name</th>\n",
              "      <th>Sex</th>\n",
              "      <th>Age</th>\n",
              "      <th>SibSp</th>\n",
              "      <th>Parch</th>\n",
              "      <th>Ticket</th>\n",
              "      <th>Fare</th>\n",
              "      <th>Cabin</th>\n",
              "      <th>Embarked</th>\n",
              "    </tr>\n",
              "  </thead>\n",
              "  <tbody>\n",
              "    <tr>\n",
              "      <th>0</th>\n",
              "      <td>1</td>\n",
              "      <td>0</td>\n",
              "      <td>3</td>\n",
              "      <td>Braund, Mr. Owen Harris</td>\n",
              "      <td>male</td>\n",
              "      <td>22.0</td>\n",
              "      <td>1</td>\n",
              "      <td>0</td>\n",
              "      <td>A/5 21171</td>\n",
              "      <td>7.2500</td>\n",
              "      <td>NaN</td>\n",
              "      <td>S</td>\n",
              "    </tr>\n",
              "    <tr>\n",
              "      <th>1</th>\n",
              "      <td>2</td>\n",
              "      <td>1</td>\n",
              "      <td>1</td>\n",
              "      <td>Cumings, Mrs. John Bradley (Florence Briggs Th...</td>\n",
              "      <td>female</td>\n",
              "      <td>38.0</td>\n",
              "      <td>1</td>\n",
              "      <td>0</td>\n",
              "      <td>PC 17599</td>\n",
              "      <td>71.2833</td>\n",
              "      <td>C85</td>\n",
              "      <td>C</td>\n",
              "    </tr>\n",
              "    <tr>\n",
              "      <th>2</th>\n",
              "      <td>3</td>\n",
              "      <td>1</td>\n",
              "      <td>3</td>\n",
              "      <td>Heikkinen, Miss. Laina</td>\n",
              "      <td>female</td>\n",
              "      <td>26.0</td>\n",
              "      <td>0</td>\n",
              "      <td>0</td>\n",
              "      <td>STON/O2. 3101282</td>\n",
              "      <td>7.9250</td>\n",
              "      <td>NaN</td>\n",
              "      <td>S</td>\n",
              "    </tr>\n",
              "    <tr>\n",
              "      <th>3</th>\n",
              "      <td>4</td>\n",
              "      <td>1</td>\n",
              "      <td>1</td>\n",
              "      <td>Futrelle, Mrs. Jacques Heath (Lily May Peel)</td>\n",
              "      <td>female</td>\n",
              "      <td>35.0</td>\n",
              "      <td>1</td>\n",
              "      <td>0</td>\n",
              "      <td>113803</td>\n",
              "      <td>53.1000</td>\n",
              "      <td>C123</td>\n",
              "      <td>S</td>\n",
              "    </tr>\n",
              "    <tr>\n",
              "      <th>4</th>\n",
              "      <td>5</td>\n",
              "      <td>0</td>\n",
              "      <td>3</td>\n",
              "      <td>Allen, Mr. William Henry</td>\n",
              "      <td>male</td>\n",
              "      <td>35.0</td>\n",
              "      <td>0</td>\n",
              "      <td>0</td>\n",
              "      <td>373450</td>\n",
              "      <td>8.0500</td>\n",
              "      <td>NaN</td>\n",
              "      <td>S</td>\n",
              "    </tr>\n",
              "    <tr>\n",
              "      <th>...</th>\n",
              "      <td>...</td>\n",
              "      <td>...</td>\n",
              "      <td>...</td>\n",
              "      <td>...</td>\n",
              "      <td>...</td>\n",
              "      <td>...</td>\n",
              "      <td>...</td>\n",
              "      <td>...</td>\n",
              "      <td>...</td>\n",
              "      <td>...</td>\n",
              "      <td>...</td>\n",
              "      <td>...</td>\n",
              "    </tr>\n",
              "    <tr>\n",
              "      <th>886</th>\n",
              "      <td>887</td>\n",
              "      <td>0</td>\n",
              "      <td>2</td>\n",
              "      <td>Montvila, Rev. Juozas</td>\n",
              "      <td>male</td>\n",
              "      <td>27.0</td>\n",
              "      <td>0</td>\n",
              "      <td>0</td>\n",
              "      <td>211536</td>\n",
              "      <td>13.0000</td>\n",
              "      <td>NaN</td>\n",
              "      <td>S</td>\n",
              "    </tr>\n",
              "    <tr>\n",
              "      <th>887</th>\n",
              "      <td>888</td>\n",
              "      <td>1</td>\n",
              "      <td>1</td>\n",
              "      <td>Graham, Miss. Margaret Edith</td>\n",
              "      <td>female</td>\n",
              "      <td>19.0</td>\n",
              "      <td>0</td>\n",
              "      <td>0</td>\n",
              "      <td>112053</td>\n",
              "      <td>30.0000</td>\n",
              "      <td>B42</td>\n",
              "      <td>S</td>\n",
              "    </tr>\n",
              "    <tr>\n",
              "      <th>888</th>\n",
              "      <td>889</td>\n",
              "      <td>0</td>\n",
              "      <td>3</td>\n",
              "      <td>Johnston, Miss. Catherine Helen \"Carrie\"</td>\n",
              "      <td>female</td>\n",
              "      <td>NaN</td>\n",
              "      <td>1</td>\n",
              "      <td>2</td>\n",
              "      <td>W./C. 6607</td>\n",
              "      <td>23.4500</td>\n",
              "      <td>NaN</td>\n",
              "      <td>S</td>\n",
              "    </tr>\n",
              "    <tr>\n",
              "      <th>889</th>\n",
              "      <td>890</td>\n",
              "      <td>1</td>\n",
              "      <td>1</td>\n",
              "      <td>Behr, Mr. Karl Howell</td>\n",
              "      <td>male</td>\n",
              "      <td>26.0</td>\n",
              "      <td>0</td>\n",
              "      <td>0</td>\n",
              "      <td>111369</td>\n",
              "      <td>30.0000</td>\n",
              "      <td>C148</td>\n",
              "      <td>C</td>\n",
              "    </tr>\n",
              "    <tr>\n",
              "      <th>890</th>\n",
              "      <td>891</td>\n",
              "      <td>0</td>\n",
              "      <td>3</td>\n",
              "      <td>Dooley, Mr. Patrick</td>\n",
              "      <td>male</td>\n",
              "      <td>32.0</td>\n",
              "      <td>0</td>\n",
              "      <td>0</td>\n",
              "      <td>370376</td>\n",
              "      <td>7.7500</td>\n",
              "      <td>NaN</td>\n",
              "      <td>Q</td>\n",
              "    </tr>\n",
              "  </tbody>\n",
              "</table>\n",
              "<p>891 rows × 12 columns</p>\n",
              "</div>\n",
              "      <button class=\"colab-df-convert\" onclick=\"convertToInteractive('df-e50ba86c-8380-4398-9f93-aa81cd26a42c')\"\n",
              "              title=\"Convert this dataframe to an interactive table.\"\n",
              "              style=\"display:none;\">\n",
              "        \n",
              "  <svg xmlns=\"http://www.w3.org/2000/svg\" height=\"24px\"viewBox=\"0 0 24 24\"\n",
              "       width=\"24px\">\n",
              "    <path d=\"M0 0h24v24H0V0z\" fill=\"none\"/>\n",
              "    <path d=\"M18.56 5.44l.94 2.06.94-2.06 2.06-.94-2.06-.94-.94-2.06-.94 2.06-2.06.94zm-11 1L8.5 8.5l.94-2.06 2.06-.94-2.06-.94L8.5 2.5l-.94 2.06-2.06.94zm10 10l.94 2.06.94-2.06 2.06-.94-2.06-.94-.94-2.06-.94 2.06-2.06.94z\"/><path d=\"M17.41 7.96l-1.37-1.37c-.4-.4-.92-.59-1.43-.59-.52 0-1.04.2-1.43.59L10.3 9.45l-7.72 7.72c-.78.78-.78 2.05 0 2.83L4 21.41c.39.39.9.59 1.41.59.51 0 1.02-.2 1.41-.59l7.78-7.78 2.81-2.81c.8-.78.8-2.07 0-2.86zM5.41 20L4 18.59l7.72-7.72 1.47 1.35L5.41 20z\"/>\n",
              "  </svg>\n",
              "      </button>\n",
              "      \n",
              "  <style>\n",
              "    .colab-df-container {\n",
              "      display:flex;\n",
              "      flex-wrap:wrap;\n",
              "      gap: 12px;\n",
              "    }\n",
              "\n",
              "    .colab-df-convert {\n",
              "      background-color: #E8F0FE;\n",
              "      border: none;\n",
              "      border-radius: 50%;\n",
              "      cursor: pointer;\n",
              "      display: none;\n",
              "      fill: #1967D2;\n",
              "      height: 32px;\n",
              "      padding: 0 0 0 0;\n",
              "      width: 32px;\n",
              "    }\n",
              "\n",
              "    .colab-df-convert:hover {\n",
              "      background-color: #E2EBFA;\n",
              "      box-shadow: 0px 1px 2px rgba(60, 64, 67, 0.3), 0px 1px 3px 1px rgba(60, 64, 67, 0.15);\n",
              "      fill: #174EA6;\n",
              "    }\n",
              "\n",
              "    [theme=dark] .colab-df-convert {\n",
              "      background-color: #3B4455;\n",
              "      fill: #D2E3FC;\n",
              "    }\n",
              "\n",
              "    [theme=dark] .colab-df-convert:hover {\n",
              "      background-color: #434B5C;\n",
              "      box-shadow: 0px 1px 3px 1px rgba(0, 0, 0, 0.15);\n",
              "      filter: drop-shadow(0px 1px 2px rgba(0, 0, 0, 0.3));\n",
              "      fill: #FFFFFF;\n",
              "    }\n",
              "  </style>\n",
              "\n",
              "      <script>\n",
              "        const buttonEl =\n",
              "          document.querySelector('#df-e50ba86c-8380-4398-9f93-aa81cd26a42c button.colab-df-convert');\n",
              "        buttonEl.style.display =\n",
              "          google.colab.kernel.accessAllowed ? 'block' : 'none';\n",
              "\n",
              "        async function convertToInteractive(key) {\n",
              "          const element = document.querySelector('#df-e50ba86c-8380-4398-9f93-aa81cd26a42c');\n",
              "          const dataTable =\n",
              "            await google.colab.kernel.invokeFunction('convertToInteractive',\n",
              "                                                     [key], {});\n",
              "          if (!dataTable) return;\n",
              "\n",
              "          const docLinkHtml = 'Like what you see? Visit the ' +\n",
              "            '<a target=\"_blank\" href=https://colab.research.google.com/notebooks/data_table.ipynb>data table notebook</a>'\n",
              "            + ' to learn more about interactive tables.';\n",
              "          element.innerHTML = '';\n",
              "          dataTable['output_type'] = 'display_data';\n",
              "          await google.colab.output.renderOutput(dataTable, element);\n",
              "          const docLink = document.createElement('div');\n",
              "          docLink.innerHTML = docLinkHtml;\n",
              "          element.appendChild(docLink);\n",
              "        }\n",
              "      </script>\n",
              "    </div>\n",
              "  </div>\n",
              "  "
            ]
          },
          "metadata": {},
          "execution_count": 2
        }
      ]
    },
    {
      "cell_type": "markdown",
      "source": [
        "**Dicionário de Dados:**\n",
        "\n",
        "* Survived (Sobreviveu): 0 = Não, 1 = Sim\n",
        "* Pclass (Classe): Classe de ingresso \n",
        "* Sex (Sexo): Sexo do passageiro\n",
        "* Age (Idade): Idade em anos\n",
        "* Sibsp: Quantidade de irmãos / cônjuges a bordo do Titanic\n",
        "* Parch: Quantidade de pais / crianças a bordo do Titanic\n",
        "* Ticket (Bilhete): Número do bilhete de embarque\n",
        "* Fare (Tarifa): Tarifa paga pelo Passageiro\n",
        "* Cabin (Cabine): Número de cabine\n",
        "* Embarked (Embarque): Porto de Embarque (C = Cherbourg, Q=Queenstown, S = Southampton)\n",
        "\n",
        "\n"
      ],
      "metadata": {
        "id": "41nfLsbe7sZV"
      }
    },
    {
      "cell_type": "markdown",
      "source": [
        "## Identificar tipos de cada variável"
      ],
      "metadata": {
        "id": "N0PvLehpAJ2m"
      }
    },
    {
      "cell_type": "code",
      "source": [
        "#Checando tipo de dados\n",
        "type(df_train)"
      ],
      "metadata": {
        "colab": {
          "base_uri": "https://localhost:8080/"
        },
        "id": "sTgGjRB69o4P",
        "outputId": "b725f2b7-efa5-4fac-979c-0815ee2ec68b"
      },
      "execution_count": null,
      "outputs": [
        {
          "output_type": "execute_result",
          "data": {
            "text/plain": [
              "pandas.core.frame.DataFrame"
            ]
          },
          "metadata": {},
          "execution_count": 3
        }
      ]
    },
    {
      "cell_type": "code",
      "source": [
        "#O método dtypes() exibe apenas os tipos das variáveis\n",
        "df_train.dtypes"
      ],
      "metadata": {
        "colab": {
          "base_uri": "https://localhost:8080/"
        },
        "id": "DmqGdhGJdUVO",
        "outputId": "e876eb1d-fc97-41bd-e5a8-7007b86263ed"
      },
      "execution_count": null,
      "outputs": [
        {
          "output_type": "execute_result",
          "data": {
            "text/plain": [
              "PassengerId      int64\n",
              "Survived         int64\n",
              "Pclass           int64\n",
              "Name            object\n",
              "Sex             object\n",
              "Age            float64\n",
              "SibSp            int64\n",
              "Parch            int64\n",
              "Ticket          object\n",
              "Fare           float64\n",
              "Cabin           object\n",
              "Embarked        object\n",
              "dtype: object"
            ]
          },
          "metadata": {},
          "execution_count": 4
        }
      ]
    },
    {
      "cell_type": "code",
      "source": [
        "#Checando tipo de dados\n",
        "df_train.info()"
      ],
      "metadata": {
        "colab": {
          "base_uri": "https://localhost:8080/"
        },
        "id": "YsOAhyTS-L3R",
        "outputId": "5d5e45fc-23ab-46c9-e016-0a87b45cd678"
      },
      "execution_count": null,
      "outputs": [
        {
          "output_type": "stream",
          "name": "stdout",
          "text": [
            "<class 'pandas.core.frame.DataFrame'>\n",
            "RangeIndex: 891 entries, 0 to 890\n",
            "Data columns (total 12 columns):\n",
            " #   Column       Non-Null Count  Dtype  \n",
            "---  ------       --------------  -----  \n",
            " 0   PassengerId  891 non-null    int64  \n",
            " 1   Survived     891 non-null    int64  \n",
            " 2   Pclass       891 non-null    int64  \n",
            " 3   Name         891 non-null    object \n",
            " 4   Sex          891 non-null    object \n",
            " 5   Age          714 non-null    float64\n",
            " 6   SibSp        891 non-null    int64  \n",
            " 7   Parch        891 non-null    int64  \n",
            " 8   Ticket       891 non-null    object \n",
            " 9   Fare         891 non-null    float64\n",
            " 10  Cabin        204 non-null    object \n",
            " 11  Embarked     889 non-null    object \n",
            "dtypes: float64(2), int64(5), object(5)\n",
            "memory usage: 83.7+ KB\n"
          ]
        }
      ]
    },
    {
      "cell_type": "code",
      "source": [
        "# Quantidade de observações e variáveis no banco de dados\n",
        "df_train.shape"
      ],
      "metadata": {
        "colab": {
          "base_uri": "https://localhost:8080/"
        },
        "id": "_kgohzcbd3Nw",
        "outputId": "bf111bca-0b12-4612-81bc-71896c72a534"
      },
      "execution_count": null,
      "outputs": [
        {
          "output_type": "execute_result",
          "data": {
            "text/plain": [
              "(891, 12)"
            ]
          },
          "metadata": {},
          "execution_count": 6
        }
      ]
    },
    {
      "cell_type": "code",
      "source": [
        "print('A base de dados apresenta {} registros (passageiros) e {} variáveis'.format(df_train.shape[0], df_train.shape[1]))"
      ],
      "metadata": {
        "colab": {
          "base_uri": "https://localhost:8080/"
        },
        "id": "euXx6tlleJ7Y",
        "outputId": "6f7fe25c-6a76-4936-9fca-4220d7fceb07"
      },
      "execution_count": null,
      "outputs": [
        {
          "output_type": "stream",
          "name": "stdout",
          "text": [
            "A base de dados apresenta 891 registros (passageiros) e 12 variáveis\n"
          ]
        }
      ]
    },
    {
      "cell_type": "markdown",
      "source": [
        "**Para as features numéricas temos o seguinte cenário:**\n",
        "\n",
        "*   3 variáveis discretas: pclass, sibSp e parch.\n",
        "*   2 variáveis contínuas: fare e age.\n",
        "*   1 variável Id: passengerid (chave primária).\n",
        "*   1 binário: survived (booleano).\n",
        "\n",
        "**Para as features categóricas, temos:**\n",
        "\n",
        "*   4 variáveis nominais: Name, Sex, Ticket e Cabin\n",
        "\n",
        "\n"
      ],
      "metadata": {
        "id": "LHE6rKt85kUS"
      }
    },
    {
      "cell_type": "markdown",
      "source": [
        "## Estatística dos dados"
      ],
      "metadata": {
        "id": "eX7YvVX_Azbz"
      }
    },
    {
      "cell_type": "code",
      "source": [
        "df_train.describe()"
      ],
      "metadata": {
        "colab": {
          "base_uri": "https://localhost:8080/",
          "height": 300
        },
        "id": "WleDULqP_krB",
        "outputId": "779ec5ba-2efc-4dab-ff2e-304ba00b0f4e"
      },
      "execution_count": null,
      "outputs": [
        {
          "output_type": "execute_result",
          "data": {
            "text/plain": [
              "       PassengerId    Survived      Pclass         Age       SibSp  \\\n",
              "count   891.000000  891.000000  891.000000  714.000000  891.000000   \n",
              "mean    446.000000    0.383838    2.308642   29.699118    0.523008   \n",
              "std     257.353842    0.486592    0.836071   14.526497    1.102743   \n",
              "min       1.000000    0.000000    1.000000    0.420000    0.000000   \n",
              "25%     223.500000    0.000000    2.000000   20.125000    0.000000   \n",
              "50%     446.000000    0.000000    3.000000   28.000000    0.000000   \n",
              "75%     668.500000    1.000000    3.000000   38.000000    1.000000   \n",
              "max     891.000000    1.000000    3.000000   80.000000    8.000000   \n",
              "\n",
              "            Parch        Fare  \n",
              "count  891.000000  891.000000  \n",
              "mean     0.381594   32.204208  \n",
              "std      0.806057   49.693429  \n",
              "min      0.000000    0.000000  \n",
              "25%      0.000000    7.910400  \n",
              "50%      0.000000   14.454200  \n",
              "75%      0.000000   31.000000  \n",
              "max      6.000000  512.329200  "
            ],
            "text/html": [
              "\n",
              "  <div id=\"df-20ea6953-0451-46f3-96b8-81e25fe8a891\">\n",
              "    <div class=\"colab-df-container\">\n",
              "      <div>\n",
              "<style scoped>\n",
              "    .dataframe tbody tr th:only-of-type {\n",
              "        vertical-align: middle;\n",
              "    }\n",
              "\n",
              "    .dataframe tbody tr th {\n",
              "        vertical-align: top;\n",
              "    }\n",
              "\n",
              "    .dataframe thead th {\n",
              "        text-align: right;\n",
              "    }\n",
              "</style>\n",
              "<table border=\"1\" class=\"dataframe\">\n",
              "  <thead>\n",
              "    <tr style=\"text-align: right;\">\n",
              "      <th></th>\n",
              "      <th>PassengerId</th>\n",
              "      <th>Survived</th>\n",
              "      <th>Pclass</th>\n",
              "      <th>Age</th>\n",
              "      <th>SibSp</th>\n",
              "      <th>Parch</th>\n",
              "      <th>Fare</th>\n",
              "    </tr>\n",
              "  </thead>\n",
              "  <tbody>\n",
              "    <tr>\n",
              "      <th>count</th>\n",
              "      <td>891.000000</td>\n",
              "      <td>891.000000</td>\n",
              "      <td>891.000000</td>\n",
              "      <td>714.000000</td>\n",
              "      <td>891.000000</td>\n",
              "      <td>891.000000</td>\n",
              "      <td>891.000000</td>\n",
              "    </tr>\n",
              "    <tr>\n",
              "      <th>mean</th>\n",
              "      <td>446.000000</td>\n",
              "      <td>0.383838</td>\n",
              "      <td>2.308642</td>\n",
              "      <td>29.699118</td>\n",
              "      <td>0.523008</td>\n",
              "      <td>0.381594</td>\n",
              "      <td>32.204208</td>\n",
              "    </tr>\n",
              "    <tr>\n",
              "      <th>std</th>\n",
              "      <td>257.353842</td>\n",
              "      <td>0.486592</td>\n",
              "      <td>0.836071</td>\n",
              "      <td>14.526497</td>\n",
              "      <td>1.102743</td>\n",
              "      <td>0.806057</td>\n",
              "      <td>49.693429</td>\n",
              "    </tr>\n",
              "    <tr>\n",
              "      <th>min</th>\n",
              "      <td>1.000000</td>\n",
              "      <td>0.000000</td>\n",
              "      <td>1.000000</td>\n",
              "      <td>0.420000</td>\n",
              "      <td>0.000000</td>\n",
              "      <td>0.000000</td>\n",
              "      <td>0.000000</td>\n",
              "    </tr>\n",
              "    <tr>\n",
              "      <th>25%</th>\n",
              "      <td>223.500000</td>\n",
              "      <td>0.000000</td>\n",
              "      <td>2.000000</td>\n",
              "      <td>20.125000</td>\n",
              "      <td>0.000000</td>\n",
              "      <td>0.000000</td>\n",
              "      <td>7.910400</td>\n",
              "    </tr>\n",
              "    <tr>\n",
              "      <th>50%</th>\n",
              "      <td>446.000000</td>\n",
              "      <td>0.000000</td>\n",
              "      <td>3.000000</td>\n",
              "      <td>28.000000</td>\n",
              "      <td>0.000000</td>\n",
              "      <td>0.000000</td>\n",
              "      <td>14.454200</td>\n",
              "    </tr>\n",
              "    <tr>\n",
              "      <th>75%</th>\n",
              "      <td>668.500000</td>\n",
              "      <td>1.000000</td>\n",
              "      <td>3.000000</td>\n",
              "      <td>38.000000</td>\n",
              "      <td>1.000000</td>\n",
              "      <td>0.000000</td>\n",
              "      <td>31.000000</td>\n",
              "    </tr>\n",
              "    <tr>\n",
              "      <th>max</th>\n",
              "      <td>891.000000</td>\n",
              "      <td>1.000000</td>\n",
              "      <td>3.000000</td>\n",
              "      <td>80.000000</td>\n",
              "      <td>8.000000</td>\n",
              "      <td>6.000000</td>\n",
              "      <td>512.329200</td>\n",
              "    </tr>\n",
              "  </tbody>\n",
              "</table>\n",
              "</div>\n",
              "      <button class=\"colab-df-convert\" onclick=\"convertToInteractive('df-20ea6953-0451-46f3-96b8-81e25fe8a891')\"\n",
              "              title=\"Convert this dataframe to an interactive table.\"\n",
              "              style=\"display:none;\">\n",
              "        \n",
              "  <svg xmlns=\"http://www.w3.org/2000/svg\" height=\"24px\"viewBox=\"0 0 24 24\"\n",
              "       width=\"24px\">\n",
              "    <path d=\"M0 0h24v24H0V0z\" fill=\"none\"/>\n",
              "    <path d=\"M18.56 5.44l.94 2.06.94-2.06 2.06-.94-2.06-.94-.94-2.06-.94 2.06-2.06.94zm-11 1L8.5 8.5l.94-2.06 2.06-.94-2.06-.94L8.5 2.5l-.94 2.06-2.06.94zm10 10l.94 2.06.94-2.06 2.06-.94-2.06-.94-.94-2.06-.94 2.06-2.06.94z\"/><path d=\"M17.41 7.96l-1.37-1.37c-.4-.4-.92-.59-1.43-.59-.52 0-1.04.2-1.43.59L10.3 9.45l-7.72 7.72c-.78.78-.78 2.05 0 2.83L4 21.41c.39.39.9.59 1.41.59.51 0 1.02-.2 1.41-.59l7.78-7.78 2.81-2.81c.8-.78.8-2.07 0-2.86zM5.41 20L4 18.59l7.72-7.72 1.47 1.35L5.41 20z\"/>\n",
              "  </svg>\n",
              "      </button>\n",
              "      \n",
              "  <style>\n",
              "    .colab-df-container {\n",
              "      display:flex;\n",
              "      flex-wrap:wrap;\n",
              "      gap: 12px;\n",
              "    }\n",
              "\n",
              "    .colab-df-convert {\n",
              "      background-color: #E8F0FE;\n",
              "      border: none;\n",
              "      border-radius: 50%;\n",
              "      cursor: pointer;\n",
              "      display: none;\n",
              "      fill: #1967D2;\n",
              "      height: 32px;\n",
              "      padding: 0 0 0 0;\n",
              "      width: 32px;\n",
              "    }\n",
              "\n",
              "    .colab-df-convert:hover {\n",
              "      background-color: #E2EBFA;\n",
              "      box-shadow: 0px 1px 2px rgba(60, 64, 67, 0.3), 0px 1px 3px 1px rgba(60, 64, 67, 0.15);\n",
              "      fill: #174EA6;\n",
              "    }\n",
              "\n",
              "    [theme=dark] .colab-df-convert {\n",
              "      background-color: #3B4455;\n",
              "      fill: #D2E3FC;\n",
              "    }\n",
              "\n",
              "    [theme=dark] .colab-df-convert:hover {\n",
              "      background-color: #434B5C;\n",
              "      box-shadow: 0px 1px 3px 1px rgba(0, 0, 0, 0.15);\n",
              "      filter: drop-shadow(0px 1px 2px rgba(0, 0, 0, 0.3));\n",
              "      fill: #FFFFFF;\n",
              "    }\n",
              "  </style>\n",
              "\n",
              "      <script>\n",
              "        const buttonEl =\n",
              "          document.querySelector('#df-20ea6953-0451-46f3-96b8-81e25fe8a891 button.colab-df-convert');\n",
              "        buttonEl.style.display =\n",
              "          google.colab.kernel.accessAllowed ? 'block' : 'none';\n",
              "\n",
              "        async function convertToInteractive(key) {\n",
              "          const element = document.querySelector('#df-20ea6953-0451-46f3-96b8-81e25fe8a891');\n",
              "          const dataTable =\n",
              "            await google.colab.kernel.invokeFunction('convertToInteractive',\n",
              "                                                     [key], {});\n",
              "          if (!dataTable) return;\n",
              "\n",
              "          const docLinkHtml = 'Like what you see? Visit the ' +\n",
              "            '<a target=\"_blank\" href=https://colab.research.google.com/notebooks/data_table.ipynb>data table notebook</a>'\n",
              "            + ' to learn more about interactive tables.';\n",
              "          element.innerHTML = '';\n",
              "          dataTable['output_type'] = 'display_data';\n",
              "          await google.colab.output.renderOutput(dataTable, element);\n",
              "          const docLink = document.createElement('div');\n",
              "          docLink.innerHTML = docLinkHtml;\n",
              "          element.appendChild(docLink);\n",
              "        }\n",
              "      </script>\n",
              "    </div>\n",
              "  </div>\n",
              "  "
            ]
          },
          "metadata": {},
          "execution_count": 7
        }
      ]
    },
    {
      "cell_type": "code",
      "source": [
        "#Percentual de dados faltantes \n",
        "round(df_train.isnull().mean() *100,2)"
      ],
      "metadata": {
        "colab": {
          "base_uri": "https://localhost:8080/"
        },
        "id": "0B43vjJIHUE2",
        "outputId": "b0516cad-7929-47fc-f413-f6df101abb1b"
      },
      "execution_count": null,
      "outputs": [
        {
          "output_type": "execute_result",
          "data": {
            "text/plain": [
              "PassengerId     0.00\n",
              "Survived        0.00\n",
              "Pclass          0.00\n",
              "Name            0.00\n",
              "Sex             0.00\n",
              "Age            19.87\n",
              "SibSp           0.00\n",
              "Parch           0.00\n",
              "Ticket          0.00\n",
              "Fare            0.00\n",
              "Cabin          77.10\n",
              "Embarked        0.22\n",
              "dtype: float64"
            ]
          },
          "metadata": {},
          "execution_count": 89
        }
      ]
    },
    {
      "cell_type": "code",
      "source": [
        "#Retorna o número de vezes que um valor aparece em uma tabela\n",
        "df_train['Embarked'].value_counts()"
      ],
      "metadata": {
        "colab": {
          "base_uri": "https://localhost:8080/"
        },
        "id": "Rqrf1OW2NDwY",
        "outputId": "a6b713e9-2021-4c2a-fb6f-a377efa3c03a"
      },
      "execution_count": null,
      "outputs": [
        {
          "output_type": "execute_result",
          "data": {
            "text/plain": [
              "S    644\n",
              "C    168\n",
              "Q     77\n",
              "Name: Embarked, dtype: int64"
            ]
          },
          "metadata": {},
          "execution_count": 8
        }
      ]
    },
    {
      "cell_type": "code",
      "source": [
        "df_train.groupby('Embarked')['Embarked'].count()"
      ],
      "metadata": {
        "colab": {
          "base_uri": "https://localhost:8080/"
        },
        "id": "iU_wh-4VYm3N",
        "outputId": "1e815efd-2e04-40fd-ca55-10dd0f43c5ff"
      },
      "execution_count": null,
      "outputs": [
        {
          "output_type": "execute_result",
          "data": {
            "text/plain": [
              "Embarked\n",
              "C    168\n",
              "Q     77\n",
              "S    644\n",
              "Name: Embarked, dtype: int64"
            ]
          },
          "metadata": {},
          "execution_count": 9
        }
      ]
    },
    {
      "cell_type": "code",
      "source": [
        "df_train['Sex'].value_counts()"
      ],
      "metadata": {
        "colab": {
          "base_uri": "https://localhost:8080/"
        },
        "id": "XgXdXwIqcUmv",
        "outputId": "befa25f0-7427-4396-a738-226726390429"
      },
      "execution_count": null,
      "outputs": [
        {
          "output_type": "execute_result",
          "data": {
            "text/plain": [
              "male      577\n",
              "female    314\n",
              "Name: Sex, dtype: int64"
            ]
          },
          "metadata": {},
          "execution_count": 10
        }
      ]
    },
    {
      "cell_type": "code",
      "source": [
        "#Com a função unique() podemos visualizar as classes presentes em uma determina feature categórica.\n",
        "df_train['Sex'].unique()"
      ],
      "metadata": {
        "colab": {
          "base_uri": "https://localhost:8080/"
        },
        "id": "raVsUAhRlPml",
        "outputId": "3424e937-1de1-40fa-8b1d-baf9653f16b1"
      },
      "execution_count": null,
      "outputs": [
        {
          "output_type": "execute_result",
          "data": {
            "text/plain": [
              "array(['male', 'female'], dtype=object)"
            ]
          },
          "metadata": {},
          "execution_count": 90
        }
      ]
    },
    {
      "cell_type": "code",
      "source": [
        "#Registros duplicados\n",
        "#A função 'duplicated' retorna uma Series com valores bool, sendo 'true' os valores duplicados\n",
        "duplicados = df_train.duplicated()\n",
        "duplicados"
      ],
      "metadata": {
        "colab": {
          "base_uri": "https://localhost:8080/"
        },
        "id": "996ph25gPo1E",
        "outputId": "a80004c1-1bd9-4f98-b897-56db81823cb0"
      },
      "execution_count": null,
      "outputs": [
        {
          "output_type": "execute_result",
          "data": {
            "text/plain": [
              "0      False\n",
              "1      False\n",
              "2      False\n",
              "3      False\n",
              "4      False\n",
              "       ...  \n",
              "886    False\n",
              "887    False\n",
              "888    False\n",
              "889    False\n",
              "890    False\n",
              "Length: 891, dtype: bool"
            ]
          },
          "metadata": {},
          "execution_count": 12
        }
      ]
    },
    {
      "cell_type": "code",
      "source": [
        "# Como excluir dulicados?]\n",
        "duplicados.sum()"
      ],
      "metadata": {
        "colab": {
          "base_uri": "https://localhost:8080/"
        },
        "id": "NQ_rIb2ZQNlG",
        "outputId": "3b5629f5-3388-4f44-c253-73aa119d052c"
      },
      "execution_count": null,
      "outputs": [
        {
          "output_type": "execute_result",
          "data": {
            "text/plain": [
              "0"
            ]
          },
          "metadata": {},
          "execution_count": 13
        }
      ]
    },
    {
      "cell_type": "markdown",
      "source": [
        "## Valores vazios"
      ],
      "metadata": {
        "id": "4BQqCc1CmET5"
      }
    },
    {
      "cell_type": "code",
      "source": [
        "# Checa valores vazios no dataset \n",
        "df_train.isnull().sum()"
      ],
      "metadata": {
        "colab": {
          "base_uri": "https://localhost:8080/"
        },
        "id": "anVn_LaYcBz-",
        "outputId": "612f943e-390f-41d4-c05b-21663193f6e0"
      },
      "execution_count": null,
      "outputs": [
        {
          "output_type": "execute_result",
          "data": {
            "text/plain": [
              "PassengerId      0\n",
              "Survived         0\n",
              "Pclass           0\n",
              "Name             0\n",
              "Sex              0\n",
              "Age            177\n",
              "SibSp            0\n",
              "Parch            0\n",
              "Ticket           0\n",
              "Fare             0\n",
              "Cabin          687\n",
              "Embarked         2\n",
              "dtype: int64"
            ]
          },
          "metadata": {},
          "execution_count": 3
        }
      ]
    },
    {
      "cell_type": "markdown",
      "source": [
        "## Survived"
      ],
      "metadata": {
        "id": "lDNzmJ6I-NE9"
      }
    },
    {
      "cell_type": "code",
      "source": [
        "# Qual a porcentagem de sobreviventes?\n",
        "# Balanceamento dos dados\n",
        "\n",
        "df_train.groupby('Survived')['Survived'].count()"
      ],
      "metadata": {
        "colab": {
          "base_uri": "https://localhost:8080/"
        },
        "id": "QON-wMRDuS65",
        "outputId": "010b0a2c-29ff-48ca-d082-410bb78c2986"
      },
      "execution_count": null,
      "outputs": [
        {
          "output_type": "execute_result",
          "data": {
            "text/plain": [
              "Survived\n",
              "0    549\n",
              "1    342\n",
              "Name: Survived, dtype: int64"
            ]
          },
          "metadata": {},
          "execution_count": 4
        }
      ]
    },
    {
      "cell_type": "code",
      "source": [
        "df_train['Survived'].value_counts()"
      ],
      "metadata": {
        "colab": {
          "base_uri": "https://localhost:8080/"
        },
        "id": "1dGbrd06AM8b",
        "outputId": "f0cee2a7-6a8a-4d83-dd6f-8d05b51db89b"
      },
      "execution_count": null,
      "outputs": [
        {
          "output_type": "execute_result",
          "data": {
            "text/plain": [
              "0    549\n",
              "1    340\n",
              "Name: Survived, dtype: int64"
            ]
          },
          "metadata": {},
          "execution_count": 22
        }
      ]
    },
    {
      "cell_type": "code",
      "source": [
        "#Gráfico Pizza\n",
        "#Cria a figura e traça os traça os eixos\n",
        "fig = plt.figure(figsize=(6,5))\n",
        "eixo = fig.add_axes([0,0,1,1])\n",
        "\n",
        "explodir = [0,0.1]\n",
        "\n",
        "#criação gráfico pizza\n",
        "#Porcentagem de cada fatia - autopct\n",
        "#Dar ênfase em determinados valores - explode\n",
        "eixo.pie(df_train['Survived'].value_counts(), explode=explodir, shadow=True, labels=('Não sobreviventes','Sobreviventes'),autopct='%.1f%%')\n",
        "#título\n",
        "eixo.set_title('Percentual de Sobrevidentes', size=15, pad=10)"
      ],
      "metadata": {
        "colab": {
          "base_uri": "https://localhost:8080/",
          "height": 431
        },
        "id": "I7-HY1Q7oNAO",
        "outputId": "c02e1e61-5aad-4625-a9da-6a9be84376e9"
      },
      "execution_count": null,
      "outputs": [
        {
          "output_type": "execute_result",
          "data": {
            "text/plain": [
              "Text(0.5, 1.0, 'Percentual de Sobrevidentes')"
            ]
          },
          "metadata": {},
          "execution_count": 9
        },
        {
          "output_type": "display_data",
          "data": {
            "text/plain": [
              "<Figure size 432x360 with 1 Axes>"
            ],
            "image/png": "[encoded data removed]"
          },
          "metadata": {}
        }
      ]
    },
    {
      "cell_type": "markdown",
      "source": [
        "## Sex"
      ],
      "metadata": {
        "id": "BkWLD9USz-aU"
      }
    },
    {
      "cell_type": "code",
      "source": [
        "#Total de homens x mulheres\n",
        "plt.hist(df_train['Sex'],bins=5, color=('blue'))"
      ],
      "metadata": {
        "colab": {
          "base_uri": "https://localhost:8080/",
          "height": 322
        },
        "id": "G92SOfQOJHwA",
        "outputId": "6d54a0de-acf3-44df-c38c-caba51ac5586"
      },
      "execution_count": null,
      "outputs": [
        {
          "output_type": "execute_result",
          "data": {
            "text/plain": [
              "(array([577.,   0.,   0.,   0., 314.]),\n",
              " array([0. , 0.2, 0.4, 0.6, 0.8, 1. ]),\n",
              " <a list of 5 Patch objects>)"
            ]
          },
          "metadata": {},
          "execution_count": 21
        },
        {
          "output_type": "display_data",
          "data": {
            "text/plain": [
              "<Figure size 432x288 with 1 Axes>"
            ],
            "image/png": "[encoded data removed]"
          },
          "metadata": {
            "needs_background": "light"
          }
        }
      ]
    },
    {
      "cell_type": "code",
      "source": [
        "#Total de homens x mulheres sobreviventes\n",
        "df_sobreviventes = df_train.query('Survived == 1')\n",
        "plt.hist(df_sobreviventes['Sex'], bins=5)\n"
      ],
      "metadata": {
        "colab": {
          "base_uri": "https://localhost:8080/",
          "height": 320
        },
        "id": "GHGRXIsLAHQB",
        "outputId": "a474f462-c9a4-478a-c4d3-c33b517b3ae5"
      },
      "execution_count": null,
      "outputs": [
        {
          "output_type": "execute_result",
          "data": {
            "text/plain": [
              "(array([233.,   0.,   0.,   0., 109.]),\n",
              " array([0. , 0.2, 0.4, 0.6, 0.8, 1. ]),\n",
              " <a list of 5 Patch objects>)"
            ]
          },
          "metadata": {},
          "execution_count": 24
        },
        {
          "output_type": "display_data",
          "data": {
            "text/plain": [
              "<Figure size 432x288 with 1 Axes>"
            ],
            "image/png": "[encoded data removed]"
          },
          "metadata": {
            "needs_background": "light"
          }
        }
      ]
    },
    {
      "cell_type": "code",
      "source": [
        "#Relação do sexo com a sobrevivência\n",
        "sns.barplot(x='Sex', y='Survived',data=df_train)"
      ],
      "metadata": {
        "colab": {
          "base_uri": "https://localhost:8080/",
          "height": 297
        },
        "id": "CO-dxvVTII8U",
        "outputId": "faaee95b-dec5-4bb3-e1f4-32bd1b00386f"
      },
      "execution_count": null,
      "outputs": [
        {
          "output_type": "execute_result",
          "data": {
            "text/plain": [
              "<matplotlib.axes._subplots.AxesSubplot at 0x7f966a2ea820>"
            ]
          },
          "metadata": {},
          "execution_count": 30
        },
        {
          "output_type": "display_data",
          "data": {
            "text/plain": [
              "<Figure size 432x288 with 1 Axes>"
            ],
            "image/png": "[encoded data removed]"
          },
          "metadata": {
            "needs_background": "light"
          }
        }
      ]
    },
    {
      "cell_type": "markdown",
      "source": [
        "## Age"
      ],
      "metadata": {
        "id": "7uY10-4y3t2k"
      }
    },
    {
      "cell_type": "code",
      "source": [
        "#Gera histograma de frequencia de idade\n",
        "plt.figure();\n",
        "df_train.hist(column='Age', color=('blue'), alpha=0.5, bins=10, figsize=(10,4))\n",
        "plt.title('Faixa Etária dos Passageiros')\n",
        "plt.xlabel('Idade')\n",
        "plt.ylabel('Frequência')"
      ],
      "metadata": {
        "colab": {
          "base_uri": "https://localhost:8080/",
          "height": 332
        },
        "id": "anHDAPkFEhtE",
        "outputId": "d5f57afc-b1eb-43a0-ca91-df219f458bb3"
      },
      "execution_count": null,
      "outputs": [
        {
          "output_type": "execute_result",
          "data": {
            "text/plain": [
              "Text(0, 0.5, 'Frequência')"
            ]
          },
          "metadata": {},
          "execution_count": 44
        },
        {
          "output_type": "display_data",
          "data": {
            "text/plain": [
              "<Figure size 432x288 with 0 Axes>"
            ]
          },
          "metadata": {}
        },
        {
          "output_type": "display_data",
          "data": {
            "text/plain": [
              "<Figure size 720x288 with 1 Axes>"
            ],
            "image/png": "[encoded data removed]"
          },
          "metadata": {
            "needs_background": "light"
          }
        }
      ]
    },
    {
      "cell_type": "code",
      "source": [
        "#Gráfico de dispersão\n",
        "sns.scatterplot(x= 'Age', y= 'Fare', data=df_train)"
      ],
      "metadata": {
        "colab": {
          "base_uri": "https://localhost:8080/",
          "height": 297
        },
        "id": "zDJNh27C1UsH",
        "outputId": "ceea2562-ba67-45b5-edf7-6d47f099c37e"
      },
      "execution_count": null,
      "outputs": [
        {
          "output_type": "execute_result",
          "data": {
            "text/plain": [
              "<matplotlib.axes._subplots.AxesSubplot at 0x7f2411cd1a00>"
            ]
          },
          "metadata": {},
          "execution_count": 45
        },
        {
          "output_type": "display_data",
          "data": {
            "text/plain": [
              "<Figure size 432x288 with 1 Axes>"
            ],
            "image/png": "[encoded data removed]"
          },
          "metadata": {
            "needs_background": "light"
          }
        }
      ]
    },
    {
      "cell_type": "code",
      "source": [
        "# Plot o histograma para checar a frequência de distribuição das idades\n",
        "# Com 20 intervalos\n",
        "plt.hist(df_train['Age'],bins=40) # Criar intervalos de: 0 a 15; 15 a 30; 30 a 45; 45 a 65; acima de 65\n"
      ],
      "metadata": {
        "colab": {
          "base_uri": "https://localhost:8080/",
          "height": 468
        },
        "id": "4BM9Yk7-1dnj",
        "outputId": "3323de39-42b3-4897-c6aa-cf5317105cb4"
      },
      "execution_count": null,
      "outputs": [
        {
          "output_type": "execute_result",
          "data": {
            "text/plain": [
              "(array([24., 16.,  7.,  7., 10.,  5.,  8., 23., 39., 40., 52., 46., 42.,\n",
              "        43., 47., 37., 32., 41., 18., 27., 21., 14., 17., 18., 16., 13.,\n",
              "         9.,  7.,  7.,  6.,  7.,  4.,  4.,  0.,  2.,  3.,  1.,  0.,  0.,\n",
              "         1.]),\n",
              " array([ 0.42  ,  2.4095,  4.399 ,  6.3885,  8.378 , 10.3675, 12.357 ,\n",
              "        14.3465, 16.336 , 18.3255, 20.315 , 22.3045, 24.294 , 26.2835,\n",
              "        28.273 , 30.2625, 32.252 , 34.2415, 36.231 , 38.2205, 40.21  ,\n",
              "        42.1995, 44.189 , 46.1785, 48.168 , 50.1575, 52.147 , 54.1365,\n",
              "        56.126 , 58.1155, 60.105 , 62.0945, 64.084 , 66.0735, 68.063 ,\n",
              "        70.0525, 72.042 , 74.0315, 76.021 , 78.0105, 80.    ]),\n",
              " <a list of 40 Patch objects>)"
            ]
          },
          "metadata": {},
          "execution_count": 44
        },
        {
          "output_type": "display_data",
          "data": {
            "text/plain": [
              "<Figure size 432x288 with 1 Axes>"
            ],
            "image/png": "[encoded data removed]"
          },
          "metadata": {
            "needs_background": "light"
          }
        }
      ]
    },
    {
      "cell_type": "code",
      "source": [
        "sns.histplot(df_train, x='Age')"
      ],
      "metadata": {
        "colab": {
          "base_uri": "https://localhost:8080/",
          "height": 297
        },
        "id": "QCLnIW_m_BEo",
        "outputId": "7404614d-a0d7-4895-9ca0-64808bb7b43d"
      },
      "execution_count": null,
      "outputs": [
        {
          "output_type": "execute_result",
          "data": {
            "text/plain": [
              "<matplotlib.axes._subplots.AxesSubplot at 0x7f966a0f4520>"
            ]
          },
          "metadata": {},
          "execution_count": 41
        },
        {
          "output_type": "display_data",
          "data": {
            "text/plain": [
              "<Figure size 432x288 with 1 Axes>"
            ],
            "image/png": "[encoded data removed]"
          },
          "metadata": {
            "needs_background": "light"
          }
        }
      ]
    },
    {
      "cell_type": "code",
      "source": [
        "# Gerar o bloxpot para checar os valores outliers (acima de 65 anos)\n",
        "# Mostra o resumo das propriedades de um conjunto de valores numéricos como mínimo, primeiro quartil, mediana, terceiro quartil e máximo\n",
        "sns.boxplot(y='Age', data=df_train, palette='rainbow')\n",
        "\n",
        "# Métricas estatísticas\n",
        "df_train['Age'].describe()"
      ],
      "metadata": {
        "colab": {
          "base_uri": "https://localhost:8080/",
          "height": 418
        },
        "id": "7SxWr1qX0lZP",
        "outputId": "901c1142-01c4-436c-dea0-41d34965a549"
      },
      "execution_count": null,
      "outputs": [
        {
          "output_type": "execute_result",
          "data": {
            "text/plain": [
              "count    714.000000\n",
              "mean      29.699118\n",
              "std       14.526497\n",
              "min        0.420000\n",
              "25%       20.125000\n",
              "50%       28.000000\n",
              "75%       38.000000\n",
              "max       80.000000\n",
              "Name: Age, dtype: float64"
            ]
          },
          "metadata": {},
          "execution_count": 53
        },
        {
          "output_type": "display_data",
          "data": {
            "text/plain": [
              "<Figure size 432x288 with 1 Axes>"
            ],
            "image/png": "[encoded data removed]"
          },
          "metadata": {
            "needs_background": "light"
          }
        }
      ]
    },
    {
      "cell_type": "markdown",
      "source": [
        "**Violinplot**"
      ],
      "metadata": {
        "id": "6WJqvm4yTDBV"
      }
    },
    {
      "cell_type": "markdown",
      "source": [
        "![box_violin.webp](data:image/webp;base64,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)"
      ],
      "metadata": {
        "id": "sZe9X2XTS73M"
      }
    },
    {
      "cell_type": "code",
      "source": [
        "# Combina a visualização do histograma e boxplot.\n",
        "# Além das informações que o boxplot já traz consigo, existe a exibição da densidade dos dados. \n",
        "sns.violinplot(x='Survived', y='Age', data=df_train)"
      ],
      "metadata": {
        "colab": {
          "base_uri": "https://localhost:8080/",
          "height": 297
        },
        "id": "MlTF9m9RLu2T",
        "outputId": "eaa032b3-fe8d-45d3-b648-03d89abcde3d"
      },
      "execution_count": null,
      "outputs": [
        {
          "output_type": "execute_result",
          "data": {
            "text/plain": [
              "<matplotlib.axes._subplots.AxesSubplot at 0x7f9666752580>"
            ]
          },
          "metadata": {},
          "execution_count": 55
        },
        {
          "output_type": "display_data",
          "data": {
            "text/plain": [
              "<Figure size 432x288 with 1 Axes>"
            ],
            "image/png": "[encoded data removed]"
          },
          "metadata": {
            "needs_background": "light"
          }
        }
      ]
    },
    {
      "cell_type": "code",
      "source": [
        "#Divide os dados em grupos de criancas e adultos\n",
        "df_train['Crianca_Adulto'] = 0\n",
        "df_train.loc[df_train[df_train['Age'] < 18].index, 'Crianca_Adulto'] = 'Criança'\n",
        "df_train.loc[df_train[df_train['Age'] >= 18].index, 'Crianca_Adulto'] = 'Adulto'\n"
      ],
      "metadata": {
        "id": "vxLbEjukK8Pd"
      },
      "execution_count": null,
      "outputs": []
    },
    {
      "cell_type": "code",
      "source": [
        "df_train"
      ],
      "metadata": {
        "colab": {
          "base_uri": "https://localhost:8080/",
          "height": 502
        },
        "id": "Jxncz3NF7Dbk",
        "outputId": "2830170c-35c4-47bf-e00e-34d93850f6fe"
      },
      "execution_count": null,
      "outputs": [
        {
          "output_type": "execute_result",
          "data": {
            "text/plain": [
              "     PassengerId  Survived  Pclass  \\\n",
              "0              1         0       3   \n",
              "1              2         1       1   \n",
              "2              3         1       3   \n",
              "3              4         1       1   \n",
              "4              5         0       3   \n",
              "..           ...       ...     ...   \n",
              "886          887         0       2   \n",
              "887          888         1       1   \n",
              "888          889         0       3   \n",
              "889          890         1       1   \n",
              "890          891         0       3   \n",
              "\n",
              "                                                  Name     Sex   Age  SibSp  \\\n",
              "0                              Braund, Mr. Owen Harris    male  22.0      1   \n",
              "1    Cumings, Mrs. John Bradley (Florence Briggs Th...  female  38.0      1   \n",
              "2                               Heikkinen, Miss. Laina  female  26.0      0   \n",
              "3         Futrelle, Mrs. Jacques Heath (Lily May Peel)  female  35.0      1   \n",
              "4                             Allen, Mr. William Henry    male  35.0      0   \n",
              "..                                                 ...     ...   ...    ...   \n",
              "886                              Montvila, Rev. Juozas    male  27.0      0   \n",
              "887                       Graham, Miss. Margaret Edith  female  19.0      0   \n",
              "888           Johnston, Miss. Catherine Helen \"Carrie\"  female   NaN      1   \n",
              "889                              Behr, Mr. Karl Howell    male  26.0      0   \n",
              "890                                Dooley, Mr. Patrick    male  32.0      0   \n",
              "\n",
              "     Parch            Ticket     Fare Cabin Embarked Crianca_Adulto  \n",
              "0        0         A/5 21171   7.2500   NaN        S         Adulto  \n",
              "1        0          PC 17599  71.2833   C85        C         Adulto  \n",
              "2        0  STON/O2. 3101282   7.9250   NaN        S         Adulto  \n",
              "3        0            113803  53.1000  C123        S         Adulto  \n",
              "4        0            373450   8.0500   NaN        S         Adulto  \n",
              "..     ...               ...      ...   ...      ...            ...  \n",
              "886      0            211536  13.0000   NaN        S         Adulto  \n",
              "887      0            112053  30.0000   B42        S         Adulto  \n",
              "888      2        W./C. 6607  23.4500   NaN        S              0  \n",
              "889      0            111369  30.0000  C148        C         Adulto  \n",
              "890      0            370376   7.7500   NaN        Q         Adulto  \n",
              "\n",
              "[891 rows x 13 columns]"
            ],
            "text/html": [
              "\n",
              "  <div id=\"df-fc8433cb-ef53-42d2-8856-bb9ab054a1c2\">\n",
              "    <div class=\"colab-df-container\">\n",
              "      <div>\n",
              "<style scoped>\n",
              "    .dataframe tbody tr th:only-of-type {\n",
              "        vertical-align: middle;\n",
              "    }\n",
              "\n",
              "    .dataframe tbody tr th {\n",
              "        vertical-align: top;\n",
              "    }\n",
              "\n",
              "    .dataframe thead th {\n",
              "        text-align: right;\n",
              "    }\n",
              "</style>\n",
              "<table border=\"1\" class=\"dataframe\">\n",
              "  <thead>\n",
              "    <tr style=\"text-align: right;\">\n",
              "      <th></th>\n",
              "      <th>PassengerId</th>\n",
              "      <th>Survived</th>\n",
              "      <th>Pclass</th>\n",
              "      <th>Name</th>\n",
              "      <th>Sex</th>\n",
              "      <th>Age</th>\n",
              "      <th>SibSp</th>\n",
              "      <th>Parch</th>\n",
              "      <th>Ticket</th>\n",
              "      <th>Fare</th>\n",
              "      <th>Cabin</th>\n",
              "      <th>Embarked</th>\n",
              "      <th>Crianca_Adulto</th>\n",
              "    </tr>\n",
              "  </thead>\n",
              "  <tbody>\n",
              "    <tr>\n",
              "      <th>0</th>\n",
              "      <td>1</td>\n",
              "      <td>0</td>\n",
              "      <td>3</td>\n",
              "      <td>Braund, Mr. Owen Harris</td>\n",
              "      <td>male</td>\n",
              "      <td>22.0</td>\n",
              "      <td>1</td>\n",
              "      <td>0</td>\n",
              "      <td>A/5 21171</td>\n",
              "      <td>7.2500</td>\n",
              "      <td>NaN</td>\n",
              "      <td>S</td>\n",
              "      <td>Adulto</td>\n",
              "    </tr>\n",
              "    <tr>\n",
              "      <th>1</th>\n",
              "      <td>2</td>\n",
              "      <td>1</td>\n",
              "      <td>1</td>\n",
              "      <td>Cumings, Mrs. John Bradley (Florence Briggs Th...</td>\n",
              "      <td>female</td>\n",
              "      <td>38.0</td>\n",
              "      <td>1</td>\n",
              "      <td>0</td>\n",
              "      <td>PC 17599</td>\n",
              "      <td>71.2833</td>\n",
              "      <td>C85</td>\n",
              "      <td>C</td>\n",
              "      <td>Adulto</td>\n",
              "    </tr>\n",
              "    <tr>\n",
              "      <th>2</th>\n",
              "      <td>3</td>\n",
              "      <td>1</td>\n",
              "      <td>3</td>\n",
              "      <td>Heikkinen, Miss. Laina</td>\n",
              "      <td>female</td>\n",
              "      <td>26.0</td>\n",
              "      <td>0</td>\n",
              "      <td>0</td>\n",
              "      <td>STON/O2. 3101282</td>\n",
              "      <td>7.9250</td>\n",
              "      <td>NaN</td>\n",
              "      <td>S</td>\n",
              "      <td>Adulto</td>\n",
              "    </tr>\n",
              "    <tr>\n",
              "      <th>3</th>\n",
              "      <td>4</td>\n",
              "      <td>1</td>\n",
              "      <td>1</td>\n",
              "      <td>Futrelle, Mrs. Jacques Heath (Lily May Peel)</td>\n",
              "      <td>female</td>\n",
              "      <td>35.0</td>\n",
              "      <td>1</td>\n",
              "      <td>0</td>\n",
              "      <td>113803</td>\n",
              "      <td>53.1000</td>\n",
              "      <td>C123</td>\n",
              "      <td>S</td>\n",
              "      <td>Adulto</td>\n",
              "    </tr>\n",
              "    <tr>\n",
              "      <th>4</th>\n",
              "      <td>5</td>\n",
              "      <td>0</td>\n",
              "      <td>3</td>\n",
              "      <td>Allen, Mr. William Henry</td>\n",
              "      <td>male</td>\n",
              "      <td>35.0</td>\n",
              "      <td>0</td>\n",
              "      <td>0</td>\n",
              "      <td>373450</td>\n",
              "      <td>8.0500</td>\n",
              "      <td>NaN</td>\n",
              "      <td>S</td>\n",
              "      <td>Adulto</td>\n",
              "    </tr>\n",
              "    <tr>\n",
              "      <th>...</th>\n",
              "      <td>...</td>\n",
              "      <td>...</td>\n",
              "      <td>...</td>\n",
              "      <td>...</td>\n",
              "      <td>...</td>\n",
              "      <td>...</td>\n",
              "      <td>...</td>\n",
              "      <td>...</td>\n",
              "      <td>...</td>\n",
              "      <td>...</td>\n",
              "      <td>...</td>\n",
              "      <td>...</td>\n",
              "      <td>...</td>\n",
              "    </tr>\n",
              "    <tr>\n",
              "      <th>886</th>\n",
              "      <td>887</td>\n",
              "      <td>0</td>\n",
              "      <td>2</td>\n",
              "      <td>Montvila, Rev. Juozas</td>\n",
              "      <td>male</td>\n",
              "      <td>27.0</td>\n",
              "      <td>0</td>\n",
              "      <td>0</td>\n",
              "      <td>211536</td>\n",
              "      <td>13.0000</td>\n",
              "      <td>NaN</td>\n",
              "      <td>S</td>\n",
              "      <td>Adulto</td>\n",
              "    </tr>\n",
              "    <tr>\n",
              "      <th>887</th>\n",
              "      <td>888</td>\n",
              "      <td>1</td>\n",
              "      <td>1</td>\n",
              "      <td>Graham, Miss. Margaret Edith</td>\n",
              "      <td>female</td>\n",
              "      <td>19.0</td>\n",
              "      <td>0</td>\n",
              "      <td>0</td>\n",
              "      <td>112053</td>\n",
              "      <td>30.0000</td>\n",
              "      <td>B42</td>\n",
              "      <td>S</td>\n",
              "      <td>Adulto</td>\n",
              "    </tr>\n",
              "    <tr>\n",
              "      <th>888</th>\n",
              "      <td>889</td>\n",
              "      <td>0</td>\n",
              "      <td>3</td>\n",
              "      <td>Johnston, Miss. Catherine Helen \"Carrie\"</td>\n",
              "      <td>female</td>\n",
              "      <td>NaN</td>\n",
              "      <td>1</td>\n",
              "      <td>2</td>\n",
              "      <td>W./C. 6607</td>\n",
              "      <td>23.4500</td>\n",
              "      <td>NaN</td>\n",
              "      <td>S</td>\n",
              "      <td>0</td>\n",
              "    </tr>\n",
              "    <tr>\n",
              "      <th>889</th>\n",
              "      <td>890</td>\n",
              "      <td>1</td>\n",
              "      <td>1</td>\n",
              "      <td>Behr, Mr. Karl Howell</td>\n",
              "      <td>male</td>\n",
              "      <td>26.0</td>\n",
              "      <td>0</td>\n",
              "      <td>0</td>\n",
              "      <td>111369</td>\n",
              "      <td>30.0000</td>\n",
              "      <td>C148</td>\n",
              "      <td>C</td>\n",
              "      <td>Adulto</td>\n",
              "    </tr>\n",
              "    <tr>\n",
              "      <th>890</th>\n",
              "      <td>891</td>\n",
              "      <td>0</td>\n",
              "      <td>3</td>\n",
              "      <td>Dooley, Mr. Patrick</td>\n",
              "      <td>male</td>\n",
              "      <td>32.0</td>\n",
              "      <td>0</td>\n",
              "      <td>0</td>\n",
              "      <td>370376</td>\n",
              "      <td>7.7500</td>\n",
              "      <td>NaN</td>\n",
              "      <td>Q</td>\n",
              "      <td>Adulto</td>\n",
              "    </tr>\n",
              "  </tbody>\n",
              "</table>\n",
              "<p>891 rows × 13 columns</p>\n",
              "</div>\n",
              "      <button class=\"colab-df-convert\" onclick=\"convertToInteractive('df-fc8433cb-ef53-42d2-8856-bb9ab054a1c2')\"\n",
              "              title=\"Convert this dataframe to an interactive table.\"\n",
              "              style=\"display:none;\">\n",
              "        \n",
              "  <svg xmlns=\"http://www.w3.org/2000/svg\" height=\"24px\"viewBox=\"0 0 24 24\"\n",
              "       width=\"24px\">\n",
              "    <path d=\"M0 0h24v24H0V0z\" fill=\"none\"/>\n",
              "    <path d=\"M18.56 5.44l.94 2.06.94-2.06 2.06-.94-2.06-.94-.94-2.06-.94 2.06-2.06.94zm-11 1L8.5 8.5l.94-2.06 2.06-.94-2.06-.94L8.5 2.5l-.94 2.06-2.06.94zm10 10l.94 2.06.94-2.06 2.06-.94-2.06-.94-.94-2.06-.94 2.06-2.06.94z\"/><path d=\"M17.41 7.96l-1.37-1.37c-.4-.4-.92-.59-1.43-.59-.52 0-1.04.2-1.43.59L10.3 9.45l-7.72 7.72c-.78.78-.78 2.05 0 2.83L4 21.41c.39.39.9.59 1.41.59.51 0 1.02-.2 1.41-.59l7.78-7.78 2.81-2.81c.8-.78.8-2.07 0-2.86zM5.41 20L4 18.59l7.72-7.72 1.47 1.35L5.41 20z\"/>\n",
              "  </svg>\n",
              "      </button>\n",
              "      \n",
              "  <style>\n",
              "    .colab-df-container {\n",
              "      display:flex;\n",
              "      flex-wrap:wrap;\n",
              "      gap: 12px;\n",
              "    }\n",
              "\n",
              "    .colab-df-convert {\n",
              "      background-color: #E8F0FE;\n",
              "      border: none;\n",
              "      border-radius: 50%;\n",
              "      cursor: pointer;\n",
              "      display: none;\n",
              "      fill: #1967D2;\n",
              "      height: 32px;\n",
              "      padding: 0 0 0 0;\n",
              "      width: 32px;\n",
              "    }\n",
              "\n",
              "    .colab-df-convert:hover {\n",
              "      background-color: #E2EBFA;\n",
              "      box-shadow: 0px 1px 2px rgba(60, 64, 67, 0.3), 0px 1px 3px 1px rgba(60, 64, 67, 0.15);\n",
              "      fill: #174EA6;\n",
              "    }\n",
              "\n",
              "    [theme=dark] .colab-df-convert {\n",
              "      background-color: #3B4455;\n",
              "      fill: #D2E3FC;\n",
              "    }\n",
              "\n",
              "    [theme=dark] .colab-df-convert:hover {\n",
              "      background-color: #434B5C;\n",
              "      box-shadow: 0px 1px 3px 1px rgba(0, 0, 0, 0.15);\n",
              "      filter: drop-shadow(0px 1px 2px rgba(0, 0, 0, 0.3));\n",
              "      fill: #FFFFFF;\n",
              "    }\n",
              "  </style>\n",
              "\n",
              "      <script>\n",
              "        const buttonEl =\n",
              "          document.querySelector('#df-fc8433cb-ef53-42d2-8856-bb9ab054a1c2 button.colab-df-convert');\n",
              "        buttonEl.style.display =\n",
              "          google.colab.kernel.accessAllowed ? 'block' : 'none';\n",
              "\n",
              "        async function convertToInteractive(key) {\n",
              "          const element = document.querySelector('#df-fc8433cb-ef53-42d2-8856-bb9ab054a1c2');\n",
              "          const dataTable =\n",
              "            await google.colab.kernel.invokeFunction('convertToInteractive',\n",
              "                                                     [key], {});\n",
              "          if (!dataTable) return;\n",
              "\n",
              "          const docLinkHtml = 'Like what you see? Visit the ' +\n",
              "            '<a target=\"_blank\" href=https://colab.research.google.com/notebooks/data_table.ipynb>data table notebook</a>'\n",
              "            + ' to learn more about interactive tables.';\n",
              "          element.innerHTML = '';\n",
              "          dataTable['output_type'] = 'display_data';\n",
              "          await google.colab.output.renderOutput(dataTable, element);\n",
              "          const docLink = document.createElement('div');\n",
              "          docLink.innerHTML = docLinkHtml;\n",
              "          element.appendChild(docLink);\n",
              "        }\n",
              "      </script>\n",
              "    </div>\n",
              "  </div>\n",
              "  "
            ]
          },
          "metadata": {},
          "execution_count": 11
        }
      ]
    },
    {
      "cell_type": "code",
      "source": [
        "#Gera grafico de sobrevivencia de criancas e adultos\n",
        "df_train.groupby('Crianca_Adulto')['Survived'].mean().plot.barh(title='Média de Sobrevivência', figsize=(10,2.5), \n",
        "                                                                      color=('tab:green','tab:blue')).set_ylabel(''),plt.xlabel('')"
      ],
      "metadata": {
        "colab": {
          "base_uri": "https://localhost:8080/",
          "height": 218
        },
        "id": "q6KDmT3PK--t",
        "outputId": "dfe962d4-0574-4155-94d2-64d3de3f2976"
      },
      "execution_count": null,
      "outputs": [
        {
          "output_type": "execute_result",
          "data": {
            "text/plain": [
              "(Text(0, 0.5, ''), Text(0.5, 0, ''))"
            ]
          },
          "metadata": {},
          "execution_count": 12
        },
        {
          "output_type": "display_data",
          "data": {
            "text/plain": [
              "<Figure size 720x180 with 1 Axes>"
            ],
            "image/png": "[encoded data removed]"
          },
          "metadata": {
            "needs_background": "light"
          }
        }
      ]
    },
    {
      "cell_type": "code",
      "source": [
        "sns.barplot(x='Crianca_Adulto', y='Survived',data=df_train)"
      ],
      "metadata": {
        "colab": {
          "base_uri": "https://localhost:8080/",
          "height": 298
        },
        "id": "SFpCB0qnW2V9",
        "outputId": "5fdb8de1-5902-42ec-c28a-00cdd93b4be2"
      },
      "execution_count": null,
      "outputs": [
        {
          "output_type": "execute_result",
          "data": {
            "text/plain": [
              "<matplotlib.axes._subplots.AxesSubplot at 0x7f241191f490>"
            ]
          },
          "metadata": {},
          "execution_count": 62
        },
        {
          "output_type": "display_data",
          "data": {
            "text/plain": [
              "<Figure size 432x288 with 1 Axes>"
            ],
            "image/png": "[encoded data removed]"
          },
          "metadata": {
            "needs_background": "light"
          }
        }
      ]
    },
    {
      "cell_type": "code",
      "source": [
        "# Criando intervalos de Age\n",
        "\n",
        "# Derivando a coluna Age para intervalos de idade (0 a 15; 15 a 30; 30 a 45; 45 a 65; acima de 65)\n",
        "X1 = df_train\n",
        "\n",
        "for index, row in X1.iterrows():\n",
        "  if(row['Age'] <= 12):\n",
        "    X1.loc[index, 'AgeIn'] = 'Criança'\n",
        "  elif(row['Age'] > 12 and row['Age'] <= 18):\n",
        "    X1.loc[index, 'AgeIn'] = 'Jovem'\n",
        "  elif(row['Age'] > 18 and row['Age'] <= 30):\n",
        "    X1.loc[index, 'AgeIn'] = 'Adulto Jovem'\n",
        "  elif(row['Age'] > 30 and row['Age'] <= 50):\n",
        "    X1.loc[index, 'AgeIn'] = 'Adulto'\n",
        "  else:\n",
        "    X1.loc[index, 'AgeIn'] = 'Idoso'\n"
      ],
      "metadata": {
        "id": "78IAn-y5y5kL"
      },
      "execution_count": null,
      "outputs": []
    },
    {
      "cell_type": "code",
      "source": [
        "#Gera grafico de sobrevivencia de criancas e adultos\n",
        "X1.groupby('AgeIn')['Survived'].mean().plot.barh(title='Média de Sobrevivência', figsize=(10,2.5), \n",
        "                                                                      color=('tab:green','tab:blue')).set_ylabel(''),plt.xlabel('')"
      ],
      "metadata": {
        "colab": {
          "base_uri": "https://localhost:8080/",
          "height": 218
        },
        "id": "kBKUz9K1PvLd",
        "outputId": "074a4965-bdc3-4265-c97d-8b827db4d875"
      },
      "execution_count": null,
      "outputs": [
        {
          "output_type": "execute_result",
          "data": {
            "text/plain": [
              "(Text(0, 0.5, ''), Text(0.5, 0, ''))"
            ]
          },
          "metadata": {},
          "execution_count": 14
        },
        {
          "output_type": "display_data",
          "data": {
            "text/plain": [
              "<Figure size 720x180 with 1 Axes>"
            ],
            "image/png": "[encoded data removed]"
          },
          "metadata": {
            "needs_background": "light"
          }
        }
      ]
    },
    {
      "cell_type": "code",
      "source": [
        "ratelistmale = [df_train[(df_train['Sex']=='male')&(df_train['Age']>=i)&(df_train['Age']<(i+5))]['Survived'].mean() for i in range(0,85,5)]"
      ],
      "metadata": {
        "id": "r2rrUhW59UHo"
      },
      "execution_count": null,
      "outputs": []
    },
    {
      "cell_type": "code",
      "source": [
        "ratelistmale"
      ],
      "metadata": {
        "colab": {
          "base_uri": "https://localhost:8080/"
        },
        "id": "eKqGiiUG9WJH",
        "outputId": "fd21dc21-8c5e-45ac-a860-e0ff7c3e6584"
      },
      "execution_count": null,
      "outputs": [
        {
          "output_type": "execute_result",
          "data": {
            "text/plain": [
              "[0.6521739130434783,\n",
              " 0.4444444444444444,\n",
              " 0.2857142857142857,\n",
              " 0.1,\n",
              " 0.09722222222222222,\n",
              " 0.23684210526315788,\n",
              " 0.20967741935483872,\n",
              " 0.2222222222222222,\n",
              " 0.16666666666666666,\n",
              " 0.25925925925925924,\n",
              " 0.15,\n",
              " 0.1,\n",
              " 0.18181818181818182,\n",
              " 0.0,\n",
              " 0.0,\n",
              " nan,\n",
              " 1.0]"
            ]
          },
          "metadata": {},
          "execution_count": 17
        }
      ]
    },
    {
      "cell_type": "code",
      "source": [
        "#Gerar listas das taxas de sobrevivência de gênero para cada faixa etária de cinco anos entre 0 e 85\n",
        "#ratelistmale = [df_train[(df_train['Sex']=='male')&(df_train['Age']>=i)&(df_train['Age']<(i+5))]['Survived'].mean() for i in range(0,85,5)]\n",
        "ratelistfemale = [df_train[(df_train['Sex']=='female')&(df_train['Age']>=i)&(df_train['Age']<(i+5))]['Survived'].mean() for i in range(0,85,5)]\n",
        "\n",
        "#Cria figura\n",
        "fig,ax = plt.subplots(figsize=(10,5))\n",
        "plt.title('Taxa de Sobrevivência por Gênero em Diferentes Faixas Etárias')\n",
        "plt.ylabel('Taxa de sobrevivência')\n",
        "\n",
        "#Gerar barplots lado a lado\n",
        "#Arange retorna valores uniformemente espaçados dentro de um determinado intervalo (ponto de partida, ponto de parada, incremento)\n",
        "plt.bar(np.arange(2,87,5), ratelistmale, color='navy', width=1.5, label='Male')\n",
        "plt.bar(np.arange(3.5,88.5,5), ratelistfemale, color='orange', width=1.5, label='Female')\n",
        "\n",
        "plt.xticks(np.arange(0,85,5))\n",
        "\n",
        "plt.legend();\n",
        "\n",
        "#Fonte: https://www.eamonfleming.com/projects/titanic.html"
      ],
      "metadata": {
        "colab": {
          "base_uri": "https://localhost:8080/",
          "height": 336
        },
        "id": "0Zq51SpOQjyw",
        "outputId": "73aa1957-afb1-4178-e7e5-6f7eb4821669"
      },
      "execution_count": null,
      "outputs": [
        {
          "output_type": "display_data",
          "data": {
            "text/plain": [
              "<Figure size 720x360 with 1 Axes>"
            ],
            "image/png": "[encoded data removed]"
          },
          "metadata": {
            "needs_background": "light"
          }
        }
      ]
    },
    {
      "cell_type": "markdown",
      "source": [
        "## Embarked"
      ],
      "metadata": {
        "id": "J_oicIpRDKXH"
      }
    },
    {
      "cell_type": "code",
      "source": [
        "#Embarked\n",
        "df_train['Embarked'].value_counts().plot.barh(title='Porto de Embarque', figsize=(10,2.5), \n",
        "                                                                      color=('tab:green','tab:blue')).set_ylabel(''),plt.xlabel('')"
      ],
      "metadata": {
        "colab": {
          "base_uri": "https://localhost:8080/",
          "height": 218
        },
        "id": "JmZzrg6Ju5g9",
        "outputId": "aa6313e2-8b3f-4acc-fca2-f4510be5e14b"
      },
      "execution_count": null,
      "outputs": [
        {
          "output_type": "execute_result",
          "data": {
            "text/plain": [
              "(Text(0, 0.5, ''), Text(0.5, 0, ''))"
            ]
          },
          "metadata": {},
          "execution_count": 4
        },
        {
          "output_type": "display_data",
          "data": {
            "text/plain": [
              "<Figure size 720x180 with 1 Axes>"
            ],
            "image/png": "[encoded data removed]"
          },
          "metadata": {
            "needs_background": "light"
          }
        }
      ]
    },
    {
      "cell_type": "code",
      "source": [
        "#Relação de Embarked com a sobrevivência\n",
        "sns.barplot(x='Embarked', y='Survived',data=df_train)"
      ],
      "metadata": {
        "colab": {
          "base_uri": "https://localhost:8080/",
          "height": 297
        },
        "id": "ZcbXnKCrEChm",
        "outputId": "4cc6ea96-6239-4fa3-ed87-a162ef8acafe"
      },
      "execution_count": null,
      "outputs": [
        {
          "output_type": "execute_result",
          "data": {
            "text/plain": [
              "<matplotlib.axes._subplots.AxesSubplot at 0x7f966a1974c0>"
            ]
          },
          "metadata": {},
          "execution_count": 34
        },
        {
          "output_type": "display_data",
          "data": {
            "text/plain": [
              "<Figure size 432x288 with 1 Axes>"
            ],
            "image/png": "[encoded data removed]"
          },
          "metadata": {
            "needs_background": "light"
          }
        }
      ]
    },
    {
      "cell_type": "markdown",
      "source": [
        "## Pclass"
      ],
      "metadata": {
        "id": "1gw5xv2uDcYD"
      }
    },
    {
      "cell_type": "code",
      "source": [
        "#Relação da classe com a sobrevivência\n",
        "sns.barplot(x='Pclass', y='Survived',data=df_train)"
      ],
      "metadata": {
        "colab": {
          "base_uri": "https://localhost:8080/",
          "height": 297
        },
        "id": "-BveStFnDZga",
        "outputId": "272936b1-23ea-472b-eca4-6f14f4a3d590"
      },
      "execution_count": null,
      "outputs": [
        {
          "output_type": "execute_result",
          "data": {
            "text/plain": [
              "<matplotlib.axes._subplots.AxesSubplot at 0x7f966a2c0df0>"
            ]
          },
          "metadata": {},
          "execution_count": 31
        },
        {
          "output_type": "display_data",
          "data": {
            "text/plain": [
              "<Figure size 432x288 with 1 Axes>"
            ],
            "image/png": "[encoded data removed]"
          },
          "metadata": {
            "needs_background": "light"
          }
        }
      ]
    },
    {
      "cell_type": "markdown",
      "source": [
        "## Fare"
      ],
      "metadata": {
        "id": "shF33bK8DPY-"
      }
    },
    {
      "cell_type": "code",
      "source": [
        "# Plot o bloxpot para checar os valores outliers (acima de 90 aproximadamente)\n",
        "sns.boxplot(y='Fare', data=df_train, palette='rainbow')\n",
        "\n",
        "# Métricas estatísticas\n",
        "df_train['Fare'].describe()"
      ],
      "metadata": {
        "id": "scJr9puIzEc9",
        "colab": {
          "base_uri": "https://localhost:8080/",
          "height": 418
        },
        "outputId": "a70ebde3-04c1-4dc8-e901-1cc8111d1e48"
      },
      "execution_count": null,
      "outputs": [
        {
          "output_type": "execute_result",
          "data": {
            "text/plain": [
              "count    891.000000\n",
              "mean      32.204208\n",
              "std       49.693429\n",
              "min        0.000000\n",
              "25%        7.910400\n",
              "50%       14.454200\n",
              "75%       31.000000\n",
              "max      512.329200\n",
              "Name: Fare, dtype: float64"
            ]
          },
          "metadata": {},
          "execution_count": 18
        },
        {
          "output_type": "display_data",
          "data": {
            "text/plain": [
              "<Figure size 432x288 with 1 Axes>"
            ],
            "image/png": "[encoded data removed]"
          },
          "metadata": {
            "needs_background": "light"
          }
        }
      ]
    },
    {
      "cell_type": "code",
      "source": [
        "# Plot o histograma para checar a frequência de distribuição das tarifas\n",
        "# Com 20 intervalos\n",
        "plt.hist(df_train['Fare'],bins=20)"
      ],
      "metadata": {
        "id": "fCzWQDXNzHIn",
        "colab": {
          "base_uri": "https://localhost:8080/",
          "height": 387
        },
        "outputId": "96edb18c-bece-4d67-d7f7-e0d0c5ded9bf"
      },
      "execution_count": null,
      "outputs": [
        {
          "output_type": "execute_result",
          "data": {
            "text/plain": [
              "(array([562., 170.,  67.,  39.,  15.,  16.,   2.,   0.,   9.,   2.,   6.,\n",
              "          0.,   0.,   0.,   0.,   0.,   0.,   0.,   0.,   3.]),\n",
              " array([  0.     ,  25.61646,  51.23292,  76.84938, 102.46584, 128.0823 ,\n",
              "        153.69876, 179.31522, 204.93168, 230.54814, 256.1646 , 281.78106,\n",
              "        307.39752, 333.01398, 358.63044, 384.2469 , 409.86336, 435.47982,\n",
              "        461.09628, 486.71274, 512.3292 ]),\n",
              " <a list of 20 Patch objects>)"
            ]
          },
          "metadata": {},
          "execution_count": 3
        },
        {
          "output_type": "display_data",
          "data": {
            "text/plain": [
              "<Figure size 432x288 with 1 Axes>"
            ],
            "image/png": "[encoded data removed]"
          },
          "metadata": {
            "needs_background": "light"
          }
        }
      ]
    },
    {
      "cell_type": "code",
      "source": [
        "df_train.Fare.describe()"
      ],
      "metadata": {
        "colab": {
          "base_uri": "https://localhost:8080/"
        },
        "id": "jBP0VXCI_296",
        "outputId": "0494634f-81c2-458c-bcfa-3405f375ab45"
      },
      "execution_count": null,
      "outputs": [
        {
          "output_type": "execute_result",
          "data": {
            "text/plain": [
              "count    891.000000\n",
              "mean      32.204208\n",
              "std       49.693429\n",
              "min        0.000000\n",
              "25%        7.910400\n",
              "50%       14.454200\n",
              "75%       31.000000\n",
              "max      512.329200\n",
              "Name: Fare, dtype: float64"
            ]
          },
          "metadata": {},
          "execution_count": 19
        }
      ]
    },
    {
      "cell_type": "code",
      "source": [
        "IQR = df_train.Fare.describe()[6] - df_train.Fare.describe()[4]\n",
        "quartil_sup = df_train.Fare.quantile(0.75) + (IQR * 1.5)\n",
        "quartil_inf = df_train.Fare.quantile(0.25) - (IQR * 1.5)\n",
        "print('Valores dos outliers referente a Fare são - limite superior: {a}; limite inferior: {b}'.format(a = quartil_sup, b = quartil_inf))"
      ],
      "metadata": {
        "colab": {
          "base_uri": "https://localhost:8080/"
        },
        "id": "8tUBS4WaKozr",
        "outputId": "cbdd6111-c1b3-4e58-d637-646c76ed0248"
      },
      "execution_count": null,
      "outputs": [
        {
          "output_type": "stream",
          "name": "stdout",
          "text": [
            "Valores dos outliers referente a Fare são - limite superior: 65.6344; limite inferior: -26.724\n"
          ]
        }
      ]
    },
    {
      "cell_type": "code",
      "source": [
        "#Relação da classe com fare\n",
        "plot = sns.barplot(x='Pclass', y='Fare',data=df_train)\n"
      ],
      "metadata": {
        "colab": {
          "base_uri": "https://localhost:8080/",
          "height": 282
        },
        "id": "4goq9z-VESpv",
        "outputId": "6fafa4cc-6daf-4013-ac09-14281a370748"
      },
      "execution_count": null,
      "outputs": [
        {
          "output_type": "display_data",
          "data": {
            "text/plain": [
              "<Figure size 432x288 with 1 Axes>"
            ],
            "image/png": "[encoded data removed]"
          },
          "metadata": {
            "needs_background": "light"
          }
        }
      ]
    },
    {
      "cell_type": "code",
      "source": [
        "#Relação de classe, tarifa e sexo\n",
        "sns.barplot(x = 'Pclass', y = 'Fare', hue = 'Sex', data = df_train)\n",
        " \n",
        "plt.show()"
      ],
      "metadata": {
        "colab": {
          "base_uri": "https://localhost:8080/",
          "height": 279
        },
        "id": "7R3RPThXDHxL",
        "outputId": "6835e125-c63a-433b-d454-3af82c6a352c"
      },
      "execution_count": null,
      "outputs": [
        {
          "output_type": "display_data",
          "data": {
            "text/plain": [
              "<Figure size 432x288 with 1 Axes>"
            ],
            "image/png": "[encoded data removed]"
          },
          "metadata": {
            "needs_background": "light"
          }
        }
      ]
    },
    {
      "cell_type": "code",
      "source": [
        "# Criando intervalos de Fare\n",
        "X1 = df_train\n",
        "# Derivando a coluna Fare para intervalos\n",
        "for index, row in X1.iterrows():\n",
        "  if(row['Fare'] <= 25):\n",
        "    X1.loc[index, 'FareIn'] = 0\n",
        "  elif(row['Fare'] > 25 and row['Fare'] <= 50):\n",
        "    X1.loc[index, 'FareIn'] = 1\n",
        "  else:\n",
        "    X1.loc[index, 'FareIn'] = 2\n"
      ],
      "metadata": {
        "id": "JgHvG3PAzKkF"
      },
      "execution_count": null,
      "outputs": []
    },
    {
      "cell_type": "code",
      "source": [
        "#Gera grafico de tarifa\n",
        "X1.groupby('FareIn')['Survived'].mean().plot.barh(title='Média de Sobrevivência', figsize=(10,2.5), \n",
        "                                                                      color=('tab:green','tab:blue')).set_ylabel(''),plt.xlabel('')"
      ],
      "metadata": {
        "colab": {
          "base_uri": "https://localhost:8080/",
          "height": 218
        },
        "id": "WepSr50x7qaW",
        "outputId": "2983994f-b0a6-425d-84bb-83fdde0f1f3a"
      },
      "execution_count": null,
      "outputs": [
        {
          "output_type": "execute_result",
          "data": {
            "text/plain": [
              "(Text(0, 0.5, ''), Text(0.5, 0, ''))"
            ]
          },
          "metadata": {},
          "execution_count": 21
        },
        {
          "output_type": "display_data",
          "data": {
            "text/plain": [
              "<Figure size 720x180 with 1 Axes>"
            ],
            "image/png": "[encoded data removed]"
          },
          "metadata": {
            "needs_background": "light"
          }
        }
      ]
    },
    {
      "cell_type": "code",
      "source": [
        "fig, ax = plt.subplots(figsize=(16,10))\n",
        "plt.xlim(-5,200)\n",
        "\n",
        "#plotting_context - obter os parâmetros que controlam o dimensionamento dos elementos do gráfico\n",
        "\n",
        "ax = sns.scatterplot(x='Fare',y='Age',hue='Survived',palette=['red','blue'],data=df_train,ax=ax)\n"
      ],
      "metadata": {
        "colab": {
          "base_uri": "https://localhost:8080/",
          "height": 606
        },
        "id": "rKizCQyYZZoJ",
        "outputId": "bd9220a2-1239-4800-d6d1-ae3301744acb"
      },
      "execution_count": null,
      "outputs": [
        {
          "output_type": "display_data",
          "data": {
            "text/plain": [
              "<Figure size 1152x720 with 1 Axes>"
            ],
            "image/png": "[encoded data removed]"
          },
          "metadata": {
            "needs_background": "light"
          }
        }
      ]
    },
    {
      "cell_type": "code",
      "source": [
        "df_train.hist(figsize=(10,8))"
      ],
      "metadata": {
        "colab": {
          "base_uri": "https://localhost:8080/",
          "height": 684
        },
        "id": "UXdObmnuBIln",
        "outputId": "808c4544-9cb1-4792-b06c-723cfa2303b5"
      },
      "execution_count": null,
      "outputs": [
        {
          "output_type": "execute_result",
          "data": {
            "text/plain": [
              "array([[<matplotlib.axes._subplots.AxesSubplot object at 0x7f31516e1400>,\n",
              "        <matplotlib.axes._subplots.AxesSubplot object at 0x7f31516e1f10>,\n",
              "        <matplotlib.axes._subplots.AxesSubplot object at 0x7f3151693370>],\n",
              "       [<matplotlib.axes._subplots.AxesSubplot object at 0x7f315163f760>,\n",
              "        <matplotlib.axes._subplots.AxesSubplot object at 0x7f315166eb50>,\n",
              "        <matplotlib.axes._subplots.AxesSubplot object at 0x7f315161be80>],\n",
              "       [<matplotlib.axes._subplots.AxesSubplot object at 0x7f315161bf70>,\n",
              "        <matplotlib.axes._subplots.AxesSubplot object at 0x7f31516c7d60>,\n",
              "        <matplotlib.axes._subplots.AxesSubplot object at 0x7f3151718dc0>]],\n",
              "      dtype=object)"
            ]
          },
          "metadata": {},
          "execution_count": 31
        },
        {
          "output_type": "display_data",
          "data": {
            "text/plain": [
              "<Figure size 720x576 with 9 Axes>"
            ],
            "image/png": "[encoded data removed]"
          },
          "metadata": {
            "needs_background": "light"
          }
        }
      ]
    },
    {
      "cell_type": "markdown",
      "source": [
        "## Mapa de Calor\n",
        "\n",
        "* Checa a correlação entre os atributos (features) com Survived\n",
        "* Necessário converter recursos categóricos em numéricos para que possamos calcular coeficiente de correlação."
      ],
      "metadata": {
        "id": "oJ7SqOJsftgv"
      }
    },
    {
      "cell_type": "code",
      "source": [
        "df_train.head()"
      ],
      "metadata": {
        "colab": {
          "base_uri": "https://localhost:8080/",
          "height": 319
        },
        "id": "j6cOnzpUhDPr",
        "outputId": "b8f9a36a-e023-4165-bf54-7bd50b8f50ad"
      },
      "execution_count": null,
      "outputs": [
        {
          "output_type": "execute_result",
          "data": {
            "text/plain": [
              "   PassengerId  Survived  Pclass  \\\n",
              "0            1         0       3   \n",
              "1            2         1       1   \n",
              "2            3         1       3   \n",
              "3            4         1       1   \n",
              "4            5         0       3   \n",
              "\n",
              "                                                Name     Sex   Age  SibSp  \\\n",
              "0                            Braund, Mr. Owen Harris    male  22.0      1   \n",
              "1  Cumings, Mrs. John Bradley (Florence Briggs Th...  female  38.0      1   \n",
              "2                             Heikkinen, Miss. Laina  female  26.0      0   \n",
              "3       Futrelle, Mrs. Jacques Heath (Lily May Peel)  female  35.0      1   \n",
              "4                           Allen, Mr. William Henry    male  35.0      0   \n",
              "\n",
              "   Parch            Ticket     Fare Cabin Embarked Crianca_Adulto  \\\n",
              "0      0         A/5 21171   7.2500   NaN        S         Adulto   \n",
              "1      0          PC 17599  71.2833   C85        C         Adulto   \n",
              "2      0  STON/O2. 3101282   7.9250   NaN        S         Adulto   \n",
              "3      0            113803  53.1000  C123        S         Adulto   \n",
              "4      0            373450   8.0500   NaN        S         Adulto   \n",
              "\n",
              "          AgeIn  FareIn  \n",
              "0  Adulto Jovem     0.0  \n",
              "1        Adulto     2.0  \n",
              "2  Adulto Jovem     0.0  \n",
              "3        Adulto     2.0  \n",
              "4        Adulto     0.0  "
            ],
            "text/html": [
              "\n",
              "  <div id=\"df-25d2ed8d-d9fa-4b01-98d6-2f111b80b1b2\">\n",
              "    <div class=\"colab-df-container\">\n",
              "      <div>\n",
              "<style scoped>\n",
              "    .dataframe tbody tr th:only-of-type {\n",
              "        vertical-align: middle;\n",
              "    }\n",
              "\n",
              "    .dataframe tbody tr th {\n",
              "        vertical-align: top;\n",
              "    }\n",
              "\n",
              "    .dataframe thead th {\n",
              "        text-align: right;\n",
              "    }\n",
              "</style>\n",
              "<table border=\"1\" class=\"dataframe\">\n",
              "  <thead>\n",
              "    <tr style=\"text-align: right;\">\n",
              "      <th></th>\n",
              "      <th>PassengerId</th>\n",
              "      <th>Survived</th>\n",
              "      <th>Pclass</th>\n",
              "      <th>Name</th>\n",
              "      <th>Sex</th>\n",
              "      <th>Age</th>\n",
              "      <th>SibSp</th>\n",
              "      <th>Parch</th>\n",
              "      <th>Ticket</th>\n",
              "      <th>Fare</th>\n",
              "      <th>Cabin</th>\n",
              "      <th>Embarked</th>\n",
              "      <th>Crianca_Adulto</th>\n",
              "      <th>AgeIn</th>\n",
              "      <th>FareIn</th>\n",
              "    </tr>\n",
              "  </thead>\n",
              "  <tbody>\n",
              "    <tr>\n",
              "      <th>0</th>\n",
              "      <td>1</td>\n",
              "      <td>0</td>\n",
              "      <td>3</td>\n",
              "      <td>Braund, Mr. Owen Harris</td>\n",
              "      <td>male</td>\n",
              "      <td>22.0</td>\n",
              "      <td>1</td>\n",
              "      <td>0</td>\n",
              "      <td>A/5 21171</td>\n",
              "      <td>7.2500</td>\n",
              "      <td>NaN</td>\n",
              "      <td>S</td>\n",
              "      <td>Adulto</td>\n",
              "      <td>Adulto Jovem</td>\n",
              "      <td>0.0</td>\n",
              "    </tr>\n",
              "    <tr>\n",
              "      <th>1</th>\n",
              "      <td>2</td>\n",
              "      <td>1</td>\n",
              "      <td>1</td>\n",
              "      <td>Cumings, Mrs. John Bradley (Florence Briggs Th...</td>\n",
              "      <td>female</td>\n",
              "      <td>38.0</td>\n",
              "      <td>1</td>\n",
              "      <td>0</td>\n",
              "      <td>PC 17599</td>\n",
              "      <td>71.2833</td>\n",
              "      <td>C85</td>\n",
              "      <td>C</td>\n",
              "      <td>Adulto</td>\n",
              "      <td>Adulto</td>\n",
              "      <td>2.0</td>\n",
              "    </tr>\n",
              "    <tr>\n",
              "      <th>2</th>\n",
              "      <td>3</td>\n",
              "      <td>1</td>\n",
              "      <td>3</td>\n",
              "      <td>Heikkinen, Miss. Laina</td>\n",
              "      <td>female</td>\n",
              "      <td>26.0</td>\n",
              "      <td>0</td>\n",
              "      <td>0</td>\n",
              "      <td>STON/O2. 3101282</td>\n",
              "      <td>7.9250</td>\n",
              "      <td>NaN</td>\n",
              "      <td>S</td>\n",
              "      <td>Adulto</td>\n",
              "      <td>Adulto Jovem</td>\n",
              "      <td>0.0</td>\n",
              "    </tr>\n",
              "    <tr>\n",
              "      <th>3</th>\n",
              "      <td>4</td>\n",
              "      <td>1</td>\n",
              "      <td>1</td>\n",
              "      <td>Futrelle, Mrs. Jacques Heath (Lily May Peel)</td>\n",
              "      <td>female</td>\n",
              "      <td>35.0</td>\n",
              "      <td>1</td>\n",
              "      <td>0</td>\n",
              "      <td>113803</td>\n",
              "      <td>53.1000</td>\n",
              "      <td>C123</td>\n",
              "      <td>S</td>\n",
              "      <td>Adulto</td>\n",
              "      <td>Adulto</td>\n",
              "      <td>2.0</td>\n",
              "    </tr>\n",
              "    <tr>\n",
              "      <th>4</th>\n",
              "      <td>5</td>\n",
              "      <td>0</td>\n",
              "      <td>3</td>\n",
              "      <td>Allen, Mr. William Henry</td>\n",
              "      <td>male</td>\n",
              "      <td>35.0</td>\n",
              "      <td>0</td>\n",
              "      <td>0</td>\n",
              "      <td>373450</td>\n",
              "      <td>8.0500</td>\n",
              "      <td>NaN</td>\n",
              "      <td>S</td>\n",
              "      <td>Adulto</td>\n",
              "      <td>Adulto</td>\n",
              "      <td>0.0</td>\n",
              "    </tr>\n",
              "  </tbody>\n",
              "</table>\n",
              "</div>\n",
              "      <button class=\"colab-df-convert\" onclick=\"convertToInteractive('df-25d2ed8d-d9fa-4b01-98d6-2f111b80b1b2')\"\n",
              "              title=\"Convert this dataframe to an interactive table.\"\n",
              "              style=\"display:none;\">\n",
              "        \n",
              "  <svg xmlns=\"http://www.w3.org/2000/svg\" height=\"24px\"viewBox=\"0 0 24 24\"\n",
              "       width=\"24px\">\n",
              "    <path d=\"M0 0h24v24H0V0z\" fill=\"none\"/>\n",
              "    <path d=\"M18.56 5.44l.94 2.06.94-2.06 2.06-.94-2.06-.94-.94-2.06-.94 2.06-2.06.94zm-11 1L8.5 8.5l.94-2.06 2.06-.94-2.06-.94L8.5 2.5l-.94 2.06-2.06.94zm10 10l.94 2.06.94-2.06 2.06-.94-2.06-.94-.94-2.06-.94 2.06-2.06.94z\"/><path d=\"M17.41 7.96l-1.37-1.37c-.4-.4-.92-.59-1.43-.59-.52 0-1.04.2-1.43.59L10.3 9.45l-7.72 7.72c-.78.78-.78 2.05 0 2.83L4 21.41c.39.39.9.59 1.41.59.51 0 1.02-.2 1.41-.59l7.78-7.78 2.81-2.81c.8-.78.8-2.07 0-2.86zM5.41 20L4 18.59l7.72-7.72 1.47 1.35L5.41 20z\"/>\n",
              "  </svg>\n",
              "      </button>\n",
              "      \n",
              "  <style>\n",
              "    .colab-df-container {\n",
              "      display:flex;\n",
              "      flex-wrap:wrap;\n",
              "      gap: 12px;\n",
              "    }\n",
              "\n",
              "    .colab-df-convert {\n",
              "      background-color: #E8F0FE;\n",
              "      border: none;\n",
              "      border-radius: 50%;\n",
              "      cursor: pointer;\n",
              "      display: none;\n",
              "      fill: #1967D2;\n",
              "      height: 32px;\n",
              "      padding: 0 0 0 0;\n",
              "      width: 32px;\n",
              "    }\n",
              "\n",
              "    .colab-df-convert:hover {\n",
              "      background-color: #E2EBFA;\n",
              "      box-shadow: 0px 1px 2px rgba(60, 64, 67, 0.3), 0px 1px 3px 1px rgba(60, 64, 67, 0.15);\n",
              "      fill: #174EA6;\n",
              "    }\n",
              "\n",
              "    [theme=dark] .colab-df-convert {\n",
              "      background-color: #3B4455;\n",
              "      fill: #D2E3FC;\n",
              "    }\n",
              "\n",
              "    [theme=dark] .colab-df-convert:hover {\n",
              "      background-color: #434B5C;\n",
              "      box-shadow: 0px 1px 3px 1px rgba(0, 0, 0, 0.15);\n",
              "      filter: drop-shadow(0px 1px 2px rgba(0, 0, 0, 0.3));\n",
              "      fill: #FFFFFF;\n",
              "    }\n",
              "  </style>\n",
              "\n",
              "      <script>\n",
              "        const buttonEl =\n",
              "          document.querySelector('#df-25d2ed8d-d9fa-4b01-98d6-2f111b80b1b2 button.colab-df-convert');\n",
              "        buttonEl.style.display =\n",
              "          google.colab.kernel.accessAllowed ? 'block' : 'none';\n",
              "\n",
              "        async function convertToInteractive(key) {\n",
              "          const element = document.querySelector('#df-25d2ed8d-d9fa-4b01-98d6-2f111b80b1b2');\n",
              "          const dataTable =\n",
              "            await google.colab.kernel.invokeFunction('convertToInteractive',\n",
              "                                                     [key], {});\n",
              "          if (!dataTable) return;\n",
              "\n",
              "          const docLinkHtml = 'Like what you see? Visit the ' +\n",
              "            '<a target=\"_blank\" href=https://colab.research.google.com/notebooks/data_table.ipynb>data table notebook</a>'\n",
              "            + ' to learn more about interactive tables.';\n",
              "          element.innerHTML = '';\n",
              "          dataTable['output_type'] = 'display_data';\n",
              "          await google.colab.output.renderOutput(dataTable, element);\n",
              "          const docLink = document.createElement('div');\n",
              "          docLink.innerHTML = docLinkHtml;\n",
              "          element.appendChild(docLink);\n",
              "        }\n",
              "      </script>\n",
              "    </div>\n",
              "  </div>\n",
              "  "
            ]
          },
          "metadata": {},
          "execution_count": 22
        }
      ]
    },
    {
      "cell_type": "code",
      "source": [
        "df_heatmap = df_train.drop(['PassengerId'], axis = 1) \n",
        "\n",
        "df_heatmap[\"Sex\"] = [1 if i == \"male\" else 0 for i in df_heatmap[\"Sex\"]] \n",
        "df_heatmap[\"Embarked\"] = [0 if i == \"S\" else i for i in df_heatmap[\"Embarked\"]] \n",
        "df_heatmap[\"Embarked\"] = [1 if i == \"C\" else i for i in df_heatmap[\"Embarked\"]] \n",
        "df_heatmap[\"Embarked\"] = [2 if i == \"Q\" else i for i in df_heatmap[\"Embarked\"]] \n",
        "\n",
        "# annot - Exibir o coeficiente de correlação\n",
        "# corr() - Mostra os coeficientes de correlação de todas as variáveis\n",
        "plt.subplots(figsize=(9,9))\n",
        "sns.heatmap(df_heatmap.corr(), cmap='coolwarm', annot=True)\n",
        "\n",
        "# Suvirved se relaciona fortemente com Sex"
      ],
      "metadata": {
        "colab": {
          "base_uri": "https://localhost:8080/",
          "height": 559
        },
        "id": "7mt4O90austC",
        "outputId": "07c4f8e3-a79a-4224-d7af-f3b7aaf0b30b"
      },
      "execution_count": null,
      "outputs": [
        {
          "output_type": "execute_result",
          "data": {
            "text/plain": [
              "<matplotlib.axes._subplots.AxesSubplot at 0x7f7de8f69f10>"
            ]
          },
          "metadata": {},
          "execution_count": 24
        },
        {
          "output_type": "display_data",
          "data": {
            "text/plain": [
              "<Figure size 648x648 with 2 Axes>"
            ],
            "image/png": "[encoded data removed]"
          },
          "metadata": {
            "needs_background": "light"
          }
        }
      ]
    },
    {
      "cell_type": "code",
      "source": [
        "df_heatmap.corr()"
      ],
      "metadata": {
        "colab": {
          "base_uri": "https://localhost:8080/",
          "height": 331
        },
        "id": "Ph4Fhi-3ES01",
        "outputId": "53ba5af8-cba0-4b2e-ce39-90c7260ae135"
      },
      "execution_count": null,
      "outputs": [
        {
          "output_type": "execute_result",
          "data": {
            "text/plain": [
              "          Survived    Pclass       Sex       Age     SibSp     Parch  \\\n",
              "Survived  1.000000 -0.338481 -0.543351 -0.077221 -0.035322  0.081629   \n",
              "Pclass   -0.338481  1.000000  0.131900 -0.369226  0.083081  0.018443   \n",
              "Sex      -0.543351  0.131900  1.000000  0.093254 -0.114631 -0.245489   \n",
              "Age      -0.077221 -0.369226  0.093254  1.000000 -0.308247 -0.189119   \n",
              "SibSp    -0.035322  0.083081 -0.114631 -0.308247  1.000000  0.414838   \n",
              "Parch     0.081629  0.018443 -0.245489 -0.189119  0.414838  1.000000   \n",
              "Fare      0.257307 -0.549500 -0.182333  0.096067  0.159651  0.216225   \n",
              "Embarked  0.108669  0.043835 -0.118593  0.012186 -0.060606 -0.079320   \n",
              "FareIn    0.300516 -0.744338 -0.189824  0.190447  0.292501  0.247813   \n",
              "\n",
              "              Fare  Embarked    FareIn  \n",
              "Survived  0.257307  0.108669  0.300516  \n",
              "Pclass   -0.549500  0.043835 -0.744338  \n",
              "Sex      -0.182333 -0.118593 -0.189824  \n",
              "Age       0.096067  0.012186  0.190447  \n",
              "SibSp     0.159651 -0.060606  0.292501  \n",
              "Parch     0.216225 -0.079320  0.247813  \n",
              "Fare      1.000000  0.063462  0.701598  \n",
              "Embarked  0.063462  1.000000 -0.012488  \n",
              "FareIn    0.701598 -0.012488  1.000000  "
            ],
            "text/html": [
              "\n",
              "  <div id=\"df-73999220-d65d-4bfa-92fc-b9cb6f1272fd\">\n",
              "    <div class=\"colab-df-container\">\n",
              "      <div>\n",
              "<style scoped>\n",
              "    .dataframe tbody tr th:only-of-type {\n",
              "        vertical-align: middle;\n",
              "    }\n",
              "\n",
              "    .dataframe tbody tr th {\n",
              "        vertical-align: top;\n",
              "    }\n",
              "\n",
              "    .dataframe thead th {\n",
              "        text-align: right;\n",
              "    }\n",
              "</style>\n",
              "<table border=\"1\" class=\"dataframe\">\n",
              "  <thead>\n",
              "    <tr style=\"text-align: right;\">\n",
              "      <th></th>\n",
              "      <th>Survived</th>\n",
              "      <th>Pclass</th>\n",
              "      <th>Sex</th>\n",
              "      <th>Age</th>\n",
              "      <th>SibSp</th>\n",
              "      <th>Parch</th>\n",
              "      <th>Fare</th>\n",
              "      <th>Embarked</th>\n",
              "      <th>FareIn</th>\n",
              "    </tr>\n",
              "  </thead>\n",
              "  <tbody>\n",
              "    <tr>\n",
              "      <th>Survived</th>\n",
              "      <td>1.000000</td>\n",
              "      <td>-0.338481</td>\n",
              "      <td>-0.543351</td>\n",
              "      <td>-0.077221</td>\n",
              "      <td>-0.035322</td>\n",
              "      <td>0.081629</td>\n",
              "      <td>0.257307</td>\n",
              "      <td>0.108669</td>\n",
              "      <td>0.300516</td>\n",
              "    </tr>\n",
              "    <tr>\n",
              "      <th>Pclass</th>\n",
              "      <td>-0.338481</td>\n",
              "      <td>1.000000</td>\n",
              "      <td>0.131900</td>\n",
              "      <td>-0.369226</td>\n",
              "      <td>0.083081</td>\n",
              "      <td>0.018443</td>\n",
              "      <td>-0.549500</td>\n",
              "      <td>0.043835</td>\n",
              "      <td>-0.744338</td>\n",
              "    </tr>\n",
              "    <tr>\n",
              "      <th>Sex</th>\n",
              "      <td>-0.543351</td>\n",
              "      <td>0.131900</td>\n",
              "      <td>1.000000</td>\n",
              "      <td>0.093254</td>\n",
              "      <td>-0.114631</td>\n",
              "      <td>-0.245489</td>\n",
              "      <td>-0.182333</td>\n",
              "      <td>-0.118593</td>\n",
              "      <td>-0.189824</td>\n",
              "    </tr>\n",
              "    <tr>\n",
              "      <th>Age</th>\n",
              "      <td>-0.077221</td>\n",
              "      <td>-0.369226</td>\n",
              "      <td>0.093254</td>\n",
              "      <td>1.000000</td>\n",
              "      <td>-0.308247</td>\n",
              "      <td>-0.189119</td>\n",
              "      <td>0.096067</td>\n",
              "      <td>0.012186</td>\n",
              "      <td>0.190447</td>\n",
              "    </tr>\n",
              "    <tr>\n",
              "      <th>SibSp</th>\n",
              "      <td>-0.035322</td>\n",
              "      <td>0.083081</td>\n",
              "      <td>-0.114631</td>\n",
              "      <td>-0.308247</td>\n",
              "      <td>1.000000</td>\n",
              "      <td>0.414838</td>\n",
              "      <td>0.159651</td>\n",
              "      <td>-0.060606</td>\n",
              "      <td>0.292501</td>\n",
              "    </tr>\n",
              "    <tr>\n",
              "      <th>Parch</th>\n",
              "      <td>0.081629</td>\n",
              "      <td>0.018443</td>\n",
              "      <td>-0.245489</td>\n",
              "      <td>-0.189119</td>\n",
              "      <td>0.414838</td>\n",
              "      <td>1.000000</td>\n",
              "      <td>0.216225</td>\n",
              "      <td>-0.079320</td>\n",
              "      <td>0.247813</td>\n",
              "    </tr>\n",
              "    <tr>\n",
              "      <th>Fare</th>\n",
              "      <td>0.257307</td>\n",
              "      <td>-0.549500</td>\n",
              "      <td>-0.182333</td>\n",
              "      <td>0.096067</td>\n",
              "      <td>0.159651</td>\n",
              "      <td>0.216225</td>\n",
              "      <td>1.000000</td>\n",
              "      <td>0.063462</td>\n",
              "      <td>0.701598</td>\n",
              "    </tr>\n",
              "    <tr>\n",
              "      <th>Embarked</th>\n",
              "      <td>0.108669</td>\n",
              "      <td>0.043835</td>\n",
              "      <td>-0.118593</td>\n",
              "      <td>0.012186</td>\n",
              "      <td>-0.060606</td>\n",
              "      <td>-0.079320</td>\n",
              "      <td>0.063462</td>\n",
              "      <td>1.000000</td>\n",
              "      <td>-0.012488</td>\n",
              "    </tr>\n",
              "    <tr>\n",
              "      <th>FareIn</th>\n",
              "      <td>0.300516</td>\n",
              "      <td>-0.744338</td>\n",
              "      <td>-0.189824</td>\n",
              "      <td>0.190447</td>\n",
              "      <td>0.292501</td>\n",
              "      <td>0.247813</td>\n",
              "      <td>0.701598</td>\n",
              "      <td>-0.012488</td>\n",
              "      <td>1.000000</td>\n",
              "    </tr>\n",
              "  </tbody>\n",
              "</table>\n",
              "</div>\n",
              "      <button class=\"colab-df-convert\" onclick=\"convertToInteractive('df-73999220-d65d-4bfa-92fc-b9cb6f1272fd')\"\n",
              "              title=\"Convert this dataframe to an interactive table.\"\n",
              "              style=\"display:none;\">\n",
              "        \n",
              "  <svg xmlns=\"http://www.w3.org/2000/svg\" height=\"24px\"viewBox=\"0 0 24 24\"\n",
              "       width=\"24px\">\n",
              "    <path d=\"M0 0h24v24H0V0z\" fill=\"none\"/>\n",
              "    <path d=\"M18.56 5.44l.94 2.06.94-2.06 2.06-.94-2.06-.94-.94-2.06-.94 2.06-2.06.94zm-11 1L8.5 8.5l.94-2.06 2.06-.94-2.06-.94L8.5 2.5l-.94 2.06-2.06.94zm10 10l.94 2.06.94-2.06 2.06-.94-2.06-.94-.94-2.06-.94 2.06-2.06.94z\"/><path d=\"M17.41 7.96l-1.37-1.37c-.4-.4-.92-.59-1.43-.59-.52 0-1.04.2-1.43.59L10.3 9.45l-7.72 7.72c-.78.78-.78 2.05 0 2.83L4 21.41c.39.39.9.59 1.41.59.51 0 1.02-.2 1.41-.59l7.78-7.78 2.81-2.81c.8-.78.8-2.07 0-2.86zM5.41 20L4 18.59l7.72-7.72 1.47 1.35L5.41 20z\"/>\n",
              "  </svg>\n",
              "      </button>\n",
              "      \n",
              "  <style>\n",
              "    .colab-df-container {\n",
              "      display:flex;\n",
              "      flex-wrap:wrap;\n",
              "      gap: 12px;\n",
              "    }\n",
              "\n",
              "    .colab-df-convert {\n",
              "      background-color: #E8F0FE;\n",
              "      border: none;\n",
              "      border-radius: 50%;\n",
              "      cursor: pointer;\n",
              "      display: none;\n",
              "      fill: #1967D2;\n",
              "      height: 32px;\n",
              "      padding: 0 0 0 0;\n",
              "      width: 32px;\n",
              "    }\n",
              "\n",
              "    .colab-df-convert:hover {\n",
              "      background-color: #E2EBFA;\n",
              "      box-shadow: 0px 1px 2px rgba(60, 64, 67, 0.3), 0px 1px 3px 1px rgba(60, 64, 67, 0.15);\n",
              "      fill: #174EA6;\n",
              "    }\n",
              "\n",
              "    [theme=dark] .colab-df-convert {\n",
              "      background-color: #3B4455;\n",
              "      fill: #D2E3FC;\n",
              "    }\n",
              "\n",
              "    [theme=dark] .colab-df-convert:hover {\n",
              "      background-color: #434B5C;\n",
              "      box-shadow: 0px 1px 3px 1px rgba(0, 0, 0, 0.15);\n",
              "      filter: drop-shadow(0px 1px 2px rgba(0, 0, 0, 0.3));\n",
              "      fill: #FFFFFF;\n",
              "    }\n",
              "  </style>\n",
              "\n",
              "      <script>\n",
              "        const buttonEl =\n",
              "          document.querySelector('#df-73999220-d65d-4bfa-92fc-b9cb6f1272fd button.colab-df-convert');\n",
              "        buttonEl.style.display =\n",
              "          google.colab.kernel.accessAllowed ? 'block' : 'none';\n",
              "\n",
              "        async function convertToInteractive(key) {\n",
              "          const element = document.querySelector('#df-73999220-d65d-4bfa-92fc-b9cb6f1272fd');\n",
              "          const dataTable =\n",
              "            await google.colab.kernel.invokeFunction('convertToInteractive',\n",
              "                                                     [key], {});\n",
              "          if (!dataTable) return;\n",
              "\n",
              "          const docLinkHtml = 'Like what you see? Visit the ' +\n",
              "            '<a target=\"_blank\" href=https://colab.research.google.com/notebooks/data_table.ipynb>data table notebook</a>'\n",
              "            + ' to learn more about interactive tables.';\n",
              "          element.innerHTML = '';\n",
              "          dataTable['output_type'] = 'display_data';\n",
              "          await google.colab.output.renderOutput(dataTable, element);\n",
              "          const docLink = document.createElement('div');\n",
              "          docLink.innerHTML = docLinkHtml;\n",
              "          element.appendChild(docLink);\n",
              "        }\n",
              "      </script>\n",
              "    </div>\n",
              "  </div>\n",
              "  "
            ]
          },
          "metadata": {},
          "execution_count": 25
        }
      ]
    },
    {
      "cell_type": "markdown",
      "source": [
        "# Pré-processamento"
      ],
      "metadata": {
        "id": "WBjJrBVkirqg"
      }
    },
    {
      "cell_type": "markdown",
      "source": [
        "## Limpeza e Remoção de dados"
      ],
      "metadata": {
        "id": "7OiFmsTDqDPM"
      }
    },
    {
      "cell_type": "code",
      "source": [
        "#Remover Colunas \n",
        "# Dropando a coluna PassengerId do dataset \n",
        "df_train = df_train.drop(['PassengerId'], axis = 1) \n"
      ],
      "metadata": {
        "id": "iiUyMs5ax9b_"
      },
      "execution_count": null,
      "outputs": []
    },
    {
      "cell_type": "code",
      "source": [
        "# Limpar Dados Faltosos\n",
        "\n",
        "# Dropando a coluna Cabin do dataset (valores vazios: 77%)\n",
        "df_train = df_train.drop(['Cabin'], axis = 1) \n",
        "#df_train = df_train.drop(columns=['Cabin'])\n",
        "\n",
        "# Deletando os valores vazios dos atributo Embarked do dataset\n",
        "df_train.dropna(subset=['Embarked'], inplace=True)"
      ],
      "metadata": {
        "id": "HNlvGmNBijWq"
      },
      "execution_count": null,
      "outputs": []
    },
    {
      "cell_type": "code",
      "source": [
        "df_train.isnull().sum()"
      ],
      "metadata": {
        "colab": {
          "base_uri": "https://localhost:8080/"
        },
        "id": "12agYIFNHhpz",
        "outputId": "383133dc-d226-48e9-a2a3-a2ca56d2edeb"
      },
      "execution_count": null,
      "outputs": [
        {
          "output_type": "execute_result",
          "data": {
            "text/plain": [
              "Survived            0\n",
              "Pclass              0\n",
              "Name                0\n",
              "Sex                 0\n",
              "Age               177\n",
              "SibSp               0\n",
              "Parch               0\n",
              "Ticket              0\n",
              "Fare                0\n",
              "Embarked            0\n",
              "Crianca_Adulto      0\n",
              "AgeIn               0\n",
              "FareIn              0\n",
              "dtype: int64"
            ]
          },
          "metadata": {},
          "execution_count": 29
        }
      ]
    },
    {
      "cell_type": "code",
      "source": [
        "df_train"
      ],
      "metadata": {
        "colab": {
          "base_uri": "https://localhost:8080/",
          "height": 571
        },
        "id": "5QtWWX4wpcAX",
        "outputId": "9b2c1e19-968c-4ada-e898-0b983ffc5787"
      },
      "execution_count": null,
      "outputs": [
        {
          "output_type": "execute_result",
          "data": {
            "text/plain": [
              "     Survived  Pclass                                               Name  \\\n",
              "0           0       3                            Braund, Mr. Owen Harris   \n",
              "1           1       1  Cumings, Mrs. John Bradley (Florence Briggs Th...   \n",
              "2           1       3                             Heikkinen, Miss. Laina   \n",
              "3           1       1       Futrelle, Mrs. Jacques Heath (Lily May Peel)   \n",
              "4           0       3                           Allen, Mr. William Henry   \n",
              "..        ...     ...                                                ...   \n",
              "886         0       2                              Montvila, Rev. Juozas   \n",
              "887         1       1                       Graham, Miss. Margaret Edith   \n",
              "888         0       3           Johnston, Miss. Catherine Helen \"Carrie\"   \n",
              "889         1       1                              Behr, Mr. Karl Howell   \n",
              "890         0       3                                Dooley, Mr. Patrick   \n",
              "\n",
              "        Sex   Age  SibSp  Parch            Ticket     Fare Embarked  \\\n",
              "0      male  22.0      1      0         A/5 21171   7.2500        S   \n",
              "1    female  38.0      1      0          PC 17599  71.2833        C   \n",
              "2    female  26.0      0      0  STON/O2. 3101282   7.9250        S   \n",
              "3    female  35.0      1      0            113803  53.1000        S   \n",
              "4      male  35.0      0      0            373450   8.0500        S   \n",
              "..      ...   ...    ...    ...               ...      ...      ...   \n",
              "886    male  27.0      0      0            211536  13.0000        S   \n",
              "887  female  19.0      0      0            112053  30.0000        S   \n",
              "888  female   NaN      1      2        W./C. 6607  23.4500        S   \n",
              "889    male  26.0      0      0            111369  30.0000        C   \n",
              "890    male  32.0      0      0            370376   7.7500        Q   \n",
              "\n",
              "    Crianca_Adulto         AgeIn  FareIn  \n",
              "0           Adulto  Adulto Jovem     0.0  \n",
              "1           Adulto        Adulto     2.0  \n",
              "2           Adulto  Adulto Jovem     0.0  \n",
              "3           Adulto        Adulto     2.0  \n",
              "4           Adulto        Adulto     0.0  \n",
              "..             ...           ...     ...  \n",
              "886         Adulto  Adulto Jovem     0.0  \n",
              "887         Adulto  Adulto Jovem     1.0  \n",
              "888              0         Idoso     0.0  \n",
              "889         Adulto  Adulto Jovem     1.0  \n",
              "890         Adulto        Adulto     0.0  \n",
              "\n",
              "[889 rows x 13 columns]"
            ],
            "text/html": [
              "\n",
              "  <div id=\"df-58d88314-367b-492f-85df-2647b6585a63\">\n",
              "    <div class=\"colab-df-container\">\n",
              "      <div>\n",
              "<style scoped>\n",
              "    .dataframe tbody tr th:only-of-type {\n",
              "        vertical-align: middle;\n",
              "    }\n",
              "\n",
              "    .dataframe tbody tr th {\n",
              "        vertical-align: top;\n",
              "    }\n",
              "\n",
              "    .dataframe thead th {\n",
              "        text-align: right;\n",
              "    }\n",
              "</style>\n",
              "<table border=\"1\" class=\"dataframe\">\n",
              "  <thead>\n",
              "    <tr style=\"text-align: right;\">\n",
              "      <th></th>\n",
              "      <th>Survived</th>\n",
              "      <th>Pclass</th>\n",
              "      <th>Name</th>\n",
              "      <th>Sex</th>\n",
              "      <th>Age</th>\n",
              "      <th>SibSp</th>\n",
              "      <th>Parch</th>\n",
              "      <th>Ticket</th>\n",
              "      <th>Fare</th>\n",
              "      <th>Embarked</th>\n",
              "      <th>Crianca_Adulto</th>\n",
              "      <th>AgeIn</th>\n",
              "      <th>FareIn</th>\n",
              "    </tr>\n",
              "  </thead>\n",
              "  <tbody>\n",
              "    <tr>\n",
              "      <th>0</th>\n",
              "      <td>0</td>\n",
              "      <td>3</td>\n",
              "      <td>Braund, Mr. Owen Harris</td>\n",
              "      <td>male</td>\n",
              "      <td>22.0</td>\n",
              "      <td>1</td>\n",
              "      <td>0</td>\n",
              "      <td>A/5 21171</td>\n",
              "      <td>7.2500</td>\n",
              "      <td>S</td>\n",
              "      <td>Adulto</td>\n",
              "      <td>Adulto Jovem</td>\n",
              "      <td>0.0</td>\n",
              "    </tr>\n",
              "    <tr>\n",
              "      <th>1</th>\n",
              "      <td>1</td>\n",
              "      <td>1</td>\n",
              "      <td>Cumings, Mrs. John Bradley (Florence Briggs Th...</td>\n",
              "      <td>female</td>\n",
              "      <td>38.0</td>\n",
              "      <td>1</td>\n",
              "      <td>0</td>\n",
              "      <td>PC 17599</td>\n",
              "      <td>71.2833</td>\n",
              "      <td>C</td>\n",
              "      <td>Adulto</td>\n",
              "      <td>Adulto</td>\n",
              "      <td>2.0</td>\n",
              "    </tr>\n",
              "    <tr>\n",
              "      <th>2</th>\n",
              "      <td>1</td>\n",
              "      <td>3</td>\n",
              "      <td>Heikkinen, Miss. Laina</td>\n",
              "      <td>female</td>\n",
              "      <td>26.0</td>\n",
              "      <td>0</td>\n",
              "      <td>0</td>\n",
              "      <td>STON/O2. 3101282</td>\n",
              "      <td>7.9250</td>\n",
              "      <td>S</td>\n",
              "      <td>Adulto</td>\n",
              "      <td>Adulto Jovem</td>\n",
              "      <td>0.0</td>\n",
              "    </tr>\n",
              "    <tr>\n",
              "      <th>3</th>\n",
              "      <td>1</td>\n",
              "      <td>1</td>\n",
              "      <td>Futrelle, Mrs. Jacques Heath (Lily May Peel)</td>\n",
              "      <td>female</td>\n",
              "      <td>35.0</td>\n",
              "      <td>1</td>\n",
              "      <td>0</td>\n",
              "      <td>113803</td>\n",
              "      <td>53.1000</td>\n",
              "      <td>S</td>\n",
              "      <td>Adulto</td>\n",
              "      <td>Adulto</td>\n",
              "      <td>2.0</td>\n",
              "    </tr>\n",
              "    <tr>\n",
              "      <th>4</th>\n",
              "      <td>0</td>\n",
              "      <td>3</td>\n",
              "      <td>Allen, Mr. William Henry</td>\n",
              "      <td>male</td>\n",
              "      <td>35.0</td>\n",
              "      <td>0</td>\n",
              "      <td>0</td>\n",
              "      <td>373450</td>\n",
              "      <td>8.0500</td>\n",
              "      <td>S</td>\n",
              "      <td>Adulto</td>\n",
              "      <td>Adulto</td>\n",
              "      <td>0.0</td>\n",
              "    </tr>\n",
              "    <tr>\n",
              "      <th>...</th>\n",
              "      <td>...</td>\n",
              "      <td>...</td>\n",
              "      <td>...</td>\n",
              "      <td>...</td>\n",
              "      <td>...</td>\n",
              "      <td>...</td>\n",
              "      <td>...</td>\n",
              "      <td>...</td>\n",
              "      <td>...</td>\n",
              "      <td>...</td>\n",
              "      <td>...</td>\n",
              "      <td>...</td>\n",
              "      <td>...</td>\n",
              "    </tr>\n",
              "    <tr>\n",
              "      <th>886</th>\n",
              "      <td>0</td>\n",
              "      <td>2</td>\n",
              "      <td>Montvila, Rev. Juozas</td>\n",
              "      <td>male</td>\n",
              "      <td>27.0</td>\n",
              "      <td>0</td>\n",
              "      <td>0</td>\n",
              "      <td>211536</td>\n",
              "      <td>13.0000</td>\n",
              "      <td>S</td>\n",
              "      <td>Adulto</td>\n",
              "      <td>Adulto Jovem</td>\n",
              "      <td>0.0</td>\n",
              "    </tr>\n",
              "    <tr>\n",
              "      <th>887</th>\n",
              "      <td>1</td>\n",
              "      <td>1</td>\n",
              "      <td>Graham, Miss. Margaret Edith</td>\n",
              "      <td>female</td>\n",
              "      <td>19.0</td>\n",
              "      <td>0</td>\n",
              "      <td>0</td>\n",
              "      <td>112053</td>\n",
              "      <td>30.0000</td>\n",
              "      <td>S</td>\n",
              "      <td>Adulto</td>\n",
              "      <td>Adulto Jovem</td>\n",
              "      <td>1.0</td>\n",
              "    </tr>\n",
              "    <tr>\n",
              "      <th>888</th>\n",
              "      <td>0</td>\n",
              "      <td>3</td>\n",
              "      <td>Johnston, Miss. Catherine Helen \"Carrie\"</td>\n",
              "      <td>female</td>\n",
              "      <td>NaN</td>\n",
              "      <td>1</td>\n",
              "      <td>2</td>\n",
              "      <td>W./C. 6607</td>\n",
              "      <td>23.4500</td>\n",
              "      <td>S</td>\n",
              "      <td>0</td>\n",
              "      <td>Idoso</td>\n",
              "      <td>0.0</td>\n",
              "    </tr>\n",
              "    <tr>\n",
              "      <th>889</th>\n",
              "      <td>1</td>\n",
              "      <td>1</td>\n",
              "      <td>Behr, Mr. Karl Howell</td>\n",
              "      <td>male</td>\n",
              "      <td>26.0</td>\n",
              "      <td>0</td>\n",
              "      <td>0</td>\n",
              "      <td>111369</td>\n",
              "      <td>30.0000</td>\n",
              "      <td>C</td>\n",
              "      <td>Adulto</td>\n",
              "      <td>Adulto Jovem</td>\n",
              "      <td>1.0</td>\n",
              "    </tr>\n",
              "    <tr>\n",
              "      <th>890</th>\n",
              "      <td>0</td>\n",
              "      <td>3</td>\n",
              "      <td>Dooley, Mr. Patrick</td>\n",
              "      <td>male</td>\n",
              "      <td>32.0</td>\n",
              "      <td>0</td>\n",
              "      <td>0</td>\n",
              "      <td>370376</td>\n",
              "      <td>7.7500</td>\n",
              "      <td>Q</td>\n",
              "      <td>Adulto</td>\n",
              "      <td>Adulto</td>\n",
              "      <td>0.0</td>\n",
              "    </tr>\n",
              "  </tbody>\n",
              "</table>\n",
              "<p>889 rows × 13 columns</p>\n",
              "</div>\n",
              "      <button class=\"colab-df-convert\" onclick=\"convertToInteractive('df-58d88314-367b-492f-85df-2647b6585a63')\"\n",
              "              title=\"Convert this dataframe to an interactive table.\"\n",
              "              style=\"display:none;\">\n",
              "        \n",
              "  <svg xmlns=\"http://www.w3.org/2000/svg\" height=\"24px\"viewBox=\"0 0 24 24\"\n",
              "       width=\"24px\">\n",
              "    <path d=\"M0 0h24v24H0V0z\" fill=\"none\"/>\n",
              "    <path d=\"M18.56 5.44l.94 2.06.94-2.06 2.06-.94-2.06-.94-.94-2.06-.94 2.06-2.06.94zm-11 1L8.5 8.5l.94-2.06 2.06-.94-2.06-.94L8.5 2.5l-.94 2.06-2.06.94zm10 10l.94 2.06.94-2.06 2.06-.94-2.06-.94-.94-2.06-.94 2.06-2.06.94z\"/><path d=\"M17.41 7.96l-1.37-1.37c-.4-.4-.92-.59-1.43-.59-.52 0-1.04.2-1.43.59L10.3 9.45l-7.72 7.72c-.78.78-.78 2.05 0 2.83L4 21.41c.39.39.9.59 1.41.59.51 0 1.02-.2 1.41-.59l7.78-7.78 2.81-2.81c.8-.78.8-2.07 0-2.86zM5.41 20L4 18.59l7.72-7.72 1.47 1.35L5.41 20z\"/>\n",
              "  </svg>\n",
              "      </button>\n",
              "      \n",
              "  <style>\n",
              "    .colab-df-container {\n",
              "      display:flex;\n",
              "      flex-wrap:wrap;\n",
              "      gap: 12px;\n",
              "    }\n",
              "\n",
              "    .colab-df-convert {\n",
              "      background-color: #E8F0FE;\n",
              "      border: none;\n",
              "      border-radius: 50%;\n",
              "      cursor: pointer;\n",
              "      display: none;\n",
              "      fill: #1967D2;\n",
              "      height: 32px;\n",
              "      padding: 0 0 0 0;\n",
              "      width: 32px;\n",
              "    }\n",
              "\n",
              "    .colab-df-convert:hover {\n",
              "      background-color: #E2EBFA;\n",
              "      box-shadow: 0px 1px 2px rgba(60, 64, 67, 0.3), 0px 1px 3px 1px rgba(60, 64, 67, 0.15);\n",
              "      fill: #174EA6;\n",
              "    }\n",
              "\n",
              "    [theme=dark] .colab-df-convert {\n",
              "      background-color: #3B4455;\n",
              "      fill: #D2E3FC;\n",
              "    }\n",
              "\n",
              "    [theme=dark] .colab-df-convert:hover {\n",
              "      background-color: #434B5C;\n",
              "      box-shadow: 0px 1px 3px 1px rgba(0, 0, 0, 0.15);\n",
              "      filter: drop-shadow(0px 1px 2px rgba(0, 0, 0, 0.3));\n",
              "      fill: #FFFFFF;\n",
              "    }\n",
              "  </style>\n",
              "\n",
              "      <script>\n",
              "        const buttonEl =\n",
              "          document.querySelector('#df-58d88314-367b-492f-85df-2647b6585a63 button.colab-df-convert');\n",
              "        buttonEl.style.display =\n",
              "          google.colab.kernel.accessAllowed ? 'block' : 'none';\n",
              "\n",
              "        async function convertToInteractive(key) {\n",
              "          const element = document.querySelector('#df-58d88314-367b-492f-85df-2647b6585a63');\n",
              "          const dataTable =\n",
              "            await google.colab.kernel.invokeFunction('convertToInteractive',\n",
              "                                                     [key], {});\n",
              "          if (!dataTable) return;\n",
              "\n",
              "          const docLinkHtml = 'Like what you see? Visit the ' +\n",
              "            '<a target=\"_blank\" href=https://colab.research.google.com/notebooks/data_table.ipynb>data table notebook</a>'\n",
              "            + ' to learn more about interactive tables.';\n",
              "          element.innerHTML = '';\n",
              "          dataTable['output_type'] = 'display_data';\n",
              "          await google.colab.output.renderOutput(dataTable, element);\n",
              "          const docLink = document.createElement('div');\n",
              "          docLink.innerHTML = docLinkHtml;\n",
              "          element.appendChild(docLink);\n",
              "        }\n",
              "      </script>\n",
              "    </div>\n",
              "  </div>\n",
              "  "
            ]
          },
          "metadata": {},
          "execution_count": 30
        }
      ]
    },
    {
      "cell_type": "code",
      "source": [
        "# Tranformação de dados categóricos em numéricos\n",
        "le = LabelEncoder()\n",
        "\n",
        "df_train['Sex'] = le.fit_transform(df_train['Sex'])\n",
        "df_train['Embarked'] = le.fit_transform(df_train['Embarked'])\n",
        "df_train['Ticket'] = le.fit_transform(df_train['Ticket'])\n",
        "\n",
        "df_train.head()"
      ],
      "metadata": {
        "colab": {
          "base_uri": "https://localhost:8080/",
          "height": 206
        },
        "id": "Wx84_jvkaeo3",
        "outputId": "eb4eb836-1964-49a6-b3ca-b49be9dd622f"
      },
      "execution_count": null,
      "outputs": [
        {
          "output_type": "execute_result",
          "data": {
            "text/plain": [
              "   Survived  Pclass                                               Name  Sex  \\\n",
              "0         0       3                            Braund, Mr. Owen Harris    1   \n",
              "1         1       1  Cumings, Mrs. John Bradley (Florence Briggs Th...    0   \n",
              "2         1       3                             Heikkinen, Miss. Laina    0   \n",
              "3         1       1       Futrelle, Mrs. Jacques Heath (Lily May Peel)    0   \n",
              "4         0       3                           Allen, Mr. William Henry    1   \n",
              "\n",
              "    Age  SibSp  Parch  Ticket     Fare  Embarked Crianca_Adulto         AgeIn  \\\n",
              "0  22.0      1      0     522   7.2500         2         Adulto  Adulto Jovem   \n",
              "1  38.0      1      0     595  71.2833         0         Adulto        Adulto   \n",
              "2  26.0      0      0     668   7.9250         2         Adulto  Adulto Jovem   \n",
              "3  35.0      1      0      48  53.1000         2         Adulto        Adulto   \n",
              "4  35.0      0      0     471   8.0500         2         Adulto        Adulto   \n",
              "\n",
              "   FareIn  \n",
              "0     0.0  \n",
              "1     2.0  \n",
              "2     0.0  \n",
              "3     2.0  \n",
              "4     0.0  "
            ],
            "text/html": [
              "\n",
              "  <div id=\"df-c45af2f9-f790-4d40-8bac-4a244bfe1dc8\">\n",
              "    <div class=\"colab-df-container\">\n",
              "      <div>\n",
              "<style scoped>\n",
              "    .dataframe tbody tr th:only-of-type {\n",
              "        vertical-align: middle;\n",
              "    }\n",
              "\n",
              "    .dataframe tbody tr th {\n",
              "        vertical-align: top;\n",
              "    }\n",
              "\n",
              "    .dataframe thead th {\n",
              "        text-align: right;\n",
              "    }\n",
              "</style>\n",
              "<table border=\"1\" class=\"dataframe\">\n",
              "  <thead>\n",
              "    <tr style=\"text-align: right;\">\n",
              "      <th></th>\n",
              "      <th>Survived</th>\n",
              "      <th>Pclass</th>\n",
              "      <th>Name</th>\n",
              "      <th>Sex</th>\n",
              "      <th>Age</th>\n",
              "      <th>SibSp</th>\n",
              "      <th>Parch</th>\n",
              "      <th>Ticket</th>\n",
              "      <th>Fare</th>\n",
              "      <th>Embarked</th>\n",
              "      <th>Crianca_Adulto</th>\n",
              "      <th>AgeIn</th>\n",
              "      <th>FareIn</th>\n",
              "    </tr>\n",
              "  </thead>\n",
              "  <tbody>\n",
              "    <tr>\n",
              "      <th>0</th>\n",
              "      <td>0</td>\n",
              "      <td>3</td>\n",
              "      <td>Braund, Mr. Owen Harris</td>\n",
              "      <td>1</td>\n",
              "      <td>22.0</td>\n",
              "      <td>1</td>\n",
              "      <td>0</td>\n",
              "      <td>522</td>\n",
              "      <td>7.2500</td>\n",
              "      <td>2</td>\n",
              "      <td>Adulto</td>\n",
              "      <td>Adulto Jovem</td>\n",
              "      <td>0.0</td>\n",
              "    </tr>\n",
              "    <tr>\n",
              "      <th>1</th>\n",
              "      <td>1</td>\n",
              "      <td>1</td>\n",
              "      <td>Cumings, Mrs. John Bradley (Florence Briggs Th...</td>\n",
              "      <td>0</td>\n",
              "      <td>38.0</td>\n",
              "      <td>1</td>\n",
              "      <td>0</td>\n",
              "      <td>595</td>\n",
              "      <td>71.2833</td>\n",
              "      <td>0</td>\n",
              "      <td>Adulto</td>\n",
              "      <td>Adulto</td>\n",
              "      <td>2.0</td>\n",
              "    </tr>\n",
              "    <tr>\n",
              "      <th>2</th>\n",
              "      <td>1</td>\n",
              "      <td>3</td>\n",
              "      <td>Heikkinen, Miss. Laina</td>\n",
              "      <td>0</td>\n",
              "      <td>26.0</td>\n",
              "      <td>0</td>\n",
              "      <td>0</td>\n",
              "      <td>668</td>\n",
              "      <td>7.9250</td>\n",
              "      <td>2</td>\n",
              "      <td>Adulto</td>\n",
              "      <td>Adulto Jovem</td>\n",
              "      <td>0.0</td>\n",
              "    </tr>\n",
              "    <tr>\n",
              "      <th>3</th>\n",
              "      <td>1</td>\n",
              "      <td>1</td>\n",
              "      <td>Futrelle, Mrs. Jacques Heath (Lily May Peel)</td>\n",
              "      <td>0</td>\n",
              "      <td>35.0</td>\n",
              "      <td>1</td>\n",
              "      <td>0</td>\n",
              "      <td>48</td>\n",
              "      <td>53.1000</td>\n",
              "      <td>2</td>\n",
              "      <td>Adulto</td>\n",
              "      <td>Adulto</td>\n",
              "      <td>2.0</td>\n",
              "    </tr>\n",
              "    <tr>\n",
              "      <th>4</th>\n",
              "      <td>0</td>\n",
              "      <td>3</td>\n",
              "      <td>Allen, Mr. William Henry</td>\n",
              "      <td>1</td>\n",
              "      <td>35.0</td>\n",
              "      <td>0</td>\n",
              "      <td>0</td>\n",
              "      <td>471</td>\n",
              "      <td>8.0500</td>\n",
              "      <td>2</td>\n",
              "      <td>Adulto</td>\n",
              "      <td>Adulto</td>\n",
              "      <td>0.0</td>\n",
              "    </tr>\n",
              "  </tbody>\n",
              "</table>\n",
              "</div>\n",
              "      <button class=\"colab-df-convert\" onclick=\"convertToInteractive('df-c45af2f9-f790-4d40-8bac-4a244bfe1dc8')\"\n",
              "              title=\"Convert this dataframe to an interactive table.\"\n",
              "              style=\"display:none;\">\n",
              "        \n",
              "  <svg xmlns=\"http://www.w3.org/2000/svg\" height=\"24px\"viewBox=\"0 0 24 24\"\n",
              "       width=\"24px\">\n",
              "    <path d=\"M0 0h24v24H0V0z\" fill=\"none\"/>\n",
              "    <path d=\"M18.56 5.44l.94 2.06.94-2.06 2.06-.94-2.06-.94-.94-2.06-.94 2.06-2.06.94zm-11 1L8.5 8.5l.94-2.06 2.06-.94-2.06-.94L8.5 2.5l-.94 2.06-2.06.94zm10 10l.94 2.06.94-2.06 2.06-.94-2.06-.94-.94-2.06-.94 2.06-2.06.94z\"/><path d=\"M17.41 7.96l-1.37-1.37c-.4-.4-.92-.59-1.43-.59-.52 0-1.04.2-1.43.59L10.3 9.45l-7.72 7.72c-.78.78-.78 2.05 0 2.83L4 21.41c.39.39.9.59 1.41.59.51 0 1.02-.2 1.41-.59l7.78-7.78 2.81-2.81c.8-.78.8-2.07 0-2.86zM5.41 20L4 18.59l7.72-7.72 1.47 1.35L5.41 20z\"/>\n",
              "  </svg>\n",
              "      </button>\n",
              "      \n",
              "  <style>\n",
              "    .colab-df-container {\n",
              "      display:flex;\n",
              "      flex-wrap:wrap;\n",
              "      gap: 12px;\n",
              "    }\n",
              "\n",
              "    .colab-df-convert {\n",
              "      background-color: #E8F0FE;\n",
              "      border: none;\n",
              "      border-radius: 50%;\n",
              "      cursor: pointer;\n",
              "      display: none;\n",
              "      fill: #1967D2;\n",
              "      height: 32px;\n",
              "      padding: 0 0 0 0;\n",
              "      width: 32px;\n",
              "    }\n",
              "\n",
              "    .colab-df-convert:hover {\n",
              "      background-color: #E2EBFA;\n",
              "      box-shadow: 0px 1px 2px rgba(60, 64, 67, 0.3), 0px 1px 3px 1px rgba(60, 64, 67, 0.15);\n",
              "      fill: #174EA6;\n",
              "    }\n",
              "\n",
              "    [theme=dark] .colab-df-convert {\n",
              "      background-color: #3B4455;\n",
              "      fill: #D2E3FC;\n",
              "    }\n",
              "\n",
              "    [theme=dark] .colab-df-convert:hover {\n",
              "      background-color: #434B5C;\n",
              "      box-shadow: 0px 1px 3px 1px rgba(0, 0, 0, 0.15);\n",
              "      filter: drop-shadow(0px 1px 2px rgba(0, 0, 0, 0.3));\n",
              "      fill: #FFFFFF;\n",
              "    }\n",
              "  </style>\n",
              "\n",
              "      <script>\n",
              "        const buttonEl =\n",
              "          document.querySelector('#df-c45af2f9-f790-4d40-8bac-4a244bfe1dc8 button.colab-df-convert');\n",
              "        buttonEl.style.display =\n",
              "          google.colab.kernel.accessAllowed ? 'block' : 'none';\n",
              "\n",
              "        async function convertToInteractive(key) {\n",
              "          const element = document.querySelector('#df-c45af2f9-f790-4d40-8bac-4a244bfe1dc8');\n",
              "          const dataTable =\n",
              "            await google.colab.kernel.invokeFunction('convertToInteractive',\n",
              "                                                     [key], {});\n",
              "          if (!dataTable) return;\n",
              "\n",
              "          const docLinkHtml = 'Like what you see? Visit the ' +\n",
              "            '<a target=\"_blank\" href=https://colab.research.google.com/notebooks/data_table.ipynb>data table notebook</a>'\n",
              "            + ' to learn more about interactive tables.';\n",
              "          element.innerHTML = '';\n",
              "          dataTable['output_type'] = 'display_data';\n",
              "          await google.colab.output.renderOutput(dataTable, element);\n",
              "          const docLink = document.createElement('div');\n",
              "          docLink.innerHTML = docLinkHtml;\n",
              "          element.appendChild(docLink);\n",
              "        }\n",
              "      </script>\n",
              "    </div>\n",
              "  </div>\n",
              "  "
            ]
          },
          "metadata": {},
          "execution_count": 31
        }
      ]
    },
    {
      "cell_type": "code",
      "source": [
        "df_train"
      ],
      "metadata": {
        "colab": {
          "base_uri": "https://localhost:8080/",
          "height": 423
        },
        "id": "J_FIvN47qqQj",
        "outputId": "1e420080-2d3a-4736-fc16-e7da811f2358"
      },
      "execution_count": null,
      "outputs": [
        {
          "output_type": "execute_result",
          "data": {
            "text/plain": [
              "     Survived  Pclass                                               Name  Sex  \\\n",
              "0           0       3                            Braund, Mr. Owen Harris    1   \n",
              "1           1       1  Cumings, Mrs. John Bradley (Florence Briggs Th...    0   \n",
              "2           1       3                             Heikkinen, Miss. Laina    0   \n",
              "3           1       1       Futrelle, Mrs. Jacques Heath (Lily May Peel)    0   \n",
              "4           0       3                           Allen, Mr. William Henry    1   \n",
              "..        ...     ...                                                ...  ...   \n",
              "886         0       2                              Montvila, Rev. Juozas    1   \n",
              "887         1       1                       Graham, Miss. Margaret Edith    0   \n",
              "888         0       3           Johnston, Miss. Catherine Helen \"Carrie\"    0   \n",
              "889         1       1                              Behr, Mr. Karl Howell    1   \n",
              "890         0       3                                Dooley, Mr. Patrick    1   \n",
              "\n",
              "      Age  SibSp  Parch  Ticket     Fare  Embarked Crianca_Adulto  \\\n",
              "0    22.0      1      0     522   7.2500         2         Adulto   \n",
              "1    38.0      1      0     595  71.2833         0         Adulto   \n",
              "2    26.0      0      0     668   7.9250         2         Adulto   \n",
              "3    35.0      1      0      48  53.1000         2         Adulto   \n",
              "4    35.0      0      0     471   8.0500         2         Adulto   \n",
              "..    ...    ...    ...     ...      ...       ...            ...   \n",
              "886  27.0      0      0     100  13.0000         2         Adulto   \n",
              "887  19.0      0      0      14  30.0000         2         Adulto   \n",
              "888   NaN      1      2     674  23.4500         2              0   \n",
              "889  26.0      0      0       8  30.0000         0         Adulto   \n",
              "890  32.0      0      0     465   7.7500         1         Adulto   \n",
              "\n",
              "            AgeIn  FareIn  \n",
              "0    Adulto Jovem     0.0  \n",
              "1          Adulto     2.0  \n",
              "2    Adulto Jovem     0.0  \n",
              "3          Adulto     2.0  \n",
              "4          Adulto     0.0  \n",
              "..            ...     ...  \n",
              "886  Adulto Jovem     0.0  \n",
              "887  Adulto Jovem     1.0  \n",
              "888         Idoso     0.0  \n",
              "889  Adulto Jovem     1.0  \n",
              "890        Adulto     0.0  \n",
              "\n",
              "[889 rows x 13 columns]"
            ],
            "text/html": [
              "\n",
              "  <div id=\"df-574c4c97-e8c8-40e8-8274-6576b2840996\">\n",
              "    <div class=\"colab-df-container\">\n",
              "      <div>\n",
              "<style scoped>\n",
              "    .dataframe tbody tr th:only-of-type {\n",
              "        vertical-align: middle;\n",
              "    }\n",
              "\n",
              "    .dataframe tbody tr th {\n",
              "        vertical-align: top;\n",
              "    }\n",
              "\n",
              "    .dataframe thead th {\n",
              "        text-align: right;\n",
              "    }\n",
              "</style>\n",
              "<table border=\"1\" class=\"dataframe\">\n",
              "  <thead>\n",
              "    <tr style=\"text-align: right;\">\n",
              "      <th></th>\n",
              "      <th>Survived</th>\n",
              "      <th>Pclass</th>\n",
              "      <th>Name</th>\n",
              "      <th>Sex</th>\n",
              "      <th>Age</th>\n",
              "      <th>SibSp</th>\n",
              "      <th>Parch</th>\n",
              "      <th>Ticket</th>\n",
              "      <th>Fare</th>\n",
              "      <th>Embarked</th>\n",
              "      <th>Crianca_Adulto</th>\n",
              "      <th>AgeIn</th>\n",
              "      <th>FareIn</th>\n",
              "    </tr>\n",
              "  </thead>\n",
              "  <tbody>\n",
              "    <tr>\n",
              "      <th>0</th>\n",
              "      <td>0</td>\n",
              "      <td>3</td>\n",
              "      <td>Braund, Mr. Owen Harris</td>\n",
              "      <td>1</td>\n",
              "      <td>22.0</td>\n",
              "      <td>1</td>\n",
              "      <td>0</td>\n",
              "      <td>522</td>\n",
              "      <td>7.2500</td>\n",
              "      <td>2</td>\n",
              "      <td>Adulto</td>\n",
              "      <td>Adulto Jovem</td>\n",
              "      <td>0.0</td>\n",
              "    </tr>\n",
              "    <tr>\n",
              "      <th>1</th>\n",
              "      <td>1</td>\n",
              "      <td>1</td>\n",
              "      <td>Cumings, Mrs. John Bradley (Florence Briggs Th...</td>\n",
              "      <td>0</td>\n",
              "      <td>38.0</td>\n",
              "      <td>1</td>\n",
              "      <td>0</td>\n",
              "      <td>595</td>\n",
              "      <td>71.2833</td>\n",
              "      <td>0</td>\n",
              "      <td>Adulto</td>\n",
              "      <td>Adulto</td>\n",
              "      <td>2.0</td>\n",
              "    </tr>\n",
              "    <tr>\n",
              "      <th>2</th>\n",
              "      <td>1</td>\n",
              "      <td>3</td>\n",
              "      <td>Heikkinen, Miss. Laina</td>\n",
              "      <td>0</td>\n",
              "      <td>26.0</td>\n",
              "      <td>0</td>\n",
              "      <td>0</td>\n",
              "      <td>668</td>\n",
              "      <td>7.9250</td>\n",
              "      <td>2</td>\n",
              "      <td>Adulto</td>\n",
              "      <td>Adulto Jovem</td>\n",
              "      <td>0.0</td>\n",
              "    </tr>\n",
              "    <tr>\n",
              "      <th>3</th>\n",
              "      <td>1</td>\n",
              "      <td>1</td>\n",
              "      <td>Futrelle, Mrs. Jacques Heath (Lily May Peel)</td>\n",
              "      <td>0</td>\n",
              "      <td>35.0</td>\n",
              "      <td>1</td>\n",
              "      <td>0</td>\n",
              "      <td>48</td>\n",
              "      <td>53.1000</td>\n",
              "      <td>2</td>\n",
              "      <td>Adulto</td>\n",
              "      <td>Adulto</td>\n",
              "      <td>2.0</td>\n",
              "    </tr>\n",
              "    <tr>\n",
              "      <th>4</th>\n",
              "      <td>0</td>\n",
              "      <td>3</td>\n",
              "      <td>Allen, Mr. William Henry</td>\n",
              "      <td>1</td>\n",
              "      <td>35.0</td>\n",
              "      <td>0</td>\n",
              "      <td>0</td>\n",
              "      <td>471</td>\n",
              "      <td>8.0500</td>\n",
              "      <td>2</td>\n",
              "      <td>Adulto</td>\n",
              "      <td>Adulto</td>\n",
              "      <td>0.0</td>\n",
              "    </tr>\n",
              "    <tr>\n",
              "      <th>...</th>\n",
              "      <td>...</td>\n",
              "      <td>...</td>\n",
              "      <td>...</td>\n",
              "      <td>...</td>\n",
              "      <td>...</td>\n",
              "      <td>...</td>\n",
              "      <td>...</td>\n",
              "      <td>...</td>\n",
              "      <td>...</td>\n",
              "      <td>...</td>\n",
              "      <td>...</td>\n",
              "      <td>...</td>\n",
              "      <td>...</td>\n",
              "    </tr>\n",
              "    <tr>\n",
              "      <th>886</th>\n",
              "      <td>0</td>\n",
              "      <td>2</td>\n",
              "      <td>Montvila, Rev. Juozas</td>\n",
              "      <td>1</td>\n",
              "      <td>27.0</td>\n",
              "      <td>0</td>\n",
              "      <td>0</td>\n",
              "      <td>100</td>\n",
              "      <td>13.0000</td>\n",
              "      <td>2</td>\n",
              "      <td>Adulto</td>\n",
              "      <td>Adulto Jovem</td>\n",
              "      <td>0.0</td>\n",
              "    </tr>\n",
              "    <tr>\n",
              "      <th>887</th>\n",
              "      <td>1</td>\n",
              "      <td>1</td>\n",
              "      <td>Graham, Miss. Margaret Edith</td>\n",
              "      <td>0</td>\n",
              "      <td>19.0</td>\n",
              "      <td>0</td>\n",
              "      <td>0</td>\n",
              "      <td>14</td>\n",
              "      <td>30.0000</td>\n",
              "      <td>2</td>\n",
              "      <td>Adulto</td>\n",
              "      <td>Adulto Jovem</td>\n",
              "      <td>1.0</td>\n",
              "    </tr>\n",
              "    <tr>\n",
              "      <th>888</th>\n",
              "      <td>0</td>\n",
              "      <td>3</td>\n",
              "      <td>Johnston, Miss. Catherine Helen \"Carrie\"</td>\n",
              "      <td>0</td>\n",
              "      <td>NaN</td>\n",
              "      <td>1</td>\n",
              "      <td>2</td>\n",
              "      <td>674</td>\n",
              "      <td>23.4500</td>\n",
              "      <td>2</td>\n",
              "      <td>0</td>\n",
              "      <td>Idoso</td>\n",
              "      <td>0.0</td>\n",
              "    </tr>\n",
              "    <tr>\n",
              "      <th>889</th>\n",
              "      <td>1</td>\n",
              "      <td>1</td>\n",
              "      <td>Behr, Mr. Karl Howell</td>\n",
              "      <td>1</td>\n",
              "      <td>26.0</td>\n",
              "      <td>0</td>\n",
              "      <td>0</td>\n",
              "      <td>8</td>\n",
              "      <td>30.0000</td>\n",
              "      <td>0</td>\n",
              "      <td>Adulto</td>\n",
              "      <td>Adulto Jovem</td>\n",
              "      <td>1.0</td>\n",
              "    </tr>\n",
              "    <tr>\n",
              "      <th>890</th>\n",
              "      <td>0</td>\n",
              "      <td>3</td>\n",
              "      <td>Dooley, Mr. Patrick</td>\n",
              "      <td>1</td>\n",
              "      <td>32.0</td>\n",
              "      <td>0</td>\n",
              "      <td>0</td>\n",
              "      <td>465</td>\n",
              "      <td>7.7500</td>\n",
              "      <td>1</td>\n",
              "      <td>Adulto</td>\n",
              "      <td>Adulto</td>\n",
              "      <td>0.0</td>\n",
              "    </tr>\n",
              "  </tbody>\n",
              "</table>\n",
              "<p>889 rows × 13 columns</p>\n",
              "</div>\n",
              "      <button class=\"colab-df-convert\" onclick=\"convertToInteractive('df-574c4c97-e8c8-40e8-8274-6576b2840996')\"\n",
              "              title=\"Convert this dataframe to an interactive table.\"\n",
              "              style=\"display:none;\">\n",
              "        \n",
              "  <svg xmlns=\"http://www.w3.org/2000/svg\" height=\"24px\"viewBox=\"0 0 24 24\"\n",
              "       width=\"24px\">\n",
              "    <path d=\"M0 0h24v24H0V0z\" fill=\"none\"/>\n",
              "    <path d=\"M18.56 5.44l.94 2.06.94-2.06 2.06-.94-2.06-.94-.94-2.06-.94 2.06-2.06.94zm-11 1L8.5 8.5l.94-2.06 2.06-.94-2.06-.94L8.5 2.5l-.94 2.06-2.06.94zm10 10l.94 2.06.94-2.06 2.06-.94-2.06-.94-.94-2.06-.94 2.06-2.06.94z\"/><path d=\"M17.41 7.96l-1.37-1.37c-.4-.4-.92-.59-1.43-.59-.52 0-1.04.2-1.43.59L10.3 9.45l-7.72 7.72c-.78.78-.78 2.05 0 2.83L4 21.41c.39.39.9.59 1.41.59.51 0 1.02-.2 1.41-.59l7.78-7.78 2.81-2.81c.8-.78.8-2.07 0-2.86zM5.41 20L4 18.59l7.72-7.72 1.47 1.35L5.41 20z\"/>\n",
              "  </svg>\n",
              "      </button>\n",
              "      \n",
              "  <style>\n",
              "    .colab-df-container {\n",
              "      display:flex;\n",
              "      flex-wrap:wrap;\n",
              "      gap: 12px;\n",
              "    }\n",
              "\n",
              "    .colab-df-convert {\n",
              "      background-color: #E8F0FE;\n",
              "      border: none;\n",
              "      border-radius: 50%;\n",
              "      cursor: pointer;\n",
              "      display: none;\n",
              "      fill: #1967D2;\n",
              "      height: 32px;\n",
              "      padding: 0 0 0 0;\n",
              "      width: 32px;\n",
              "    }\n",
              "\n",
              "    .colab-df-convert:hover {\n",
              "      background-color: #E2EBFA;\n",
              "      box-shadow: 0px 1px 2px rgba(60, 64, 67, 0.3), 0px 1px 3px 1px rgba(60, 64, 67, 0.15);\n",
              "      fill: #174EA6;\n",
              "    }\n",
              "\n",
              "    [theme=dark] .colab-df-convert {\n",
              "      background-color: #3B4455;\n",
              "      fill: #D2E3FC;\n",
              "    }\n",
              "\n",
              "    [theme=dark] .colab-df-convert:hover {\n",
              "      background-color: #434B5C;\n",
              "      box-shadow: 0px 1px 3px 1px rgba(0, 0, 0, 0.15);\n",
              "      filter: drop-shadow(0px 1px 2px rgba(0, 0, 0, 0.3));\n",
              "      fill: #FFFFFF;\n",
              "    }\n",
              "  </style>\n",
              "\n",
              "      <script>\n",
              "        const buttonEl =\n",
              "          document.querySelector('#df-574c4c97-e8c8-40e8-8274-6576b2840996 button.colab-df-convert');\n",
              "        buttonEl.style.display =\n",
              "          google.colab.kernel.accessAllowed ? 'block' : 'none';\n",
              "\n",
              "        async function convertToInteractive(key) {\n",
              "          const element = document.querySelector('#df-574c4c97-e8c8-40e8-8274-6576b2840996');\n",
              "          const dataTable =\n",
              "            await google.colab.kernel.invokeFunction('convertToInteractive',\n",
              "                                                     [key], {});\n",
              "          if (!dataTable) return;\n",
              "\n",
              "          const docLinkHtml = 'Like what you see? Visit the ' +\n",
              "            '<a target=\"_blank\" href=https://colab.research.google.com/notebooks/data_table.ipynb>data table notebook</a>'\n",
              "            + ' to learn more about interactive tables.';\n",
              "          element.innerHTML = '';\n",
              "          dataTable['output_type'] = 'display_data';\n",
              "          await google.colab.output.renderOutput(dataTable, element);\n",
              "          const docLink = document.createElement('div');\n",
              "          docLink.innerHTML = docLinkHtml;\n",
              "          element.appendChild(docLink);\n",
              "        }\n",
              "      </script>\n",
              "    </div>\n",
              "  </div>\n",
              "  "
            ]
          },
          "metadata": {},
          "execution_count": 32
        }
      ]
    },
    {
      "cell_type": "code",
      "source": [
        "df_train.corr()"
      ],
      "metadata": {
        "colab": {
          "base_uri": "https://localhost:8080/",
          "height": 331
        },
        "id": "DKMR_7N3u-o5",
        "outputId": "7910032b-b458-4274-8098-2917af5c6148"
      },
      "execution_count": null,
      "outputs": [
        {
          "output_type": "execute_result",
          "data": {
            "text/plain": [
              "          Survived    Pclass       Sex       Age     SibSp     Parch  \\\n",
              "Survived  1.000000 -0.335549 -0.541585 -0.082446 -0.034040  0.083151   \n",
              "Pclass   -0.335549  1.000000  0.127741 -0.365902  0.081656  0.016824   \n",
              "Sex      -0.541585  0.127741  1.000000  0.099037 -0.116348 -0.247508   \n",
              "Age      -0.082446 -0.365902  0.099037  1.000000 -0.307351 -0.187896   \n",
              "SibSp    -0.034040  0.081656 -0.116348 -0.307351  1.000000  0.414542   \n",
              "Parch     0.083151  0.016824 -0.247508 -0.187896  0.414542  1.000000   \n",
              "Ticket   -0.160931  0.315959  0.055024 -0.070458  0.077995  0.018409   \n",
              "Fare      0.255290 -0.548193 -0.179958  0.093143  0.160887  0.217532   \n",
              "Embarked -0.169718  0.164681  0.110320 -0.032565  0.068900  0.040449   \n",
              "\n",
              "            Ticket      Fare  Embarked  \n",
              "Survived -0.160931  0.255290 -0.169718  \n",
              "Pclass    0.315959 -0.548193  0.164681  \n",
              "Sex       0.055024 -0.179958  0.110320  \n",
              "Age      -0.070458  0.093143 -0.032565  \n",
              "SibSp     0.077995  0.160887  0.068900  \n",
              "Parch     0.018409  0.217532  0.040449  \n",
              "Ticket    1.000000 -0.010562  0.000271  \n",
              "Fare     -0.010562  1.000000 -0.226311  \n",
              "Embarked  0.000271 -0.226311  1.000000  "
            ],
            "text/html": [
              "\n",
              "  <div id=\"df-dc35e393-9d3f-4e65-b75a-fe41ec1947ac\">\n",
              "    <div class=\"colab-df-container\">\n",
              "      <div>\n",
              "<style scoped>\n",
              "    .dataframe tbody tr th:only-of-type {\n",
              "        vertical-align: middle;\n",
              "    }\n",
              "\n",
              "    .dataframe tbody tr th {\n",
              "        vertical-align: top;\n",
              "    }\n",
              "\n",
              "    .dataframe thead th {\n",
              "        text-align: right;\n",
              "    }\n",
              "</style>\n",
              "<table border=\"1\" class=\"dataframe\">\n",
              "  <thead>\n",
              "    <tr style=\"text-align: right;\">\n",
              "      <th></th>\n",
              "      <th>Survived</th>\n",
              "      <th>Pclass</th>\n",
              "      <th>Sex</th>\n",
              "      <th>Age</th>\n",
              "      <th>SibSp</th>\n",
              "      <th>Parch</th>\n",
              "      <th>Ticket</th>\n",
              "      <th>Fare</th>\n",
              "      <th>Embarked</th>\n",
              "    </tr>\n",
              "  </thead>\n",
              "  <tbody>\n",
              "    <tr>\n",
              "      <th>Survived</th>\n",
              "      <td>1.000000</td>\n",
              "      <td>-0.335549</td>\n",
              "      <td>-0.541585</td>\n",
              "      <td>-0.082446</td>\n",
              "      <td>-0.034040</td>\n",
              "      <td>0.083151</td>\n",
              "      <td>-0.160931</td>\n",
              "      <td>0.255290</td>\n",
              "      <td>-0.169718</td>\n",
              "    </tr>\n",
              "    <tr>\n",
              "      <th>Pclass</th>\n",
              "      <td>-0.335549</td>\n",
              "      <td>1.000000</td>\n",
              "      <td>0.127741</td>\n",
              "      <td>-0.365902</td>\n",
              "      <td>0.081656</td>\n",
              "      <td>0.016824</td>\n",
              "      <td>0.315959</td>\n",
              "      <td>-0.548193</td>\n",
              "      <td>0.164681</td>\n",
              "    </tr>\n",
              "    <tr>\n",
              "      <th>Sex</th>\n",
              "      <td>-0.541585</td>\n",
              "      <td>0.127741</td>\n",
              "      <td>1.000000</td>\n",
              "      <td>0.099037</td>\n",
              "      <td>-0.116348</td>\n",
              "      <td>-0.247508</td>\n",
              "      <td>0.055024</td>\n",
              "      <td>-0.179958</td>\n",
              "      <td>0.110320</td>\n",
              "    </tr>\n",
              "    <tr>\n",
              "      <th>Age</th>\n",
              "      <td>-0.082446</td>\n",
              "      <td>-0.365902</td>\n",
              "      <td>0.099037</td>\n",
              "      <td>1.000000</td>\n",
              "      <td>-0.307351</td>\n",
              "      <td>-0.187896</td>\n",
              "      <td>-0.070458</td>\n",
              "      <td>0.093143</td>\n",
              "      <td>-0.032565</td>\n",
              "    </tr>\n",
              "    <tr>\n",
              "      <th>SibSp</th>\n",
              "      <td>-0.034040</td>\n",
              "      <td>0.081656</td>\n",
              "      <td>-0.116348</td>\n",
              "      <td>-0.307351</td>\n",
              "      <td>1.000000</td>\n",
              "      <td>0.414542</td>\n",
              "      <td>0.077995</td>\n",
              "      <td>0.160887</td>\n",
              "      <td>0.068900</td>\n",
              "    </tr>\n",
              "    <tr>\n",
              "      <th>Parch</th>\n",
              "      <td>0.083151</td>\n",
              "      <td>0.016824</td>\n",
              "      <td>-0.247508</td>\n",
              "      <td>-0.187896</td>\n",
              "      <td>0.414542</td>\n",
              "      <td>1.000000</td>\n",
              "      <td>0.018409</td>\n",
              "      <td>0.217532</td>\n",
              "      <td>0.040449</td>\n",
              "    </tr>\n",
              "    <tr>\n",
              "      <th>Ticket</th>\n",
              "      <td>-0.160931</td>\n",
              "      <td>0.315959</td>\n",
              "      <td>0.055024</td>\n",
              "      <td>-0.070458</td>\n",
              "      <td>0.077995</td>\n",
              "      <td>0.018409</td>\n",
              "      <td>1.000000</td>\n",
              "      <td>-0.010562</td>\n",
              "      <td>0.000271</td>\n",
              "    </tr>\n",
              "    <tr>\n",
              "      <th>Fare</th>\n",
              "      <td>0.255290</td>\n",
              "      <td>-0.548193</td>\n",
              "      <td>-0.179958</td>\n",
              "      <td>0.093143</td>\n",
              "      <td>0.160887</td>\n",
              "      <td>0.217532</td>\n",
              "      <td>-0.010562</td>\n",
              "      <td>1.000000</td>\n",
              "      <td>-0.226311</td>\n",
              "    </tr>\n",
              "    <tr>\n",
              "      <th>Embarked</th>\n",
              "      <td>-0.169718</td>\n",
              "      <td>0.164681</td>\n",
              "      <td>0.110320</td>\n",
              "      <td>-0.032565</td>\n",
              "      <td>0.068900</td>\n",
              "      <td>0.040449</td>\n",
              "      <td>0.000271</td>\n",
              "      <td>-0.226311</td>\n",
              "      <td>1.000000</td>\n",
              "    </tr>\n",
              "  </tbody>\n",
              "</table>\n",
              "</div>\n",
              "      <button class=\"colab-df-convert\" onclick=\"convertToInteractive('df-dc35e393-9d3f-4e65-b75a-fe41ec1947ac')\"\n",
              "              title=\"Convert this dataframe to an interactive table.\"\n",
              "              style=\"display:none;\">\n",
              "        \n",
              "  <svg xmlns=\"http://www.w3.org/2000/svg\" height=\"24px\"viewBox=\"0 0 24 24\"\n",
              "       width=\"24px\">\n",
              "    <path d=\"M0 0h24v24H0V0z\" fill=\"none\"/>\n",
              "    <path d=\"M18.56 5.44l.94 2.06.94-2.06 2.06-.94-2.06-.94-.94-2.06-.94 2.06-2.06.94zm-11 1L8.5 8.5l.94-2.06 2.06-.94-2.06-.94L8.5 2.5l-.94 2.06-2.06.94zm10 10l.94 2.06.94-2.06 2.06-.94-2.06-.94-.94-2.06-.94 2.06-2.06.94z\"/><path d=\"M17.41 7.96l-1.37-1.37c-.4-.4-.92-.59-1.43-.59-.52 0-1.04.2-1.43.59L10.3 9.45l-7.72 7.72c-.78.78-.78 2.05 0 2.83L4 21.41c.39.39.9.59 1.41.59.51 0 1.02-.2 1.41-.59l7.78-7.78 2.81-2.81c.8-.78.8-2.07 0-2.86zM5.41 20L4 18.59l7.72-7.72 1.47 1.35L5.41 20z\"/>\n",
              "  </svg>\n",
              "      </button>\n",
              "      \n",
              "  <style>\n",
              "    .colab-df-container {\n",
              "      display:flex;\n",
              "      flex-wrap:wrap;\n",
              "      gap: 12px;\n",
              "    }\n",
              "\n",
              "    .colab-df-convert {\n",
              "      background-color: #E8F0FE;\n",
              "      border: none;\n",
              "      border-radius: 50%;\n",
              "      cursor: pointer;\n",
              "      display: none;\n",
              "      fill: #1967D2;\n",
              "      height: 32px;\n",
              "      padding: 0 0 0 0;\n",
              "      width: 32px;\n",
              "    }\n",
              "\n",
              "    .colab-df-convert:hover {\n",
              "      background-color: #E2EBFA;\n",
              "      box-shadow: 0px 1px 2px rgba(60, 64, 67, 0.3), 0px 1px 3px 1px rgba(60, 64, 67, 0.15);\n",
              "      fill: #174EA6;\n",
              "    }\n",
              "\n",
              "    [theme=dark] .colab-df-convert {\n",
              "      background-color: #3B4455;\n",
              "      fill: #D2E3FC;\n",
              "    }\n",
              "\n",
              "    [theme=dark] .colab-df-convert:hover {\n",
              "      background-color: #434B5C;\n",
              "      box-shadow: 0px 1px 3px 1px rgba(0, 0, 0, 0.15);\n",
              "      filter: drop-shadow(0px 1px 2px rgba(0, 0, 0, 0.3));\n",
              "      fill: #FFFFFF;\n",
              "    }\n",
              "  </style>\n",
              "\n",
              "      <script>\n",
              "        const buttonEl =\n",
              "          document.querySelector('#df-dc35e393-9d3f-4e65-b75a-fe41ec1947ac button.colab-df-convert');\n",
              "        buttonEl.style.display =\n",
              "          google.colab.kernel.accessAllowed ? 'block' : 'none';\n",
              "\n",
              "        async function convertToInteractive(key) {\n",
              "          const element = document.querySelector('#df-dc35e393-9d3f-4e65-b75a-fe41ec1947ac');\n",
              "          const dataTable =\n",
              "            await google.colab.kernel.invokeFunction('convertToInteractive',\n",
              "                                                     [key], {});\n",
              "          if (!dataTable) return;\n",
              "\n",
              "          const docLinkHtml = 'Like what you see? Visit the ' +\n",
              "            '<a target=\"_blank\" href=https://colab.research.google.com/notebooks/data_table.ipynb>data table notebook</a>'\n",
              "            + ' to learn more about interactive tables.';\n",
              "          element.innerHTML = '';\n",
              "          dataTable['output_type'] = 'display_data';\n",
              "          await google.colab.output.renderOutput(dataTable, element);\n",
              "          const docLink = document.createElement('div');\n",
              "          docLink.innerHTML = docLinkHtml;\n",
              "          element.appendChild(docLink);\n",
              "        }\n",
              "      </script>\n",
              "    </div>\n",
              "  </div>\n",
              "  "
            ]
          },
          "metadata": {},
          "execution_count": 44
        }
      ]
    },
    {
      "cell_type": "markdown",
      "source": [
        "## Criar coluna 'Title'"
      ],
      "metadata": {
        "id": "yylMGXWPpye5"
      }
    },
    {
      "cell_type": "code",
      "source": [
        "titles = {\"Mr\": \"Mr\", \"Miss\": \"Miss\", \"Mrs\": \"Mrs\", \"Master\": \"Master\", \"Rare\": \"Rare\"}\n",
        "\n",
        "# extraindo os titulos\n",
        "df_train['Title'] = df_train.Name.str.extract(' ([A-Za-z]+)\\.', expand=False)"
      ],
      "metadata": {
        "id": "oVGcO40sEyX7"
      },
      "execution_count": null,
      "outputs": []
    },
    {
      "cell_type": "code",
      "source": [
        "df_train.head()"
      ],
      "metadata": {
        "colab": {
          "base_uri": "https://localhost:8080/",
          "height": 250
        },
        "id": "LK3l_6ArItHZ",
        "outputId": "1c46abce-dd45-4cb5-8015-628ea74efc2d"
      },
      "execution_count": null,
      "outputs": [
        {
          "output_type": "execute_result",
          "data": {
            "text/plain": [
              "   Survived  Pclass                                               Name  Sex  \\\n",
              "0         0       3                            Braund, Mr. Owen Harris    1   \n",
              "1         1       1  Cumings, Mrs. John Bradley (Florence Briggs Th...    0   \n",
              "2         1       3                             Heikkinen, Miss. Laina    0   \n",
              "3         1       1       Futrelle, Mrs. Jacques Heath (Lily May Peel)    0   \n",
              "4         0       3                           Allen, Mr. William Henry    1   \n",
              "\n",
              "    Age  SibSp  Parch  Ticket     Fare  Embarked Crianca_Adulto         AgeIn  \\\n",
              "0  22.0      1      0     522   7.2500         2         Adulto  Adulto Jovem   \n",
              "1  38.0      1      0     595  71.2833         0         Adulto        Adulto   \n",
              "2  26.0      0      0     668   7.9250         2         Adulto  Adulto Jovem   \n",
              "3  35.0      1      0      48  53.1000         2         Adulto        Adulto   \n",
              "4  35.0      0      0     471   8.0500         2         Adulto        Adulto   \n",
              "\n",
              "   FareIn Title  \n",
              "0     0.0    Mr  \n",
              "1     2.0   Mrs  \n",
              "2     0.0  Miss  \n",
              "3     2.0   Mrs  \n",
              "4     0.0    Mr  "
            ],
            "text/html": [
              "\n",
              "  <div id=\"df-36d699ef-df2e-4faa-a27a-1411a069beca\">\n",
              "    <div class=\"colab-df-container\">\n",
              "      <div>\n",
              "<style scoped>\n",
              "    .dataframe tbody tr th:only-of-type {\n",
              "        vertical-align: middle;\n",
              "    }\n",
              "\n",
              "    .dataframe tbody tr th {\n",
              "        vertical-align: top;\n",
              "    }\n",
              "\n",
              "    .dataframe thead th {\n",
              "        text-align: right;\n",
              "    }\n",
              "</style>\n",
              "<table border=\"1\" class=\"dataframe\">\n",
              "  <thead>\n",
              "    <tr style=\"text-align: right;\">\n",
              "      <th></th>\n",
              "      <th>Survived</th>\n",
              "      <th>Pclass</th>\n",
              "      <th>Name</th>\n",
              "      <th>Sex</th>\n",
              "      <th>Age</th>\n",
              "      <th>SibSp</th>\n",
              "      <th>Parch</th>\n",
              "      <th>Ticket</th>\n",
              "      <th>Fare</th>\n",
              "      <th>Embarked</th>\n",
              "      <th>Crianca_Adulto</th>\n",
              "      <th>AgeIn</th>\n",
              "      <th>FareIn</th>\n",
              "      <th>Title</th>\n",
              "    </tr>\n",
              "  </thead>\n",
              "  <tbody>\n",
              "    <tr>\n",
              "      <th>0</th>\n",
              "      <td>0</td>\n",
              "      <td>3</td>\n",
              "      <td>Braund, Mr. Owen Harris</td>\n",
              "      <td>1</td>\n",
              "      <td>22.0</td>\n",
              "      <td>1</td>\n",
              "      <td>0</td>\n",
              "      <td>522</td>\n",
              "      <td>7.2500</td>\n",
              "      <td>2</td>\n",
              "      <td>Adulto</td>\n",
              "      <td>Adulto Jovem</td>\n",
              "      <td>0.0</td>\n",
              "      <td>Mr</td>\n",
              "    </tr>\n",
              "    <tr>\n",
              "      <th>1</th>\n",
              "      <td>1</td>\n",
              "      <td>1</td>\n",
              "      <td>Cumings, Mrs. John Bradley (Florence Briggs Th...</td>\n",
              "      <td>0</td>\n",
              "      <td>38.0</td>\n",
              "      <td>1</td>\n",
              "      <td>0</td>\n",
              "      <td>595</td>\n",
              "      <td>71.2833</td>\n",
              "      <td>0</td>\n",
              "      <td>Adulto</td>\n",
              "      <td>Adulto</td>\n",
              "      <td>2.0</td>\n",
              "      <td>Mrs</td>\n",
              "    </tr>\n",
              "    <tr>\n",
              "      <th>2</th>\n",
              "      <td>1</td>\n",
              "      <td>3</td>\n",
              "      <td>Heikkinen, Miss. Laina</td>\n",
              "      <td>0</td>\n",
              "      <td>26.0</td>\n",
              "      <td>0</td>\n",
              "      <td>0</td>\n",
              "      <td>668</td>\n",
              "      <td>7.9250</td>\n",
              "      <td>2</td>\n",
              "      <td>Adulto</td>\n",
              "      <td>Adulto Jovem</td>\n",
              "      <td>0.0</td>\n",
              "      <td>Miss</td>\n",
              "    </tr>\n",
              "    <tr>\n",
              "      <th>3</th>\n",
              "      <td>1</td>\n",
              "      <td>1</td>\n",
              "      <td>Futrelle, Mrs. Jacques Heath (Lily May Peel)</td>\n",
              "      <td>0</td>\n",
              "      <td>35.0</td>\n",
              "      <td>1</td>\n",
              "      <td>0</td>\n",
              "      <td>48</td>\n",
              "      <td>53.1000</td>\n",
              "      <td>2</td>\n",
              "      <td>Adulto</td>\n",
              "      <td>Adulto</td>\n",
              "      <td>2.0</td>\n",
              "      <td>Mrs</td>\n",
              "    </tr>\n",
              "    <tr>\n",
              "      <th>4</th>\n",
              "      <td>0</td>\n",
              "      <td>3</td>\n",
              "      <td>Allen, Mr. William Henry</td>\n",
              "      <td>1</td>\n",
              "      <td>35.0</td>\n",
              "      <td>0</td>\n",
              "      <td>0</td>\n",
              "      <td>471</td>\n",
              "      <td>8.0500</td>\n",
              "      <td>2</td>\n",
              "      <td>Adulto</td>\n",
              "      <td>Adulto</td>\n",
              "      <td>0.0</td>\n",
              "      <td>Mr</td>\n",
              "    </tr>\n",
              "  </tbody>\n",
              "</table>\n",
              "</div>\n",
              "      <button class=\"colab-df-convert\" onclick=\"convertToInteractive('df-36d699ef-df2e-4faa-a27a-1411a069beca')\"\n",
              "              title=\"Convert this dataframe to an interactive table.\"\n",
              "              style=\"display:none;\">\n",
              "        \n",
              "  <svg xmlns=\"http://www.w3.org/2000/svg\" height=\"24px\"viewBox=\"0 0 24 24\"\n",
              "       width=\"24px\">\n",
              "    <path d=\"M0 0h24v24H0V0z\" fill=\"none\"/>\n",
              "    <path d=\"M18.56 5.44l.94 2.06.94-2.06 2.06-.94-2.06-.94-.94-2.06-.94 2.06-2.06.94zm-11 1L8.5 8.5l.94-2.06 2.06-.94-2.06-.94L8.5 2.5l-.94 2.06-2.06.94zm10 10l.94 2.06.94-2.06 2.06-.94-2.06-.94-.94-2.06-.94 2.06-2.06.94z\"/><path d=\"M17.41 7.96l-1.37-1.37c-.4-.4-.92-.59-1.43-.59-.52 0-1.04.2-1.43.59L10.3 9.45l-7.72 7.72c-.78.78-.78 2.05 0 2.83L4 21.41c.39.39.9.59 1.41.59.51 0 1.02-.2 1.41-.59l7.78-7.78 2.81-2.81c.8-.78.8-2.07 0-2.86zM5.41 20L4 18.59l7.72-7.72 1.47 1.35L5.41 20z\"/>\n",
              "  </svg>\n",
              "      </button>\n",
              "      \n",
              "  <style>\n",
              "    .colab-df-container {\n",
              "      display:flex;\n",
              "      flex-wrap:wrap;\n",
              "      gap: 12px;\n",
              "    }\n",
              "\n",
              "    .colab-df-convert {\n",
              "      background-color: #E8F0FE;\n",
              "      border: none;\n",
              "      border-radius: 50%;\n",
              "      cursor: pointer;\n",
              "      display: none;\n",
              "      fill: #1967D2;\n",
              "      height: 32px;\n",
              "      padding: 0 0 0 0;\n",
              "      width: 32px;\n",
              "    }\n",
              "\n",
              "    .colab-df-convert:hover {\n",
              "      background-color: #E2EBFA;\n",
              "      box-shadow: 0px 1px 2px rgba(60, 64, 67, 0.3), 0px 1px 3px 1px rgba(60, 64, 67, 0.15);\n",
              "      fill: #174EA6;\n",
              "    }\n",
              "\n",
              "    [theme=dark] .colab-df-convert {\n",
              "      background-color: #3B4455;\n",
              "      fill: #D2E3FC;\n",
              "    }\n",
              "\n",
              "    [theme=dark] .colab-df-convert:hover {\n",
              "      background-color: #434B5C;\n",
              "      box-shadow: 0px 1px 3px 1px rgba(0, 0, 0, 0.15);\n",
              "      filter: drop-shadow(0px 1px 2px rgba(0, 0, 0, 0.3));\n",
              "      fill: #FFFFFF;\n",
              "    }\n",
              "  </style>\n",
              "\n",
              "      <script>\n",
              "        const buttonEl =\n",
              "          document.querySelector('#df-36d699ef-df2e-4faa-a27a-1411a069beca button.colab-df-convert');\n",
              "        buttonEl.style.display =\n",
              "          google.colab.kernel.accessAllowed ? 'block' : 'none';\n",
              "\n",
              "        async function convertToInteractive(key) {\n",
              "          const element = document.querySelector('#df-36d699ef-df2e-4faa-a27a-1411a069beca');\n",
              "          const dataTable =\n",
              "            await google.colab.kernel.invokeFunction('convertToInteractive',\n",
              "                                                     [key], {});\n",
              "          if (!dataTable) return;\n",
              "\n",
              "          const docLinkHtml = 'Like what you see? Visit the ' +\n",
              "            '<a target=\"_blank\" href=https://colab.research.google.com/notebooks/data_table.ipynb>data table notebook</a>'\n",
              "            + ' to learn more about interactive tables.';\n",
              "          element.innerHTML = '';\n",
              "          dataTable['output_type'] = 'display_data';\n",
              "          await google.colab.output.renderOutput(dataTable, element);\n",
              "          const docLink = document.createElement('div');\n",
              "          docLink.innerHTML = docLinkHtml;\n",
              "          element.appendChild(docLink);\n",
              "        }\n",
              "      </script>\n",
              "    </div>\n",
              "  </div>\n",
              "  "
            ]
          },
          "metadata": {},
          "execution_count": 34
        }
      ]
    },
    {
      "cell_type": "code",
      "source": [
        "df_train['Title'].value_counts()"
      ],
      "metadata": {
        "colab": {
          "base_uri": "https://localhost:8080/"
        },
        "id": "R8_Gnq9ptJMi",
        "outputId": "cda724a3-ed2d-42ff-fbb1-17fcad658623"
      },
      "execution_count": null,
      "outputs": [
        {
          "output_type": "execute_result",
          "data": {
            "text/plain": [
              "Mr          517\n",
              "Miss        181\n",
              "Mrs         124\n",
              "Master       40\n",
              "Dr            7\n",
              "Rev           6\n",
              "Mlle          2\n",
              "Major         2\n",
              "Col           2\n",
              "Countess      1\n",
              "Capt          1\n",
              "Ms            1\n",
              "Sir           1\n",
              "Lady          1\n",
              "Mme           1\n",
              "Don           1\n",
              "Jonkheer      1\n",
              "Name: Title, dtype: int64"
            ]
          },
          "metadata": {},
          "execution_count": 35
        }
      ]
    },
    {
      "cell_type": "code",
      "source": [
        "# substituir títulos com um título mais comum ou como Rare\n",
        "df_train['Title'] = df_train['Title'].replace(['Lady', 'Countess','Capt', 'Col','Don', 'Dr',\\\n",
        "                                        'Major', 'Rev', 'Sir', 'Jonkheer', 'Dona'], 'Rare')\n",
        "df_train['Title'] = df_train['Title'].replace('Mlle', 'Miss')\n",
        "df_train['Title'] = df_train['Title'].replace('Ms', 'Miss')\n",
        "df_train['Title'] = df_train['Title'].replace('Mme', 'Mrs')\n"
      ],
      "metadata": {
        "id": "LePjsQqvIm8Y"
      },
      "execution_count": null,
      "outputs": []
    },
    {
      "cell_type": "code",
      "source": [
        "df_train"
      ],
      "metadata": {
        "colab": {
          "base_uri": "https://localhost:8080/",
          "height": 571
        },
        "id": "LHN86FnGI7pY",
        "outputId": "1f897f44-64f3-45cb-a2fc-c8c0b6f903df"
      },
      "execution_count": null,
      "outputs": [
        {
          "output_type": "execute_result",
          "data": {
            "text/plain": [
              "     Survived  Pclass                                               Name  Sex  \\\n",
              "0           0       3                            Braund, Mr. Owen Harris    1   \n",
              "1           1       1  Cumings, Mrs. John Bradley (Florence Briggs Th...    0   \n",
              "2           1       3                             Heikkinen, Miss. Laina    0   \n",
              "3           1       1       Futrelle, Mrs. Jacques Heath (Lily May Peel)    0   \n",
              "4           0       3                           Allen, Mr. William Henry    1   \n",
              "..        ...     ...                                                ...  ...   \n",
              "886         0       2                              Montvila, Rev. Juozas    1   \n",
              "887         1       1                       Graham, Miss. Margaret Edith    0   \n",
              "888         0       3           Johnston, Miss. Catherine Helen \"Carrie\"    0   \n",
              "889         1       1                              Behr, Mr. Karl Howell    1   \n",
              "890         0       3                                Dooley, Mr. Patrick    1   \n",
              "\n",
              "           Age  SibSp  Parch  Ticket     Fare  Embarked Crianca_Adulto  \\\n",
              "0    22.000000      1      0     522   7.2500         2         Adulto   \n",
              "1    38.000000      1      0     595  71.2833         0         Adulto   \n",
              "2    26.000000      0      0     668   7.9250         2         Adulto   \n",
              "3    35.000000      1      0      48  53.1000         2         Adulto   \n",
              "4    35.000000      0      0     471   8.0500         2         Adulto   \n",
              "..         ...    ...    ...     ...      ...       ...            ...   \n",
              "886  27.000000      0      0     100  13.0000         2         Adulto   \n",
              "887  19.000000      0      0      14  30.0000         2         Adulto   \n",
              "888  21.736486      1      2     674  23.4500         2              0   \n",
              "889  26.000000      0      0       8  30.0000         0         Adulto   \n",
              "890  32.000000      0      0     465   7.7500         1         Adulto   \n",
              "\n",
              "            AgeIn  FareIn Title  \n",
              "0    Adulto Jovem     0.0    Mr  \n",
              "1          Adulto     2.0   Mrs  \n",
              "2    Adulto Jovem     0.0  Miss  \n",
              "3          Adulto     2.0   Mrs  \n",
              "4          Adulto     0.0    Mr  \n",
              "..            ...     ...   ...  \n",
              "886  Adulto Jovem     0.0  Rare  \n",
              "887  Adulto Jovem     1.0  Miss  \n",
              "888         Idoso     0.0  Miss  \n",
              "889  Adulto Jovem     1.0    Mr  \n",
              "890        Adulto     0.0    Mr  \n",
              "\n",
              "[889 rows x 14 columns]"
            ],
            "text/html": [
              "\n",
              "  <div id=\"df-c5757b50-eef2-49f9-aa74-26242ee6e7b1\">\n",
              "    <div class=\"colab-df-container\">\n",
              "      <div>\n",
              "<style scoped>\n",
              "    .dataframe tbody tr th:only-of-type {\n",
              "        vertical-align: middle;\n",
              "    }\n",
              "\n",
              "    .dataframe tbody tr th {\n",
              "        vertical-align: top;\n",
              "    }\n",
              "\n",
              "    .dataframe thead th {\n",
              "        text-align: right;\n",
              "    }\n",
              "</style>\n",
              "<table border=\"1\" class=\"dataframe\">\n",
              "  <thead>\n",
              "    <tr style=\"text-align: right;\">\n",
              "      <th></th>\n",
              "      <th>Survived</th>\n",
              "      <th>Pclass</th>\n",
              "      <th>Name</th>\n",
              "      <th>Sex</th>\n",
              "      <th>Age</th>\n",
              "      <th>SibSp</th>\n",
              "      <th>Parch</th>\n",
              "      <th>Ticket</th>\n",
              "      <th>Fare</th>\n",
              "      <th>Embarked</th>\n",
              "      <th>Crianca_Adulto</th>\n",
              "      <th>AgeIn</th>\n",
              "      <th>FareIn</th>\n",
              "      <th>Title</th>\n",
              "    </tr>\n",
              "  </thead>\n",
              "  <tbody>\n",
              "    <tr>\n",
              "      <th>0</th>\n",
              "      <td>0</td>\n",
              "      <td>3</td>\n",
              "      <td>Braund, Mr. Owen Harris</td>\n",
              "      <td>1</td>\n",
              "      <td>22.000000</td>\n",
              "      <td>1</td>\n",
              "      <td>0</td>\n",
              "      <td>522</td>\n",
              "      <td>7.2500</td>\n",
              "      <td>2</td>\n",
              "      <td>Adulto</td>\n",
              "      <td>Adulto Jovem</td>\n",
              "      <td>0.0</td>\n",
              "      <td>Mr</td>\n",
              "    </tr>\n",
              "    <tr>\n",
              "      <th>1</th>\n",
              "      <td>1</td>\n",
              "      <td>1</td>\n",
              "      <td>Cumings, Mrs. John Bradley (Florence Briggs Th...</td>\n",
              "      <td>0</td>\n",
              "      <td>38.000000</td>\n",
              "      <td>1</td>\n",
              "      <td>0</td>\n",
              "      <td>595</td>\n",
              "      <td>71.2833</td>\n",
              "      <td>0</td>\n",
              "      <td>Adulto</td>\n",
              "      <td>Adulto</td>\n",
              "      <td>2.0</td>\n",
              "      <td>Mrs</td>\n",
              "    </tr>\n",
              "    <tr>\n",
              "      <th>2</th>\n",
              "      <td>1</td>\n",
              "      <td>3</td>\n",
              "      <td>Heikkinen, Miss. Laina</td>\n",
              "      <td>0</td>\n",
              "      <td>26.000000</td>\n",
              "      <td>0</td>\n",
              "      <td>0</td>\n",
              "      <td>668</td>\n",
              "      <td>7.9250</td>\n",
              "      <td>2</td>\n",
              "      <td>Adulto</td>\n",
              "      <td>Adulto Jovem</td>\n",
              "      <td>0.0</td>\n",
              "      <td>Miss</td>\n",
              "    </tr>\n",
              "    <tr>\n",
              "      <th>3</th>\n",
              "      <td>1</td>\n",
              "      <td>1</td>\n",
              "      <td>Futrelle, Mrs. Jacques Heath (Lily May Peel)</td>\n",
              "      <td>0</td>\n",
              "      <td>35.000000</td>\n",
              "      <td>1</td>\n",
              "      <td>0</td>\n",
              "      <td>48</td>\n",
              "      <td>53.1000</td>\n",
              "      <td>2</td>\n",
              "      <td>Adulto</td>\n",
              "      <td>Adulto</td>\n",
              "      <td>2.0</td>\n",
              "      <td>Mrs</td>\n",
              "    </tr>\n",
              "    <tr>\n",
              "      <th>4</th>\n",
              "      <td>0</td>\n",
              "      <td>3</td>\n",
              "      <td>Allen, Mr. William Henry</td>\n",
              "      <td>1</td>\n",
              "      <td>35.000000</td>\n",
              "      <td>0</td>\n",
              "      <td>0</td>\n",
              "      <td>471</td>\n",
              "      <td>8.0500</td>\n",
              "      <td>2</td>\n",
              "      <td>Adulto</td>\n",
              "      <td>Adulto</td>\n",
              "      <td>0.0</td>\n",
              "      <td>Mr</td>\n",
              "    </tr>\n",
              "    <tr>\n",
              "      <th>...</th>\n",
              "      <td>...</td>\n",
              "      <td>...</td>\n",
              "      <td>...</td>\n",
              "      <td>...</td>\n",
              "      <td>...</td>\n",
              "      <td>...</td>\n",
              "      <td>...</td>\n",
              "      <td>...</td>\n",
              "      <td>...</td>\n",
              "      <td>...</td>\n",
              "      <td>...</td>\n",
              "      <td>...</td>\n",
              "      <td>...</td>\n",
              "      <td>...</td>\n",
              "    </tr>\n",
              "    <tr>\n",
              "      <th>886</th>\n",
              "      <td>0</td>\n",
              "      <td>2</td>\n",
              "      <td>Montvila, Rev. Juozas</td>\n",
              "      <td>1</td>\n",
              "      <td>27.000000</td>\n",
              "      <td>0</td>\n",
              "      <td>0</td>\n",
              "      <td>100</td>\n",
              "      <td>13.0000</td>\n",
              "      <td>2</td>\n",
              "      <td>Adulto</td>\n",
              "      <td>Adulto Jovem</td>\n",
              "      <td>0.0</td>\n",
              "      <td>Rare</td>\n",
              "    </tr>\n",
              "    <tr>\n",
              "      <th>887</th>\n",
              "      <td>1</td>\n",
              "      <td>1</td>\n",
              "      <td>Graham, Miss. Margaret Edith</td>\n",
              "      <td>0</td>\n",
              "      <td>19.000000</td>\n",
              "      <td>0</td>\n",
              "      <td>0</td>\n",
              "      <td>14</td>\n",
              "      <td>30.0000</td>\n",
              "      <td>2</td>\n",
              "      <td>Adulto</td>\n",
              "      <td>Adulto Jovem</td>\n",
              "      <td>1.0</td>\n",
              "      <td>Miss</td>\n",
              "    </tr>\n",
              "    <tr>\n",
              "      <th>888</th>\n",
              "      <td>0</td>\n",
              "      <td>3</td>\n",
              "      <td>Johnston, Miss. Catherine Helen \"Carrie\"</td>\n",
              "      <td>0</td>\n",
              "      <td>21.736486</td>\n",
              "      <td>1</td>\n",
              "      <td>2</td>\n",
              "      <td>674</td>\n",
              "      <td>23.4500</td>\n",
              "      <td>2</td>\n",
              "      <td>0</td>\n",
              "      <td>Idoso</td>\n",
              "      <td>0.0</td>\n",
              "      <td>Miss</td>\n",
              "    </tr>\n",
              "    <tr>\n",
              "      <th>889</th>\n",
              "      <td>1</td>\n",
              "      <td>1</td>\n",
              "      <td>Behr, Mr. Karl Howell</td>\n",
              "      <td>1</td>\n",
              "      <td>26.000000</td>\n",
              "      <td>0</td>\n",
              "      <td>0</td>\n",
              "      <td>8</td>\n",
              "      <td>30.0000</td>\n",
              "      <td>0</td>\n",
              "      <td>Adulto</td>\n",
              "      <td>Adulto Jovem</td>\n",
              "      <td>1.0</td>\n",
              "      <td>Mr</td>\n",
              "    </tr>\n",
              "    <tr>\n",
              "      <th>890</th>\n",
              "      <td>0</td>\n",
              "      <td>3</td>\n",
              "      <td>Dooley, Mr. Patrick</td>\n",
              "      <td>1</td>\n",
              "      <td>32.000000</td>\n",
              "      <td>0</td>\n",
              "      <td>0</td>\n",
              "      <td>465</td>\n",
              "      <td>7.7500</td>\n",
              "      <td>1</td>\n",
              "      <td>Adulto</td>\n",
              "      <td>Adulto</td>\n",
              "      <td>0.0</td>\n",
              "      <td>Mr</td>\n",
              "    </tr>\n",
              "  </tbody>\n",
              "</table>\n",
              "<p>889 rows × 14 columns</p>\n",
              "</div>\n",
              "      <button class=\"colab-df-convert\" onclick=\"convertToInteractive('df-c5757b50-eef2-49f9-aa74-26242ee6e7b1')\"\n",
              "              title=\"Convert this dataframe to an interactive table.\"\n",
              "              style=\"display:none;\">\n",
              "        \n",
              "  <svg xmlns=\"http://www.w3.org/2000/svg\" height=\"24px\"viewBox=\"0 0 24 24\"\n",
              "       width=\"24px\">\n",
              "    <path d=\"M0 0h24v24H0V0z\" fill=\"none\"/>\n",
              "    <path d=\"M18.56 5.44l.94 2.06.94-2.06 2.06-.94-2.06-.94-.94-2.06-.94 2.06-2.06.94zm-11 1L8.5 8.5l.94-2.06 2.06-.94-2.06-.94L8.5 2.5l-.94 2.06-2.06.94zm10 10l.94 2.06.94-2.06 2.06-.94-2.06-.94-.94-2.06-.94 2.06-2.06.94z\"/><path d=\"M17.41 7.96l-1.37-1.37c-.4-.4-.92-.59-1.43-.59-.52 0-1.04.2-1.43.59L10.3 9.45l-7.72 7.72c-.78.78-.78 2.05 0 2.83L4 21.41c.39.39.9.59 1.41.59.51 0 1.02-.2 1.41-.59l7.78-7.78 2.81-2.81c.8-.78.8-2.07 0-2.86zM5.41 20L4 18.59l7.72-7.72 1.47 1.35L5.41 20z\"/>\n",
              "  </svg>\n",
              "      </button>\n",
              "      \n",
              "  <style>\n",
              "    .colab-df-container {\n",
              "      display:flex;\n",
              "      flex-wrap:wrap;\n",
              "      gap: 12px;\n",
              "    }\n",
              "\n",
              "    .colab-df-convert {\n",
              "      background-color: #E8F0FE;\n",
              "      border: none;\n",
              "      border-radius: 50%;\n",
              "      cursor: pointer;\n",
              "      display: none;\n",
              "      fill: #1967D2;\n",
              "      height: 32px;\n",
              "      padding: 0 0 0 0;\n",
              "      width: 32px;\n",
              "    }\n",
              "\n",
              "    .colab-df-convert:hover {\n",
              "      background-color: #E2EBFA;\n",
              "      box-shadow: 0px 1px 2px rgba(60, 64, 67, 0.3), 0px 1px 3px 1px rgba(60, 64, 67, 0.15);\n",
              "      fill: #174EA6;\n",
              "    }\n",
              "\n",
              "    [theme=dark] .colab-df-convert {\n",
              "      background-color: #3B4455;\n",
              "      fill: #D2E3FC;\n",
              "    }\n",
              "\n",
              "    [theme=dark] .colab-df-convert:hover {\n",
              "      background-color: #434B5C;\n",
              "      box-shadow: 0px 1px 3px 1px rgba(0, 0, 0, 0.15);\n",
              "      filter: drop-shadow(0px 1px 2px rgba(0, 0, 0, 0.3));\n",
              "      fill: #FFFFFF;\n",
              "    }\n",
              "  </style>\n",
              "\n",
              "      <script>\n",
              "        const buttonEl =\n",
              "          document.querySelector('#df-c5757b50-eef2-49f9-aa74-26242ee6e7b1 button.colab-df-convert');\n",
              "        buttonEl.style.display =\n",
              "          google.colab.kernel.accessAllowed ? 'block' : 'none';\n",
              "\n",
              "        async function convertToInteractive(key) {\n",
              "          const element = document.querySelector('#df-c5757b50-eef2-49f9-aa74-26242ee6e7b1');\n",
              "          const dataTable =\n",
              "            await google.colab.kernel.invokeFunction('convertToInteractive',\n",
              "                                                     [key], {});\n",
              "          if (!dataTable) return;\n",
              "\n",
              "          const docLinkHtml = 'Like what you see? Visit the ' +\n",
              "            '<a target=\"_blank\" href=https://colab.research.google.com/notebooks/data_table.ipynb>data table notebook</a>'\n",
              "            + ' to learn more about interactive tables.';\n",
              "          element.innerHTML = '';\n",
              "          dataTable['output_type'] = 'display_data';\n",
              "          await google.colab.output.renderOutput(dataTable, element);\n",
              "          const docLink = document.createElement('div');\n",
              "          docLink.innerHTML = docLinkHtml;\n",
              "          element.appendChild(docLink);\n",
              "        }\n",
              "      </script>\n",
              "    </div>\n",
              "  </div>\n",
              "  "
            ]
          },
          "metadata": {},
          "execution_count": 41
        }
      ]
    },
    {
      "cell_type": "code",
      "source": [
        "df_train.isnull().sum()"
      ],
      "metadata": {
        "colab": {
          "base_uri": "https://localhost:8080/"
        },
        "id": "XJG5BBM1JTzt",
        "outputId": "f12628bb-9564-4e12-f38d-f4ccaf4bb504"
      },
      "execution_count": null,
      "outputs": [
        {
          "output_type": "execute_result",
          "data": {
            "text/plain": [
              "Survived          0\n",
              "Pclass            0\n",
              "Name              0\n",
              "Sex               0\n",
              "Age               0\n",
              "SibSp             0\n",
              "Parch             0\n",
              "Ticket            0\n",
              "Fare              0\n",
              "Embarked          0\n",
              "Crianca_Adulto    0\n",
              "AgeIn             0\n",
              "FareIn            0\n",
              "Title             0\n",
              "dtype: int64"
            ]
          },
          "metadata": {},
          "execution_count": 42
        }
      ]
    },
    {
      "cell_type": "code",
      "source": [
        "#SUBSTITUIR VALOR NULO DE AGE POR OUTRO VALOR DEPENDENDO DO TITLE CRIADO\n",
        "\n",
        "#interrows() - retorna tuplas com índice e série\n",
        "for index, row in df_train.iterrows():\n",
        "  if(pd.isna(row['Age'])):\n",
        "    df_train.loc[index, 'Age'] = df_train.groupby('Title')['Age'].mean()[row['Title']]\n"
      ],
      "metadata": {
        "id": "WB5UdE_kE3aS"
      },
      "execution_count": null,
      "outputs": []
    },
    {
      "cell_type": "code",
      "source": [
        "X1.isnull().sum()"
      ],
      "metadata": {
        "colab": {
          "base_uri": "https://localhost:8080/"
        },
        "id": "Wf3XIDOVPkLg",
        "outputId": "3a1bd614-b4c0-4dd9-cc49-9f63a60d47fe"
      },
      "execution_count": null,
      "outputs": [
        {
          "output_type": "execute_result",
          "data": {
            "text/plain": [
              "PassengerId         0\n",
              "Survived            0\n",
              "Pclass              0\n",
              "Name                0\n",
              "Sex                 0\n",
              "Age               177\n",
              "SibSp               0\n",
              "Parch               0\n",
              "Ticket              0\n",
              "Fare                0\n",
              "Cabin             687\n",
              "Embarked            2\n",
              "Crianca_Adulto      0\n",
              "AgeIn               0\n",
              "FareIn              0\n",
              "dtype: int64"
            ]
          },
          "metadata": {},
          "execution_count": 39
        }
      ]
    }
  ]
}